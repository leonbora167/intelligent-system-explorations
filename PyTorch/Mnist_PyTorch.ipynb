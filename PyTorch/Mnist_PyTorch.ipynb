{
 "cells": [
  {
   "cell_type": "code",
   "execution_count": 1,
   "id": "999bbca6-f7b9-406f-99d8-8bd46b69df0a",
   "metadata": {},
   "outputs": [
    {
     "name": "stderr",
     "output_type": "stream",
     "text": [
      "C:\\Users\\prish\\Desktop\\dl_1\\env\\lib\\site-packages\\tqdm\\auto.py:22: TqdmWarning: IProgress not found. Please update jupyter and ipywidgets. See https://ipywidgets.readthedocs.io/en/stable/user_install.html\n",
      "  from .autonotebook import tqdm as notebook_tqdm\n"
     ]
    }
   ],
   "source": [
    "import numpy as np\n",
    "import pandas as pd\n",
    "import torch\n",
    "import matplotlib.pyplot as plt\n",
    "from sklearn.preprocessing import OneHotEncoder\n",
    "import math\n",
    "import torchvision"
   ]
  },
  {
   "cell_type": "markdown",
   "id": "7bba7eb0-4590-480a-abf5-f51596b3ec47",
   "metadata": {
    "tags": []
   },
   "source": [
    "# Data Preparation"
   ]
  },
  {
   "cell_type": "code",
   "execution_count": 2,
   "id": "64d9c0b3-7b56-4fa8-8b13-0abc8a74d2ff",
   "metadata": {},
   "outputs": [],
   "source": [
    "df = pd.read_csv(\"train.csv\")"
   ]
  },
  {
   "cell_type": "code",
   "execution_count": 3,
   "id": "5336cc57-b7f9-497e-a7ec-d209c95286a7",
   "metadata": {},
   "outputs": [
    {
     "name": "stdout",
     "output_type": "stream",
     "text": [
      "<class 'pandas.core.frame.DataFrame'>\n",
      "RangeIndex: 42000 entries, 0 to 41999\n",
      "Columns: 785 entries, label to pixel783\n",
      "dtypes: int64(785)\n",
      "memory usage: 251.5 MB\n"
     ]
    }
   ],
   "source": [
    "df.info()"
   ]
  },
  {
   "cell_type": "code",
   "execution_count": 4,
   "id": "234b976c-3756-413e-8546-d085a347d138",
   "metadata": {},
   "outputs": [
    {
     "data": {
      "text/plain": [
       "Index(['label', 'pixel0', 'pixel1', 'pixel2', 'pixel3', 'pixel4', 'pixel5',\n",
       "       'pixel6', 'pixel7', 'pixel8',\n",
       "       ...\n",
       "       'pixel774', 'pixel775', 'pixel776', 'pixel777', 'pixel778', 'pixel779',\n",
       "       'pixel780', 'pixel781', 'pixel782', 'pixel783'],\n",
       "      dtype='object', length=785)"
      ]
     },
     "execution_count": 4,
     "metadata": {},
     "output_type": "execute_result"
    }
   ],
   "source": [
    "df.columns"
   ]
  },
  {
   "cell_type": "code",
   "execution_count": 5,
   "id": "d5ea997a-e28d-4ce9-b9c0-feae2e568d9a",
   "metadata": {},
   "outputs": [],
   "source": [
    "labels = df.label\n",
    "del df[\"label\"]"
   ]
  },
  {
   "cell_type": "code",
   "execution_count": 6,
   "id": "dedc22a7-95e4-4e12-ac08-23a8323e92ae",
   "metadata": {},
   "outputs": [
    {
     "data": {
      "text/plain": [
       "42000"
      ]
     },
     "execution_count": 6,
     "metadata": {},
     "output_type": "execute_result"
    }
   ],
   "source": [
    "len(df)"
   ]
  },
  {
   "cell_type": "code",
   "execution_count": 7,
   "id": "15d428cc-e9cf-4d3f-8d6d-9970507bf2cc",
   "metadata": {},
   "outputs": [],
   "source": [
    "from torch.utils.data import Dataset"
   ]
  },
  {
   "cell_type": "code",
   "execution_count": 8,
   "id": "a2b8461a-0334-44f3-b995-7c9ea6679526",
   "metadata": {},
   "outputs": [],
   "source": [
    "class MNISTDataset(Dataset):\n",
    "    def __init__(self, data, transform=None, is_test=False):\n",
    "        self.dataset = data\n",
    "        self.transform = transform\n",
    "        self.is_test = is_test\n",
    "    def __len__(self):\n",
    "        return len(self.dataset)\n",
    "    def __getitem__(self, index):\n",
    "        if self.is_test:\n",
    "            data = self.dataset.iloc[index].to_numpy()\n",
    "            image = data.reshape(28,28)\n",
    "            label = None\n",
    "        else:\n",
    "            data = self.dataset.iloc[index].to_numpy()\n",
    "            image = data[1:].reshape(28,28)\n",
    "            label = data[0]\n",
    "        if self.transform is not None:\n",
    "            image = self.transform(image.astype(np.float32))\n",
    "        return image,label"
   ]
  },
  {
   "cell_type": "code",
   "execution_count": 9,
   "id": "da680807-b5c0-4709-a39c-92a99e3c69c1",
   "metadata": {},
   "outputs": [],
   "source": [
    "from torch.utils.data import DataLoader"
   ]
  },
  {
   "cell_type": "code",
   "execution_count": 10,
   "id": "3097c270-c03c-43d9-b02d-598c164449ea",
   "metadata": {},
   "outputs": [],
   "source": [
    "import torchvision"
   ]
  },
  {
   "cell_type": "code",
   "execution_count": 11,
   "id": "6355c19c-703b-4656-b007-ecd2f8e39e14",
   "metadata": {},
   "outputs": [],
   "source": [
    "df = pd.read_csv(\"train.csv\")\n",
    "train = MNISTDataset(df.iloc[:-5000],\n",
    "                     transform = torchvision.transforms.Compose([torchvision.transforms.ToPILImage(),\n",
    "                                                                 torchvision.transforms.ToTensor(),\n",
    "                                                                 torchvision.transforms.Normalize(mean=0.5, std=0.5)]))\n",
    "df = pd.read_csv(\"train.csv\")\n",
    "val = MNISTDataset(df.iloc[-5000:],\n",
    "                     transform = torchvision.transforms.Compose([torchvision.transforms.ToPILImage(),\n",
    "                                                                 torchvision.transforms.ToTensor(),\n",
    "                                                                 torchvision.transforms.Normalize(mean=0.5, std=0.5)]))"
   ]
  },
  {
   "cell_type": "code",
   "execution_count": 12,
   "id": "cc3703f7-7f1f-4e31-b51b-0c3f6d48e114",
   "metadata": {},
   "outputs": [],
   "source": [
    "train_loader = DataLoader(train, batch_size = 128, shuffle = True)\n",
    "val_loader = DataLoader(val, batch_size = 128, shuffle = True)"
   ]
  },
  {
   "cell_type": "code",
   "execution_count": 13,
   "id": "b56de879-5253-4b26-8e54-b43bf2b7e090",
   "metadata": {},
   "outputs": [
    {
     "data": {
      "text/plain": [
       "array([[1., 0., 0., 0.],\n",
       "       [0., 1., 0., 0.],\n",
       "       [0., 0., 1., 0.],\n",
       "       [0., 0., 0., 1.]])"
      ]
     },
     "execution_count": 13,
     "metadata": {},
     "output_type": "execute_result"
    }
   ],
   "source": [
    "ohe = OneHotEncoder()\n",
    "ohe.fit_transform(np.array([1,2,4,5]).reshape(-1,1)).toarray()"
   ]
  },
  {
   "cell_type": "markdown",
   "id": "d845e998-ef01-4c3f-8874-9b4cff3cc393",
   "metadata": {
    "tags": []
   },
   "source": [
    "# Model Training"
   ]
  },
  {
   "cell_type": "code",
   "execution_count": 16,
   "id": "55973f96-791c-42e9-ab16-8398dafaa4ec",
   "metadata": {},
   "outputs": [],
   "source": [
    "model = torch.nn.Sequential(\n",
    "    torch.nn.Flatten(),\n",
    "    torch.nn.Linear(784,128),\n",
    "    torch.nn.Linear(128,64),\n",
    "    torch.nn.Linear(64,32),\n",
    "    torch.nn.Linear(32,16),\n",
    "    torch.nn.Linear(16,10)\n",
    ")"
   ]
  },
  {
   "cell_type": "code",
   "execution_count": 17,
   "id": "5ddf3cd4-2b4f-4100-becc-404c07c6f54a",
   "metadata": {},
   "outputs": [
    {
     "name": "stdout",
     "output_type": "stream",
     "text": [
      "torch.Size([128, 1, 28, 28])\n"
     ]
    },
    {
     "data": {
      "text/plain": [
       "(torch.Size([128, 10]),\n",
       " tensor([2, 4, 3, 1, 1, 7, 8, 9, 4, 4, 6, 4, 7, 3, 9, 5, 4, 2, 0, 8, 4, 4, 9, 6,\n",
       "         3, 4, 5, 4, 5, 6, 9, 0, 1, 3, 3, 0, 5, 0, 4, 3, 1, 7, 5, 8, 3, 3, 9, 4,\n",
       "         5, 8, 4, 1, 1, 7, 2, 6, 9, 7, 2, 8, 6, 3, 2, 6, 7, 2, 9, 4, 8, 4, 2, 6,\n",
       "         0, 8, 5, 1, 1, 1, 3, 4, 1, 1, 7, 6, 1, 2, 2, 4, 1, 8, 9, 4, 3, 8, 5, 2,\n",
       "         2, 3, 5, 3, 9, 4, 5, 9, 6, 3, 2, 2, 5, 1, 8, 1, 0, 8, 1, 0, 0, 6, 9, 8,\n",
       "         1, 6, 4, 4, 8, 7, 9, 1]),\n",
       " torch.Size([128]))"
      ]
     },
     "execution_count": 17,
     "metadata": {},
     "output_type": "execute_result"
    }
   ],
   "source": [
    "images, labels = iter(train_loader).next()\n",
    "print(images.shape)\n",
    "model(images).shape, labels, labels.shape"
   ]
  },
  {
   "cell_type": "code",
   "execution_count": 18,
   "id": "04c785ad-9944-469b-a6b4-421bca03918b",
   "metadata": {},
   "outputs": [
    {
     "data": {
      "text/plain": [
       "<bound method Module.modules of Sequential(\n",
       "  (0): Flatten(start_dim=1, end_dim=-1)\n",
       "  (1): Linear(in_features=784, out_features=128, bias=True)\n",
       "  (2): Linear(in_features=128, out_features=64, bias=True)\n",
       "  (3): Linear(in_features=64, out_features=32, bias=True)\n",
       "  (4): Linear(in_features=32, out_features=16, bias=True)\n",
       "  (5): Linear(in_features=16, out_features=10, bias=True)\n",
       ")>"
      ]
     },
     "execution_count": 18,
     "metadata": {},
     "output_type": "execute_result"
    }
   ],
   "source": [
    "model.modules"
   ]
  },
  {
   "cell_type": "code",
   "execution_count": 19,
   "id": "9679e567-19eb-4a49-b527-903755210b13",
   "metadata": {},
   "outputs": [],
   "source": [
    "criterion = torch.nn.CrossEntropyLoss()\n",
    "optimizer = torch.optim.Adam(model.parameters(), lr=0.001)\n",
    "scheduler = torch.optim.lr_scheduler.StepLR(optimizer, step_size=2, gamma=0.7)"
   ]
  },
  {
   "cell_type": "code",
   "execution_count": 20,
   "id": "959114e8-3992-4bfe-b6d0-a2ea746a1dae",
   "metadata": {},
   "outputs": [
    {
     "name": "stdout",
     "output_type": "stream",
     "text": [
      "epoch - 0\n",
      "Test Accuracy:  0.8828125\n",
      "Train Accuracy:  0.8949622844827586\n",
      "Loss:  tensor(280.1507, grad_fn=<AddBackward0>)\n",
      "epoch - 1\n",
      "Test Accuracy:  0.9296875\n",
      "Train Accuracy:  0.8970096982758621\n",
      "Loss:  tensor(101.2897, grad_fn=<AddBackward0>)\n",
      "epoch - 2\n",
      "Test Accuracy:  0.8828125\n",
      "Train Accuracy:  0.9126077586206897\n",
      "Loss:  tensor(88.9011, grad_fn=<AddBackward0>)\n",
      "epoch - 3\n",
      "Test Accuracy:  0.90625\n",
      "Train Accuracy:  0.9079741379310344\n",
      "Loss:  tensor(90.0973, grad_fn=<AddBackward0>)\n",
      "epoch - 4\n",
      "Test Accuracy:  0.890625\n",
      "Train Accuracy:  0.9164331896551724\n",
      "Loss:  tensor(82.2015, grad_fn=<AddBackward0>)\n",
      "epoch - 5\n",
      "Test Accuracy:  0.890625\n",
      "Train Accuracy:  0.9224407327586207\n",
      "Loss:  tensor(82.7834, grad_fn=<AddBackward0>)\n",
      "epoch - 6\n",
      "Test Accuracy:  0.8984375\n",
      "Train Accuracy:  0.9331896551724138\n",
      "Loss:  tensor(76.2211, grad_fn=<AddBackward0>)\n",
      "epoch - 7\n",
      "Test Accuracy:  0.8984375\n",
      "Train Accuracy:  0.9278825431034483\n",
      "Loss:  tensor(75.3721, grad_fn=<AddBackward0>)\n",
      "epoch - 8\n",
      "Test Accuracy:  0.8671875\n",
      "Train Accuracy:  0.9308189655172414\n",
      "Loss:  tensor(71.6811, grad_fn=<AddBackward0>)\n",
      "epoch - 9\n",
      "Test Accuracy:  0.9375\n",
      "Train Accuracy:  0.9354256465517241\n",
      "Loss:  tensor(71.9642, grad_fn=<AddBackward0>)\n"
     ]
    }
   ],
   "source": [
    "lrs = []\n",
    "train_acc = []\n",
    "test_acc = []\n",
    "for epoch in range(10):\n",
    "    print(\"epoch -\", epoch)\n",
    "    epoch_loss = 0\n",
    "    batches = 0\n",
    "    for inputs, targets in train_loader:\n",
    "        optimizer.zero_grad()\n",
    "        batches+=1\n",
    "        outputs = model(inputs)\n",
    "        loss = criterion(outputs, targets)\n",
    "        epoch_loss += loss\n",
    "        loss.backward()\n",
    "        optimizer.step()\n",
    "    lrs.append(optimizer.param_groups[0][\"lr\"])\n",
    "    scheduler.step()\n",
    "    inputs, targets = iter(val_loader).next()\n",
    "    outputs = model(inputs).detach().numpy().argmax(axis=-1)\n",
    "    test_accuracy = (outputs==targets.numpy()).mean()\n",
    "    test_acc.append(test_accuracy)\n",
    "    print(\"Test Accuracy: \",test_accuracy)\n",
    "    train_accuracy = 0\n",
    "    for inputs, targets in train_loader:\n",
    "        outputs = model(inputs).detach().numpy().argmax(axis=-1)\n",
    "        train_accuracy += (outputs == targets.numpy()).mean()\n",
    "    train_accuracy /= batches\n",
    "    train_acc.append(train_accuracy)\n",
    "    print(\"Train Accuracy: \", train_accuracy)\n",
    "    print(\"Loss: \", epoch_loss)"
   ]
  },
  {
   "cell_type": "code",
   "execution_count": 21,
   "id": "14335917-4c9b-4527-94e6-3e443ff316e3",
   "metadata": {},
   "outputs": [
    {
     "data": {
      "text/plain": [
       "tensor([[ -4.8753,   0.6646,  -1.8146,   4.3340, -10.1956,  -1.2391,  -6.7318,\n",
       "          -2.3081,  -1.6416,  -4.2056],\n",
       "        [ -8.1922,  -5.7885,  -4.6612,   7.2678,  -6.4043,   1.6490,  -8.5827,\n",
       "          -6.0477,  -0.4185,  -1.4781],\n",
       "        [ -2.4506,  -4.3756,   0.7981,  -0.6423,   0.4233,   9.9111,   3.8110,\n",
       "          -8.8578,   6.5845,  -7.3321],\n",
       "        [ -8.3315,   5.9725,   0.4950,  -1.3706,  -8.2104,  -2.8327,  -2.8855,\n",
       "          -5.9034,   0.3826,  -4.4275],\n",
       "        [-21.8747, -23.9186, -13.4860,  -5.6601, -15.7301, -11.4073, -27.8159,\n",
       "           7.8751,  -7.0635,  -1.5498],\n",
       "        [-11.9751,  -5.1375,  -3.3706,  -3.0163,   3.8255,  -2.4130,  -3.6381,\n",
       "           0.1306,  -0.2386,   0.4720],\n",
       "        [  5.2861, -10.0916,   3.4206,   1.9962,  -0.5814,   2.0516,   3.6911,\n",
       "          -4.7442,   4.0035,   3.0251],\n",
       "        [-11.4260, -17.3729,  -2.7771,   6.0870, -18.7236,  -1.6676, -23.1804,\n",
       "         -15.2277,  -4.4227, -11.1405]], grad_fn=<AddmmBackward0>)"
      ]
     },
     "execution_count": 21,
     "metadata": {},
     "output_type": "execute_result"
    }
   ],
   "source": [
    "model(inputs)"
   ]
  },
  {
   "cell_type": "code",
   "execution_count": 28,
   "id": "8157ad64-54b3-4f24-8f84-c187fce8e08c",
   "metadata": {},
   "outputs": [
    {
     "data": {
      "text/plain": [
       "array([3, 3, 5, 1, 7, 4, 0, 3], dtype=int64)"
      ]
     },
     "execution_count": 28,
     "metadata": {},
     "output_type": "execute_result"
    }
   ],
   "source": [
    "outputs = model(inputs).detach().numpy().argmax(axis=-1)\n",
    "outputs"
   ]
  },
  {
   "cell_type": "code",
   "execution_count": 23,
   "id": "8d2f6076-53b6-4972-8cc6-88efe9fd9cf1",
   "metadata": {},
   "outputs": [
    {
     "data": {
      "text/plain": [
       "array([3, 3, 5, 1, 7, 4, 0, 3], dtype=int64)"
      ]
     },
     "execution_count": 23,
     "metadata": {},
     "output_type": "execute_result"
    }
   ],
   "source": [
    "targets.numpy()"
   ]
  },
  {
   "cell_type": "code",
   "execution_count": 154,
   "id": "40ca1cbc-b547-4492-957f-a3378e8b4b80",
   "metadata": {},
   "outputs": [
    {
     "data": {
      "text/plain": [
       "array([ True,  True,  True,  True,  True,  True,  True,  True,  True,\n",
       "        True,  True,  True,  True,  True,  True,  True,  True,  True,\n",
       "        True,  True,  True,  True,  True,  True,  True,  True, False,\n",
       "        True,  True,  True,  True,  True,  True,  True,  True,  True,\n",
       "        True, False,  True,  True,  True,  True, False,  True,  True,\n",
       "        True,  True,  True,  True,  True,  True, False, False,  True,\n",
       "        True,  True, False,  True,  True,  True,  True,  True,  True,\n",
       "        True,  True,  True,  True,  True,  True,  True,  True, False,\n",
       "        True,  True,  True,  True,  True,  True,  True,  True,  True,\n",
       "       False,  True,  True,  True,  True,  True,  True,  True,  True,\n",
       "        True,  True,  True,  True,  True,  True,  True,  True,  True,\n",
       "        True,  True,  True,  True,  True,  True,  True,  True, False,\n",
       "        True, False,  True,  True,  True,  True,  True,  True,  True,\n",
       "        True,  True,  True,  True, False,  True,  True,  True,  True,\n",
       "        True,  True])"
      ]
     },
     "execution_count": 154,
     "metadata": {},
     "output_type": "execute_result"
    }
   ],
   "source": [
    "outputs == targets.numpy()"
   ]
  },
  {
   "cell_type": "code",
   "execution_count": 48,
   "id": "3a5638a6-f47d-4724-88b5-3098534c023b",
   "metadata": {},
   "outputs": [
    {
     "data": {
      "text/plain": [
       "1.0"
      ]
     },
     "execution_count": 48,
     "metadata": {},
     "output_type": "execute_result"
    }
   ],
   "source": [
    "test_accuracy = (outputs==targets.numpy()).mean()\n",
    "test_accuracy "
   ]
  },
  {
   "cell_type": "code",
   "execution_count": 31,
   "id": "34b7bdd0-1f9c-4f08-98ae-a30252aedf41",
   "metadata": {},
   "outputs": [
    {
     "data": {
      "text/plain": [
       "array([False, False, False, False, False, False, False, False])"
      ]
     },
     "execution_count": 31,
     "metadata": {},
     "output_type": "execute_result"
    }
   ],
   "source": [
    "outputs == (targets.numpy()).mean()"
   ]
  },
  {
   "cell_type": "code",
   "execution_count": 26,
   "id": "207b5202-9fda-4aa6-962a-1f6e427c74f8",
   "metadata": {},
   "outputs": [
    {
     "data": {
      "text/plain": [
       "<matplotlib.legend.Legend at 0x14043fa0e20>"
      ]
     },
     "execution_count": 26,
     "metadata": {},
     "output_type": "execute_result"
    },
    {
     "data": {
      "image/png": "[encoded data removed]",
      "text/plain": [
       "<Figure size 640x480 with 1 Axes>"
      ]
     },
     "metadata": {},
     "output_type": "display_data"
    }
   ],
   "source": [
    "plt.style.use(\"ggplot\")\n",
    "plt.plot(train_acc, label=\"Training Accuracy\")\n",
    "plt.plot(test_acc, label=\"Test Accuracy\")\n",
    "plt.legend()"
   ]
  },
  {
   "cell_type": "code",
   "execution_count": 27,
   "id": "57746a8f-62e5-408e-88e5-751a331fe1cc",
   "metadata": {},
   "outputs": [
    {
     "data": {
      "text/plain": [
       "<matplotlib.legend.Legend at 0x14043ef3e50>"
      ]
     },
     "execution_count": 27,
     "metadata": {},
     "output_type": "execute_result"
    },
    {
     "data": {
      "image/png": "[encoded data removed]",
      "text/plain": [
       "<Figure size 640x480 with 1 Axes>"
      ]
     },
     "metadata": {},
     "output_type": "display_data"
    }
   ],
   "source": [
    "plt.plot(lrs, label = \"learning rate\")\n",
    "plt.legend()"
   ]
  },
  {
   "cell_type": "code",
   "execution_count": 44,
   "id": "702bb860-a79e-4651-9641-9fd8ca7d6495",
   "metadata": {},
   "outputs": [],
   "source": [
    "torch.save(model.state_dict(), \"model.pth\")           "
   ]
  },
  {
   "cell_type": "markdown",
   "id": "fc9ece4f-774f-48f4-ab63-6a4ab64f259d",
   "metadata": {
    "tags": []
   },
   "source": [
    "# Checking with Kaggle Data"
   ]
  },
  {
   "cell_type": "code",
   "execution_count": 213,
   "id": "d33517d2-037e-4deb-a873-58bf24db1363",
   "metadata": {},
   "outputs": [],
   "source": [
    "sample_submission = pd.read_csv(\"sample_submission.csv\")"
   ]
  },
  {
   "cell_type": "code",
   "execution_count": 214,
   "id": "b30a4d89-a361-4ead-baf9-9990aa64b151",
   "metadata": {},
   "outputs": [
    {
     "data": {
      "text/html": [
       "<div>\n",
       "<style scoped>\n",
       "    .dataframe tbody tr th:only-of-type {\n",
       "        vertical-align: middle;\n",
       "    }\n",
       "\n",
       "    .dataframe tbody tr th {\n",
       "        vertical-align: top;\n",
       "    }\n",
       "\n",
       "    .dataframe thead th {\n",
       "        text-align: right;\n",
       "    }\n",
       "</style>\n",
       "<table border=\"1\" class=\"dataframe\">\n",
       "  <thead>\n",
       "    <tr style=\"text-align: right;\">\n",
       "      <th></th>\n",
       "      <th>ImageId</th>\n",
       "      <th>Label</th>\n",
       "    </tr>\n",
       "  </thead>\n",
       "  <tbody>\n",
       "    <tr>\n",
       "      <th>0</th>\n",
       "      <td>1</td>\n",
       "      <td>0</td>\n",
       "    </tr>\n",
       "    <tr>\n",
       "      <th>1</th>\n",
       "      <td>2</td>\n",
       "      <td>0</td>\n",
       "    </tr>\n",
       "    <tr>\n",
       "      <th>2</th>\n",
       "      <td>3</td>\n",
       "      <td>0</td>\n",
       "    </tr>\n",
       "    <tr>\n",
       "      <th>3</th>\n",
       "      <td>4</td>\n",
       "      <td>0</td>\n",
       "    </tr>\n",
       "    <tr>\n",
       "      <th>4</th>\n",
       "      <td>5</td>\n",
       "      <td>0</td>\n",
       "    </tr>\n",
       "    <tr>\n",
       "      <th>5</th>\n",
       "      <td>6</td>\n",
       "      <td>0</td>\n",
       "    </tr>\n",
       "    <tr>\n",
       "      <th>6</th>\n",
       "      <td>7</td>\n",
       "      <td>0</td>\n",
       "    </tr>\n",
       "  </tbody>\n",
       "</table>\n",
       "</div>"
      ],
      "text/plain": [
       "   ImageId  Label\n",
       "0        1      0\n",
       "1        2      0\n",
       "2        3      0\n",
       "3        4      0\n",
       "4        5      0\n",
       "5        6      0\n",
       "6        7      0"
      ]
     },
     "execution_count": 214,
     "metadata": {},
     "output_type": "execute_result"
    }
   ],
   "source": [
    "sample_submission.head(7)"
   ]
  },
  {
   "cell_type": "code",
   "execution_count": 215,
   "id": "5686adcd-5d03-4354-a666-73b2d83c05a8",
   "metadata": {},
   "outputs": [
    {
     "name": "stdout",
     "output_type": "stream",
     "text": [
      "28000\n"
     ]
    }
   ],
   "source": [
    "test = pd.read_csv(\"test.csv\")\n",
    "test.head(5)\n",
    "print(len(test))"
   ]
  },
  {
   "cell_type": "code",
   "execution_count": 216,
   "id": "e85b27e8-fd09-438b-8128-ba548f507da8",
   "metadata": {},
   "outputs": [],
   "source": [
    "test_dataset=MNISTDataset(test, transform = torchvision.transforms.Compose([\n",
    "                                torchvision.transforms.ToPILImage(),\n",
    "                                torchvision.transforms.ToTensor(),\n",
    "                                torchvision.transforms.Normalize(mean=0.5, std=0.5)]), is_test=True)\n"
   ]
  },
  {
   "cell_type": "code",
   "execution_count": 217,
   "id": "186792c9-1531-4560-8789-ae7923493e2f",
   "metadata": {},
   "outputs": [
    {
     "data": {
      "text/plain": [
       "torch.Size([1, 28, 28])"
      ]
     },
     "execution_count": 217,
     "metadata": {},
     "output_type": "execute_result"
    }
   ],
   "source": [
    "test_dataset[0][0].shape"
   ]
  },
  {
   "cell_type": "code",
   "execution_count": 227,
   "id": "2bc0f313-73cc-4d3b-b760-2b7aeaa56ead",
   "metadata": {},
   "outputs": [],
   "source": [
    "input_data = []\n",
    "for x in range(len(test_dataset)):\n",
    "    input_data.append(np.array(test_dataset[x][0].numpy()))"
   ]
  },
  {
   "cell_type": "code",
   "execution_count": 228,
   "id": "f4f07e6c-51f3-40b1-ba6f-08021b9ab011",
   "metadata": {},
   "outputs": [
    {
     "name": "stdout",
     "output_type": "stream",
     "text": [
      "Number of values for testing are  28000\n"
     ]
    }
   ],
   "source": [
    "print(\"Number of values for testing are \", len(input_data))"
   ]
  },
  {
   "cell_type": "code",
   "execution_count": 229,
   "id": "ed5e1266-1332-48f0-bc07-a8141aef6f07",
   "metadata": {},
   "outputs": [
    {
     "data": {
      "text/plain": [
       "torch.Size([28000, 1, 28, 28])"
      ]
     },
     "execution_count": 229,
     "metadata": {},
     "output_type": "execute_result"
    }
   ],
   "source": [
    "input_data = torch.Tensor(input_data)\n",
    "input_data.shape"
   ]
  },
  {
   "cell_type": "code",
   "execution_count": 230,
   "id": "3da155a5-818b-4ac6-a356-ee1deda63941",
   "metadata": {},
   "outputs": [],
   "source": [
    "outputs = model(input_data)"
   ]
  },
  {
   "cell_type": "code",
   "execution_count": 231,
   "id": "f909af26-3482-462c-ac4e-444b9a23b1b2",
   "metadata": {},
   "outputs": [
    {
     "data": {
      "text/plain": [
       "torch.Size([28000, 10])"
      ]
     },
     "execution_count": 231,
     "metadata": {},
     "output_type": "execute_result"
    }
   ],
   "source": [
    "outputs.shape"
   ]
  },
  {
   "cell_type": "code",
   "execution_count": 260,
   "id": "70883839-956c-4830-a4bf-8fd1e72044fc",
   "metadata": {},
   "outputs": [],
   "source": [
    "col1 = []\n",
    "col2 = []\n",
    "for i in range(len(test_dataset)):\n",
    "    col1.append(i+1)\n",
    "col2 = outputs.argmax(axis=-1).detach().numpy()"
   ]
  },
  {
   "cell_type": "code",
   "execution_count": 263,
   "id": "c51c03cc-557a-4d69-8bea-6d9dd80f13d5",
   "metadata": {},
   "outputs": [
    {
     "data": {
      "text/html": [
       "<div>\n",
       "<style scoped>\n",
       "    .dataframe tbody tr th:only-of-type {\n",
       "        vertical-align: middle;\n",
       "    }\n",
       "\n",
       "    .dataframe tbody tr th {\n",
       "        vertical-align: top;\n",
       "    }\n",
       "\n",
       "    .dataframe thead th {\n",
       "        text-align: right;\n",
       "    }\n",
       "</style>\n",
       "<table border=\"1\" class=\"dataframe\">\n",
       "  <thead>\n",
       "    <tr style=\"text-align: right;\">\n",
       "      <th></th>\n",
       "      <th>ImageId</th>\n",
       "      <th>Label</th>\n",
       "    </tr>\n",
       "  </thead>\n",
       "  <tbody>\n",
       "    <tr>\n",
       "      <th>0</th>\n",
       "      <td>1</td>\n",
       "      <td>2</td>\n",
       "    </tr>\n",
       "    <tr>\n",
       "      <th>1</th>\n",
       "      <td>2</td>\n",
       "      <td>0</td>\n",
       "    </tr>\n",
       "    <tr>\n",
       "      <th>2</th>\n",
       "      <td>3</td>\n",
       "      <td>9</td>\n",
       "    </tr>\n",
       "    <tr>\n",
       "      <th>3</th>\n",
       "      <td>4</td>\n",
       "      <td>7</td>\n",
       "    </tr>\n",
       "    <tr>\n",
       "      <th>4</th>\n",
       "      <td>5</td>\n",
       "      <td>3</td>\n",
       "    </tr>\n",
       "    <tr>\n",
       "      <th>...</th>\n",
       "      <td>...</td>\n",
       "      <td>...</td>\n",
       "    </tr>\n",
       "    <tr>\n",
       "      <th>27995</th>\n",
       "      <td>27996</td>\n",
       "      <td>9</td>\n",
       "    </tr>\n",
       "    <tr>\n",
       "      <th>27996</th>\n",
       "      <td>27997</td>\n",
       "      <td>7</td>\n",
       "    </tr>\n",
       "    <tr>\n",
       "      <th>27997</th>\n",
       "      <td>27998</td>\n",
       "      <td>3</td>\n",
       "    </tr>\n",
       "    <tr>\n",
       "      <th>27998</th>\n",
       "      <td>27999</td>\n",
       "      <td>9</td>\n",
       "    </tr>\n",
       "    <tr>\n",
       "      <th>27999</th>\n",
       "      <td>28000</td>\n",
       "      <td>2</td>\n",
       "    </tr>\n",
       "  </tbody>\n",
       "</table>\n",
       "<p>28000 rows × 2 columns</p>\n",
       "</div>"
      ],
      "text/plain": [
       "       ImageId  Label\n",
       "0            1      2\n",
       "1            2      0\n",
       "2            3      9\n",
       "3            4      7\n",
       "4            5      3\n",
       "...        ...    ...\n",
       "27995    27996      9\n",
       "27996    27997      7\n",
       "27997    27998      3\n",
       "27998    27999      9\n",
       "27999    28000      2\n",
       "\n",
       "[28000 rows x 2 columns]"
      ]
     },
     "execution_count": 263,
     "metadata": {},
     "output_type": "execute_result"
    }
   ],
   "source": [
    "sub = pd.DataFrame(list(zip(col1, col2)), \n",
    "                   columns=[\"ImageId\", \"Label\"])\n",
    "sub"
   ]
  },
  {
   "cell_type": "code",
   "execution_count": 265,
   "id": "dbfe7b36-86dd-45b8-ad75-03d90f89c1d5",
   "metadata": {},
   "outputs": [],
   "source": [
    "sub.to_csv(\"submission.csv\", index=False)"
   ]
  }
 ],
 "metadata": {
  "kernelspec": {
   "display_name": "Python 3 (ipykernel)",
   "language": "python",
   "name": "python3"
  },
  "language_info": {
   "codemirror_mode": {
    "name": "ipython",
    "version": 3
   },
   "file_extension": ".py",
   "mimetype": "text/x-python",
   "name": "python",
   "nbconvert_exporter": "python",
   "pygments_lexer": "ipython3",
   "version": "3.10.4"
  },
  "toc-autonumbering": true,
  "toc-showmarkdowntxt": true
 },
 "nbformat": 4,
 "nbformat_minor": 5
}
