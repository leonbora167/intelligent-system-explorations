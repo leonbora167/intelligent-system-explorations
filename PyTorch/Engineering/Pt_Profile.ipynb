{
 "cells": [
  {
   "cell_type": "markdown",
   "id": "9444c43f",
   "metadata": {},
   "source": [
    "# Prequisites"
   ]
  },
  {
   "cell_type": "code",
   "execution_count": 1,
   "id": "6b8d35d0",
   "metadata": {},
   "outputs": [],
   "source": [
    "import torchvision\n",
    "from torchvision import transforms, datasets \n",
    "import torch\n",
    "import os\n",
    "import matplotlib.pyplot as plt\n",
    "from tqdm.notebook import tqdm\n",
    "from torch.utils.data import DataLoader\n",
    "import torch.nn as nn\n",
    "import torch.nn.functional as F\n",
    "from PIL import Image\n",
    "from torchinfo import summary\n",
    "import numpy as np"
   ]
  },
  {
   "cell_type": "markdown",
   "id": "7158f8bd",
   "metadata": {},
   "source": [
    "**tensorboard --logdir=./log**"
   ]
  },
  {
   "cell_type": "markdown",
   "id": "b633ad73",
   "metadata": {},
   "source": [
    "* https://github.com/pytorch/kineto/blob/main/tb_plugin/docs/gpu_utilization.md\n",
    "* https://docs.pytorch.org/tutorials/intermediate/tensorboard_profiler_tutorial.html"
   ]
  },
  {
   "cell_type": "markdown",
   "id": "2c0af4d7",
   "metadata": {},
   "source": [
    "# Data"
   ]
  },
  {
   "cell_type": "code",
   "execution_count": 2,
   "id": "5ccf284b",
   "metadata": {},
   "outputs": [],
   "source": [
    "train_data_path = \"..//train\"\n",
    "\n",
    "transformations = transforms.Compose([\n",
    "    transforms.Resize((128,128)),\n",
    "    transforms.ToTensor(),\n",
    "    transforms.Normalize(mean = [0.485, 0.456, 0.406],\n",
    "                          std = [0.229, 0.224, 0.225])\n",
    "])\n",
    "\n",
    "train_data = torchvision.datasets.ImageFolder(train_data_path, transform=transformations)\n",
    "\n",
    "val_data_path = \"..//val\"\n",
    "val_data = torchvision.datasets.ImageFolder(val_data_path, transform=transformations)\n",
    "\n",
    "test_data_path = \"..//test\"\n",
    "test_data = torchvision.datasets.ImageFolder(test_data_path, transform=transformations)\n",
    "\n",
    "# Dataloader\n",
    "\n",
    "batch_size = 512 #Num of images sent to the network once before updating it\n",
    "\n",
    "train_data_loader = DataLoader(train_data, batch_size=batch_size)\n",
    "val_data_loader = DataLoader(val_data, batch_size=batch_size)\n",
    "test_data_loader = DataLoader(test_data, batch_size=batch_size)\n",
    "\n",
    "num_classes = 151"
   ]
  },
  {
   "cell_type": "markdown",
   "id": "a15ea3e2",
   "metadata": {},
   "source": [
    "# VGG 16"
   ]
  },
  {
   "cell_type": "code",
   "execution_count": 3,
   "id": "a5bd22d2",
   "metadata": {},
   "outputs": [],
   "source": [
    "model = torchvision.models.vgg16(weights=torchvision.models.VGG16_Weights.DEFAULT)\n",
    "\n",
    "for layer in model.parameters():\n",
    "    layer.requires_grad = False\n",
    "\n",
    "for name, layer in model.named_parameters():\n",
    "    if \"classifier\" in name:\n",
    "        layer.requires_grad = True\n",
    "\n",
    "in_features = model.classifier[6].in_features \n",
    "model.classifier[6] = torch.nn.Linear(in_features, num_classes)\n",
    "model.classifier[6].requires_grad_ = True\n",
    "\n",
    "if torch.cuda.is_available():\n",
    "    device = torch.device(\"cuda\")\n",
    "else:\n",
    "    device = torch.device(\"cpu\")\n",
    "\n",
    "model = model.to(device)\n",
    "\n",
    "criterion = torch.nn.CrossEntropyLoss()\n",
    "optimizer = torch.optim.SGD(model.classifier.parameters(), lr=0.001)"
   ]
  },
  {
   "cell_type": "code",
   "execution_count": 4,
   "id": "1f52fa73",
   "metadata": {},
   "outputs": [],
   "source": [
    "def train(data):\n",
    "    inputs, labels = data[0].to(device=device), data[1].to(device=device)\n",
    "    outputs = model(inputs)\n",
    "    loss = criterion(outputs, labels)\n",
    "    optimizer.zero_grad()\n",
    "    loss.backward()\n",
    "    optimizer.step()"
   ]
  },
  {
   "cell_type": "code",
   "execution_count": 6,
   "id": "dc114d48",
   "metadata": {},
   "outputs": [],
   "source": [
    "prof = torch.profiler.profile(\n",
    "        schedule=torch.profiler.schedule(wait=1, warmup=1, active=3, repeat=1),\n",
    "        on_trace_ready=torch.profiler.tensorboard_trace_handler('./log/vgg16'),\n",
    "        record_shapes=True,\n",
    "        with_stack=True)\n",
    "prof.start()\n",
    "for step, batch_data in enumerate(train_data_loader):\n",
    "    prof.step()\n",
    "    if step >= 1 + 1 + 3:\n",
    "        break\n",
    "    train(batch_data)\n",
    "prof.stop()"
   ]
  },
  {
   "cell_type": "markdown",
   "id": "ab5687ce",
   "metadata": {},
   "source": [
    "# AlexNet"
   ]
  },
  {
   "cell_type": "code",
   "execution_count": 7,
   "id": "b888045c",
   "metadata": {},
   "outputs": [],
   "source": [
    "model = torchvision.models.alexnet(weights=torchvision.models.AlexNet_Weights.DEFAULT)\n",
    "\n",
    "for layer in model.parameters():\n",
    "    layer.requires_grad = False\n",
    "\n",
    "for name, layer in model.named_parameters():\n",
    "    if \"classifier\" in name:\n",
    "        layer.requires_grad = True\n",
    "\n",
    "in_features = model.classifier[6].in_features \n",
    "model.classifier[6] = torch.nn.Linear(in_features, num_classes)\n",
    "model.classifier[6].requires_grad_ = True\n",
    "\n",
    "if torch.cuda.is_available():\n",
    "    device = torch.device(\"cuda\")\n",
    "else:\n",
    "    device = torch.device(\"cpu\")\n",
    "\n",
    "model = model.to(device)"
   ]
  },
  {
   "cell_type": "code",
   "execution_count": 8,
   "id": "e31e2b68",
   "metadata": {},
   "outputs": [],
   "source": [
    "def train(data):\n",
    "    inputs, labels = data[0].to(device=device), data[1].to(device=device)\n",
    "    outputs = model(inputs)\n",
    "    loss = criterion(outputs, labels)\n",
    "    optimizer.zero_grad()\n",
    "    loss.backward()\n",
    "    optimizer.step()\n",
    "\n",
    "prof = torch.profiler.profile(\n",
    "        schedule=torch.profiler.schedule(wait=1, warmup=1, active=3, repeat=1),\n",
    "        on_trace_ready=torch.profiler.tensorboard_trace_handler('./log/alexnet'),\n",
    "        record_shapes=True,\n",
    "        with_stack=True)\n",
    "prof.start()\n",
    "for step, batch_data in enumerate(train_data_loader):\n",
    "    prof.step()\n",
    "    if step >= 1 + 1 + 3:\n",
    "        break\n",
    "    train(batch_data)\n",
    "prof.stop()"
   ]
  },
  {
   "cell_type": "markdown",
   "id": "7c2421c6",
   "metadata": {},
   "source": [
    "# Mobilenet V3"
   ]
  },
  {
   "cell_type": "code",
   "execution_count": 9,
   "id": "ee32b426",
   "metadata": {},
   "outputs": [],
   "source": [
    "model = torchvision.models.mobilenet_v3_small(weights=torchvision.models.MobileNet_V3_Small_Weights.DEFAULT)\n",
    "\n",
    "for layer in model.parameters():\n",
    "    layer.requires_grad = False\n",
    "\n",
    "for name, layer in model.named_parameters():\n",
    "    if \"classifier\" in name:\n",
    "        layer.requires_grad = True\n",
    "\n",
    "in_features = model.classifier[3].in_features \n",
    "model.classifier[3] = torch.nn.Linear(in_features, num_classes)\n",
    "model.classifier[3].requires_grad_ = True\n",
    "\n",
    "if torch.cuda.is_available():\n",
    "    device = torch.device(\"cuda\")\n",
    "else:\n",
    "    device = torch.device(\"cpu\")\n",
    "\n",
    "model = model.to(device)\n",
    "\n",
    "criterion = torch.nn.CrossEntropyLoss()\n",
    "optimizer = torch.optim.SGD(model.classifier.parameters(), lr=0.001)"
   ]
  },
  {
   "cell_type": "code",
   "execution_count": 10,
   "id": "9edd5be2",
   "metadata": {},
   "outputs": [],
   "source": [
    "def train(data):\n",
    "    inputs, labels = data[0].to(device=device), data[1].to(device=device)\n",
    "    outputs = model(inputs)\n",
    "    loss = criterion(outputs, labels)\n",
    "    optimizer.zero_grad()\n",
    "    loss.backward()\n",
    "    optimizer.step()\n",
    "\n",
    "prof = torch.profiler.profile(\n",
    "        schedule=torch.profiler.schedule(wait=1, warmup=1, active=3, repeat=1),\n",
    "        on_trace_ready=torch.profiler.tensorboard_trace_handler('./log/mobilenetv3_small'),\n",
    "        record_shapes=True,\n",
    "        with_stack=True)\n",
    "prof.start()\n",
    "for step, batch_data in enumerate(train_data_loader):\n",
    "    prof.step()\n",
    "    if step >= 1 + 1 + 3:\n",
    "        break\n",
    "    train(batch_data)\n",
    "prof.stop()"
   ]
  },
  {
   "cell_type": "code",
   "execution_count": null,
   "id": "ec4bcd02",
   "metadata": {},
   "outputs": [],
   "source": []
  }
 ],
 "metadata": {
  "kernelspec": {
   "display_name": "pyt-dl",
   "language": "python",
   "name": "python3"
  },
  "language_info": {
   "name": "python",
   "version": "3.11.13"
  }
 },
 "nbformat": 4,
 "nbformat_minor": 5
}
