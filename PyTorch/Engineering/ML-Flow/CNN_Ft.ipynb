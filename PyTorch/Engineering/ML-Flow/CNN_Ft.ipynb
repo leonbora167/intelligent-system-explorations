{
 "cells": [
  {
   "cell_type": "markdown",
   "id": "d126c613",
   "metadata": {},
   "source": [
    "# Prequisites"
   ]
  },
  {
   "cell_type": "code",
   "execution_count": 1,
   "id": "eee0c8fd",
   "metadata": {},
   "outputs": [],
   "source": [
    "import mlflow\n",
    "import torchvision\n",
    "from torchvision import transforms, datasets \n",
    "import torch\n",
    "import os\n",
    "import matplotlib.pyplot as plt\n",
    "from tqdm.notebook import tqdm\n",
    "from torch.utils.data import DataLoader\n",
    "import torch.nn as nn\n",
    "import torch.nn.functional as F\n",
    "from PIL import Image\n",
    "from torchinfo import summary\n",
    "from mlflow.models import infer_signature\n",
    "import numpy as np"
   ]
  },
  {
   "cell_type": "markdown",
   "id": "4c05b85e",
   "metadata": {},
   "source": [
    "https://mlflow.org/docs/latest/ml/deep-learning/pytorch/guide\n",
    "\n",
    "Command to run in the parent \"mlruns\" folder - **mlflow server --host 127.0.0.1 --port 8080**"
   ]
  },
  {
   "cell_type": "markdown",
   "id": "c22ceea2",
   "metadata": {},
   "source": [
    "# Data"
   ]
  },
  {
   "cell_type": "code",
   "execution_count": 2,
   "id": "330d80a7",
   "metadata": {},
   "outputs": [],
   "source": [
    "train_data_path = \"..//..//train\"\n",
    "\n",
    "transformations = transforms.Compose([\n",
    "    transforms.Resize((64,64)),\n",
    "    transforms.ToTensor(),\n",
    "    transforms.Normalize(mean = [0.485, 0.456, 0.406],\n",
    "                          std = [0.229, 0.224, 0.225])\n",
    "])\n",
    "\n",
    "train_data = torchvision.datasets.ImageFolder(train_data_path, transform=transformations)\n",
    "\n",
    "val_data_path = \"..//..//val\"\n",
    "val_data = torchvision.datasets.ImageFolder(val_data_path, transform=transformations)\n",
    "\n",
    "test_data_path = \"..//..//test\"\n",
    "test_data = torchvision.datasets.ImageFolder(test_data_path, transform=transformations)\n",
    "\n",
    "# Dataloader\n",
    "\n",
    "batch_size = 1024 #Num of images sent to the network once before updating it\n",
    "\n",
    "train_data_loader = DataLoader(train_data, batch_size=batch_size)\n",
    "val_data_loader = DataLoader(val_data, batch_size=batch_size)\n",
    "test_data_loader = DataLoader(test_data, batch_size=batch_size)\n",
    "\n",
    "num_classes = 151"
   ]
  },
  {
   "cell_type": "markdown",
   "id": "d2981304",
   "metadata": {},
   "source": [
    "# MobileNetV3"
   ]
  },
  {
   "cell_type": "code",
   "execution_count": 3,
   "id": "8fc94591",
   "metadata": {},
   "outputs": [],
   "source": [
    "model1 = torchvision.models.mobilenet_v3_small(weights=torchvision.models.MobileNet_V3_Small_Weights.DEFAULT)"
   ]
  },
  {
   "cell_type": "code",
   "execution_count": 4,
   "id": "8e9a9470",
   "metadata": {},
   "outputs": [],
   "source": [
    "for layer in model1.parameters():\n",
    "    layer.requires_grad = False\n",
    "\n",
    "for name, layer in model1.named_parameters():\n",
    "    if \"classifier\" in name:\n",
    "        layer.requires_grad = True\n",
    "\n",
    "in_features = model1.classifier[3].in_features \n",
    "model1.classifier[3] = torch.nn.Linear(in_features, num_classes)\n",
    "model1.classifier[3].requires_grad_ = True\n",
    "\n",
    "if torch.cuda.is_available():\n",
    "    device = torch.device(\"cuda\")\n",
    "else:\n",
    "    device = torch.device(\"cpu\")\n",
    "\n",
    "model1 = model1.to(device)"
   ]
  },
  {
   "cell_type": "code",
   "execution_count": 5,
   "id": "b308817b",
   "metadata": {},
   "outputs": [],
   "source": [
    "#setting up training parameters \n",
    "\n",
    "params = { \n",
    "    \"epochs\" : 5,\n",
    "    \"learning_rate\" : 0.001,\n",
    "    \"batch_size\" : batch_size,\n",
    "    \"optimizer\" : \"SGD\",\n",
    "    \"model_type\" : \"Mobile_Net_V3_Small\",\n",
    "    \"pretrained\" : \"True\",\n",
    "    \"frozen_layers\" : \"True\",\n",
    "    \"classifier_out_features\" : num_classes\n",
    "}"
   ]
  },
  {
   "cell_type": "code",
   "execution_count": 6,
   "id": "23871101",
   "metadata": {},
   "outputs": [
    {
     "data": {
      "application/vnd.jupyter.widget-view+json": {
       "model_id": "73a96e5c1e934784ab33d237b0dc18f3",
       "version_major": 2,
       "version_minor": 0
      },
      "text/plain": [
       "  0%|          | 0/5 [00:00<?, ?it/s]"
      ]
     },
     "metadata": {},
     "output_type": "display_data"
    },
    {
     "name": "stdout",
     "output_type": "stream",
     "text": [
      "Epoch : 1/5 Train Loss : 5.1343, Train Accuracy : 0.3839% Val Loss : 5.1048, Val Accuracy : 0.6623%\n",
      "Epoch : 2/5 Train Loss : 5.1242, Train Accuracy : 0.4031% Val Loss : 5.1001, Val Accuracy : 0.5887%\n",
      "Epoch : 3/5 Train Loss : 5.1156, Train Accuracy : 0.4031% Val Loss : 5.0957, Val Accuracy : 0.8094%\n",
      "Epoch : 4/5 Train Loss : 5.1066, Train Accuracy : 0.4991% Val Loss : 5.0913, Val Accuracy : 0.8830%\n",
      "Epoch : 5/5 Train Loss : 5.0986, Train Accuracy : 0.5375% Val Loss : 5.0871, Val Accuracy : 1.1038%\n"
     ]
    },
    {
     "name": "stderr",
     "output_type": "stream",
     "text": [
      "2025/09/27 02:12:02 WARNING mlflow.utils.requirements_utils: Found torch version (2.8.0+cu128) contains a local version label (+cu128). MLflow logged a pip requirement for this package as 'torch==2.8.0' without the local version label to make it installable from PyPI. To specify pip requirements containing local version labels, please use `conda_env` or `pip_requirements`.\n"
     ]
    },
    {
     "name": "stdout",
     "output_type": "stream",
     "text": [
      "Final Test Acc : 0.84%\n"
     ]
    },
    {
     "name": "stderr",
     "output_type": "stream",
     "text": [
      "2025/09/27 02:12:09 WARNING mlflow.utils.requirements_utils: Found torchvision version (0.23.0+cu128) contains a local version label (+cu128). MLflow logged a pip requirement for this package as 'torchvision==0.23.0' without the local version label to make it installable from PyPI. To specify pip requirements containing local version labels, please use `conda_env` or `pip_requirements`.\n",
      "Successfully registered model 'mobilenet_v3_small'.\n",
      "Created version '1' of model 'mobilenet_v3_small'.\n"
     ]
    }
   ],
   "source": [
    "#Mlflow Training and logging\n",
    "\n",
    "with mlflow.start_run(run_name=\"mobilenet_v3_small\"):\n",
    "    \n",
    "    # 1 -> Logging the parameters\n",
    "    mlflow.log_params(params) \n",
    "\n",
    "    # 2. -> Model preparation\n",
    "    model = model1\n",
    "    loss_fn = torch.nn.CrossEntropyLoss()\n",
    "    optimizer = torch.optim.SGD(model.classifier.parameters(), lr=params[\"learning_rate\"])\n",
    "\n",
    "    # 3 -> Log Model Architecture\n",
    "    with open(\"mobilenet_v3_small_summary.txt\", \"w\") as f:\n",
    "        f.write(str(summary(model, input_size = (1, 3, 64, 64))))\n",
    "    mlflow.log_artifact(\"mobilenet_v3_small_summary.txt\")\n",
    "\n",
    "    # 4 -> Training loop + Metric Logging\n",
    "    for epoch in tqdm(range(params['epochs'])):\n",
    "        model.train()\n",
    "        train_loss = 0 \n",
    "        correct = 0 \n",
    "        total = 0\n",
    "\n",
    "        for batch_idx, (data, target) in enumerate(train_data_loader):\n",
    "            data = data.to(device)\n",
    "            target = target.to(device)\n",
    "            optimizer.zero_grad()\n",
    "            output = model(data)\n",
    "            loss = loss_fn(output, target)\n",
    "\n",
    "            loss.backward()\n",
    "            optimizer.step()\n",
    "\n",
    "            train_loss += loss.item()\n",
    "            _, predicted = output.max(1)\n",
    "            total += target.size(0)\n",
    "            correct += predicted.eq(target).sum().item()\n",
    "\n",
    "            if batch_idx % 100: #logging every 100 batches\n",
    "                batch_loss = train_loss / (batch_idx + 1)\n",
    "                batch_acc = 100 * correct/total # Percentage\n",
    "                mlflow.log_metrics({\"batch_loss\" : batch_loss,\n",
    "                                    \"batch_accuracy\" : batch_acc},\n",
    "                                    step = epoch*len(train_data_loader) + batch_idx,)\n",
    "                \n",
    "            epoch_loss = train_loss / len(train_data_loader)\n",
    "            epoch_acc = 100 * correct/total\n",
    "\n",
    "            model.eval()\n",
    "            val_loss = 0 \n",
    "            val_correct = 0 \n",
    "            val_total = 0\n",
    "\n",
    "        with torch.no_grad():\n",
    "            for data, target in val_data_loader:\n",
    "                data = data.to(device)\n",
    "                target = target.to(device)\n",
    "                output = model(data)\n",
    "                loss = loss_fn(output, target)\n",
    "                val_loss += loss.item()\n",
    "                _, predicted = output.max(1)\n",
    "                val_total += target.size(0)\n",
    "                val_correct += predicted.eq(target).sum().item()\n",
    "\n",
    "        val_loss = val_loss / len(val_data_loader)\n",
    "        val_acc = 100 * val_correct/val_total \n",
    "        mlflow.log_metrics({\"train_loss\" : epoch_loss,\n",
    "                            \"train_accuracy\" : epoch_acc,\n",
    "                            \"val_loss\" : val_loss,\n",
    "                            \"val_accuracy\" : val_acc},\n",
    "                            step = epoch\n",
    "                            )\n",
    "        print(\n",
    "            f\"Epoch : {epoch+1}/{params['epochs']}\",\n",
    "            f\"Train Loss : {epoch_loss:.4f}, Train Accuracy : {epoch_acc:.4f}%\",\n",
    "            f\"Val Loss : {val_loss:.4f}, Val Accuracy : {val_acc:.4f}%\"\n",
    "            )\n",
    "            \n",
    "            #Logging the trained model \n",
    "            # model_info = mlflow.pytorch.log_model(model, name = \"mobilenet_v3_small\")\n",
    "\n",
    "    model.eval()\n",
    "    test_loss = 0\n",
    "    test_correct = 0 \n",
    "    test_total = 0 \n",
    "\n",
    "    with torch.no_grad():\n",
    "        for data, target in test_data_loader:\n",
    "            data = data.to(device)\n",
    "            target = target.to(device)\n",
    "            output = model(data)\n",
    "            loss = loss_fn(output, target)\n",
    "\n",
    "            test_loss += loss.item()\n",
    "            _, predicted = output.max(1)\n",
    "            test_total += target.size(0)\n",
    "            test_correct += predicted.eq(target).sum().item()\n",
    "\n",
    "    test_loss = test_loss / len(test_data_loader)\n",
    "    test_acc = 100 * test_correct / test_total \n",
    "    mlflow.log_metrics({\"test_loss\" : test_loss,\n",
    "                        \"test_accuracy\" : test_acc})\n",
    "    print(f\"Final Test Acc : {test_acc:.2f}%\")\n",
    "\n",
    "    sample_input = torch.randn(1, 3, 64, 64).to(device)\n",
    "    output = model(sample_input)\n",
    "    sample_output = output.cpu().detach().numpy()\n",
    "    signature = infer_signature(sample_input.cpu().numpy(), sample_output)\n",
    "    model_info = mlflow.pytorch.log_model(model,\n",
    "                                          #artifact_path=\"mobilenet_v3_small\", \n",
    "                                          name = \"mobilenet_v3_small\", \n",
    "                                          registered_model_name=\"mobilenet_v3_small\",\n",
    "                                          signature=signature)\n",
    "            "
   ]
  },
  {
   "cell_type": "code",
   "execution_count": null,
   "id": "d244010a",
   "metadata": {},
   "outputs": [],
   "source": []
  },
  {
   "cell_type": "code",
   "execution_count": null,
   "id": "8c1d122f",
   "metadata": {},
   "outputs": [],
   "source": []
  },
  {
   "cell_type": "code",
   "execution_count": null,
   "id": "a899fa5d",
   "metadata": {},
   "outputs": [],
   "source": [
    "sample_input.cpu().numpy()"
   ]
  },
  {
   "cell_type": "code",
   "execution_count": null,
   "id": "7a401511",
   "metadata": {},
   "outputs": [],
   "source": []
  }
 ],
 "metadata": {
  "kernelspec": {
   "display_name": "pyt-dl",
   "language": "python",
   "name": "python3"
  },
  "language_info": {
   "codemirror_mode": {
    "name": "ipython",
    "version": 3
   },
   "file_extension": ".py",
   "mimetype": "text/x-python",
   "name": "python",
   "nbconvert_exporter": "python",
   "pygments_lexer": "ipython3",
   "version": "3.11.13"
  }
 },
 "nbformat": 4,
 "nbformat_minor": 5
}
