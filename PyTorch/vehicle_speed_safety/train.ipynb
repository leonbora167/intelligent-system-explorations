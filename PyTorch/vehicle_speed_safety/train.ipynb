{
  "nbformat": 4,
  "nbformat_minor": 0,
  "metadata": {
    "colab": {
      "provenance": [],
      "gpuType": "T4"
    },
    "kernelspec": {
      "name": "python3",
      "display_name": "Python 3"
    },
    "language_info": {
      "name": "python"
    },
    "accelerator": "GPU",
    "widgets": {
      "application/vnd.jupyter.widget-state+json": {
        "138416fb9b0f45d4819fbb09ea33c1c6": {
          "model_module": "@jupyter-widgets/controls",
          "model_name": "HBoxModel",
          "model_module_version": "1.5.0",
          "state": {
            "_dom_classes": [],
            "_model_module": "@jupyter-widgets/controls",
            "_model_module_version": "1.5.0",
            "_model_name": "HBoxModel",
            "_view_count": null,
            "_view_module": "@jupyter-widgets/controls",
            "_view_module_version": "1.5.0",
            "_view_name": "HBoxView",
            "box_style": "",
            "children": [
              "IPY_MODEL_3682fb90e406456bb32f7b3c5aa9515d",
              "IPY_MODEL_1f44aa83680e43758ef55851236d0abb",
              "IPY_MODEL_bab3aeb78f154629aa1171fe39286431"
            ],
            "layout": "IPY_MODEL_2b3b9a6c63c54a76b6283462dc554b5c"
          }
        },
        "3682fb90e406456bb32f7b3c5aa9515d": {
          "model_module": "@jupyter-widgets/controls",
          "model_name": "HTMLModel",
          "model_module_version": "1.5.0",
          "state": {
            "_dom_classes": [],
            "_model_module": "@jupyter-widgets/controls",
            "_model_module_version": "1.5.0",
            "_model_name": "HTMLModel",
            "_view_count": null,
            "_view_module": "@jupyter-widgets/controls",
            "_view_module_version": "1.5.0",
            "_view_name": "HTMLView",
            "description": "",
            "description_tooltip": null,
            "layout": "IPY_MODEL_d2778cb6e4c84e8abc6dd117ad9dbf98",
            "placeholder": "​",
            "style": "IPY_MODEL_3e77e369f7f544c68fd96dc41a865ba3",
            "value": "100%"
          }
        },
        "1f44aa83680e43758ef55851236d0abb": {
          "model_module": "@jupyter-widgets/controls",
          "model_name": "FloatProgressModel",
          "model_module_version": "1.5.0",
          "state": {
            "_dom_classes": [],
            "_model_module": "@jupyter-widgets/controls",
            "_model_module_version": "1.5.0",
            "_model_name": "FloatProgressModel",
            "_view_count": null,
            "_view_module": "@jupyter-widgets/controls",
            "_view_module_version": "1.5.0",
            "_view_name": "ProgressView",
            "bar_style": "success",
            "description": "",
            "description_tooltip": null,
            "layout": "IPY_MODEL_5cce7320f7c24703aaf30008f1bdd35b",
            "max": 3735,
            "min": 0,
            "orientation": "horizontal",
            "style": "IPY_MODEL_5fe61a8a98a348a28c089dc88ca43696",
            "value": 3735
          }
        },
        "bab3aeb78f154629aa1171fe39286431": {
          "model_module": "@jupyter-widgets/controls",
          "model_name": "HTMLModel",
          "model_module_version": "1.5.0",
          "state": {
            "_dom_classes": [],
            "_model_module": "@jupyter-widgets/controls",
            "_model_module_version": "1.5.0",
            "_model_name": "HTMLModel",
            "_view_count": null,
            "_view_module": "@jupyter-widgets/controls",
            "_view_module_version": "1.5.0",
            "_view_name": "HTMLView",
            "description": "",
            "description_tooltip": null,
            "layout": "IPY_MODEL_ec57246c3b9c4751b5d1a58bf8d13c9a",
            "placeholder": "​",
            "style": "IPY_MODEL_d6a8ce26668d4bff87739d706ed2d5e2",
            "value": " 3735/3735 [00:00&lt;00:00, 6706.79it/s]"
          }
        },
        "2b3b9a6c63c54a76b6283462dc554b5c": {
          "model_module": "@jupyter-widgets/base",
          "model_name": "LayoutModel",
          "model_module_version": "1.2.0",
          "state": {
            "_model_module": "@jupyter-widgets/base",
            "_model_module_version": "1.2.0",
            "_model_name": "LayoutModel",
            "_view_count": null,
            "_view_module": "@jupyter-widgets/base",
            "_view_module_version": "1.2.0",
            "_view_name": "LayoutView",
            "align_content": null,
            "align_items": null,
            "align_self": null,
            "border": null,
            "bottom": null,
            "display": null,
            "flex": null,
            "flex_flow": null,
            "grid_area": null,
            "grid_auto_columns": null,
            "grid_auto_flow": null,
            "grid_auto_rows": null,
            "grid_column": null,
            "grid_gap": null,
            "grid_row": null,
            "grid_template_areas": null,
            "grid_template_columns": null,
            "grid_template_rows": null,
            "height": null,
            "justify_content": null,
            "justify_items": null,
            "left": null,
            "margin": null,
            "max_height": null,
            "max_width": null,
            "min_height": null,
            "min_width": null,
            "object_fit": null,
            "object_position": null,
            "order": null,
            "overflow": null,
            "overflow_x": null,
            "overflow_y": null,
            "padding": null,
            "right": null,
            "top": null,
            "visibility": null,
            "width": null
          }
        },
        "d2778cb6e4c84e8abc6dd117ad9dbf98": {
          "model_module": "@jupyter-widgets/base",
          "model_name": "LayoutModel",
          "model_module_version": "1.2.0",
          "state": {
            "_model_module": "@jupyter-widgets/base",
            "_model_module_version": "1.2.0",
            "_model_name": "LayoutModel",
            "_view_count": null,
            "_view_module": "@jupyter-widgets/base",
            "_view_module_version": "1.2.0",
            "_view_name": "LayoutView",
            "align_content": null,
            "align_items": null,
            "align_self": null,
            "border": null,
            "bottom": null,
            "display": null,
            "flex": null,
            "flex_flow": null,
            "grid_area": null,
            "grid_auto_columns": null,
            "grid_auto_flow": null,
            "grid_auto_rows": null,
            "grid_column": null,
            "grid_gap": null,
            "grid_row": null,
            "grid_template_areas": null,
            "grid_template_columns": null,
            "grid_template_rows": null,
            "height": null,
            "justify_content": null,
            "justify_items": null,
            "left": null,
            "margin": null,
            "max_height": null,
            "max_width": null,
            "min_height": null,
            "min_width": null,
            "object_fit": null,
            "object_position": null,
            "order": null,
            "overflow": null,
            "overflow_x": null,
            "overflow_y": null,
            "padding": null,
            "right": null,
            "top": null,
            "visibility": null,
            "width": null
          }
        },
        "3e77e369f7f544c68fd96dc41a865ba3": {
          "model_module": "@jupyter-widgets/controls",
          "model_name": "DescriptionStyleModel",
          "model_module_version": "1.5.0",
          "state": {
            "_model_module": "@jupyter-widgets/controls",
            "_model_module_version": "1.5.0",
            "_model_name": "DescriptionStyleModel",
            "_view_count": null,
            "_view_module": "@jupyter-widgets/base",
            "_view_module_version": "1.2.0",
            "_view_name": "StyleView",
            "description_width": ""
          }
        },
        "5cce7320f7c24703aaf30008f1bdd35b": {
          "model_module": "@jupyter-widgets/base",
          "model_name": "LayoutModel",
          "model_module_version": "1.2.0",
          "state": {
            "_model_module": "@jupyter-widgets/base",
            "_model_module_version": "1.2.0",
            "_model_name": "LayoutModel",
            "_view_count": null,
            "_view_module": "@jupyter-widgets/base",
            "_view_module_version": "1.2.0",
            "_view_name": "LayoutView",
            "align_content": null,
            "align_items": null,
            "align_self": null,
            "border": null,
            "bottom": null,
            "display": null,
            "flex": null,
            "flex_flow": null,
            "grid_area": null,
            "grid_auto_columns": null,
            "grid_auto_flow": null,
            "grid_auto_rows": null,
            "grid_column": null,
            "grid_gap": null,
            "grid_row": null,
            "grid_template_areas": null,
            "grid_template_columns": null,
            "grid_template_rows": null,
            "height": null,
            "justify_content": null,
            "justify_items": null,
            "left": null,
            "margin": null,
            "max_height": null,
            "max_width": null,
            "min_height": null,
            "min_width": null,
            "object_fit": null,
            "object_position": null,
            "order": null,
            "overflow": null,
            "overflow_x": null,
            "overflow_y": null,
            "padding": null,
            "right": null,
            "top": null,
            "visibility": null,
            "width": null
          }
        },
        "5fe61a8a98a348a28c089dc88ca43696": {
          "model_module": "@jupyter-widgets/controls",
          "model_name": "ProgressStyleModel",
          "model_module_version": "1.5.0",
          "state": {
            "_model_module": "@jupyter-widgets/controls",
            "_model_module_version": "1.5.0",
            "_model_name": "ProgressStyleModel",
            "_view_count": null,
            "_view_module": "@jupyter-widgets/base",
            "_view_module_version": "1.2.0",
            "_view_name": "StyleView",
            "bar_color": null,
            "description_width": ""
          }
        },
        "ec57246c3b9c4751b5d1a58bf8d13c9a": {
          "model_module": "@jupyter-widgets/base",
          "model_name": "LayoutModel",
          "model_module_version": "1.2.0",
          "state": {
            "_model_module": "@jupyter-widgets/base",
            "_model_module_version": "1.2.0",
            "_model_name": "LayoutModel",
            "_view_count": null,
            "_view_module": "@jupyter-widgets/base",
            "_view_module_version": "1.2.0",
            "_view_name": "LayoutView",
            "align_content": null,
            "align_items": null,
            "align_self": null,
            "border": null,
            "bottom": null,
            "display": null,
            "flex": null,
            "flex_flow": null,
            "grid_area": null,
            "grid_auto_columns": null,
            "grid_auto_flow": null,
            "grid_auto_rows": null,
            "grid_column": null,
            "grid_gap": null,
            "grid_row": null,
            "grid_template_areas": null,
            "grid_template_columns": null,
            "grid_template_rows": null,
            "height": null,
            "justify_content": null,
            "justify_items": null,
            "left": null,
            "margin": null,
            "max_height": null,
            "max_width": null,
            "min_height": null,
            "min_width": null,
            "object_fit": null,
            "object_position": null,
            "order": null,
            "overflow": null,
            "overflow_x": null,
            "overflow_y": null,
            "padding": null,
            "right": null,
            "top": null,
            "visibility": null,
            "width": null
          }
        },
        "d6a8ce26668d4bff87739d706ed2d5e2": {
          "model_module": "@jupyter-widgets/controls",
          "model_name": "DescriptionStyleModel",
          "model_module_version": "1.5.0",
          "state": {
            "_model_module": "@jupyter-widgets/controls",
            "_model_module_version": "1.5.0",
            "_model_name": "DescriptionStyleModel",
            "_view_count": null,
            "_view_module": "@jupyter-widgets/base",
            "_view_module_version": "1.2.0",
            "_view_name": "StyleView",
            "description_width": ""
          }
        },
        "6ef81bced3b54790982b2b86fb113b5e": {
          "model_module": "@jupyter-widgets/controls",
          "model_name": "HBoxModel",
          "model_module_version": "1.5.0",
          "state": {
            "_dom_classes": [],
            "_model_module": "@jupyter-widgets/controls",
            "_model_module_version": "1.5.0",
            "_model_name": "HBoxModel",
            "_view_count": null,
            "_view_module": "@jupyter-widgets/controls",
            "_view_module_version": "1.5.0",
            "_view_name": "HBoxView",
            "box_style": "",
            "children": [
              "IPY_MODEL_f0e94c486b1e4d699376afb5007d9378",
              "IPY_MODEL_3a86eb805abd4a70a5f9ddf7260bf2c2",
              "IPY_MODEL_cbd8f6ab6f0b4f5f994efe0582609f3c"
            ],
            "layout": "IPY_MODEL_88f0ea6fb32349e093344ba7ba77b15b"
          }
        },
        "f0e94c486b1e4d699376afb5007d9378": {
          "model_module": "@jupyter-widgets/controls",
          "model_name": "HTMLModel",
          "model_module_version": "1.5.0",
          "state": {
            "_dom_classes": [],
            "_model_module": "@jupyter-widgets/controls",
            "_model_module_version": "1.5.0",
            "_model_name": "HTMLModel",
            "_view_count": null,
            "_view_module": "@jupyter-widgets/controls",
            "_view_module_version": "1.5.0",
            "_view_name": "HTMLView",
            "description": "",
            "description_tooltip": null,
            "layout": "IPY_MODEL_aa5f8aeaa7c8442a9ffb11c0e2770951",
            "placeholder": "​",
            "style": "IPY_MODEL_3fd723850ef944b4b08cecc3bfa7438e",
            "value": "100%"
          }
        },
        "3a86eb805abd4a70a5f9ddf7260bf2c2": {
          "model_module": "@jupyter-widgets/controls",
          "model_name": "FloatProgressModel",
          "model_module_version": "1.5.0",
          "state": {
            "_dom_classes": [],
            "_model_module": "@jupyter-widgets/controls",
            "_model_module_version": "1.5.0",
            "_model_name": "FloatProgressModel",
            "_view_count": null,
            "_view_module": "@jupyter-widgets/controls",
            "_view_module_version": "1.5.0",
            "_view_name": "ProgressView",
            "bar_style": "success",
            "description": "",
            "description_tooltip": null,
            "layout": "IPY_MODEL_d8e02ef75e4b4e1aad6194ceda3cd022",
            "max": 100,
            "min": 0,
            "orientation": "horizontal",
            "style": "IPY_MODEL_3d558d26d34641e9b0deb1aefc082ddc",
            "value": 100
          }
        },
        "cbd8f6ab6f0b4f5f994efe0582609f3c": {
          "model_module": "@jupyter-widgets/controls",
          "model_name": "HTMLModel",
          "model_module_version": "1.5.0",
          "state": {
            "_dom_classes": [],
            "_model_module": "@jupyter-widgets/controls",
            "_model_module_version": "1.5.0",
            "_model_name": "HTMLModel",
            "_view_count": null,
            "_view_module": "@jupyter-widgets/controls",
            "_view_module_version": "1.5.0",
            "_view_name": "HTMLView",
            "description": "",
            "description_tooltip": null,
            "layout": "IPY_MODEL_88d039b47a444b5d842ba2e156066d98",
            "placeholder": "​",
            "style": "IPY_MODEL_733ad88a4a584bccb4b3169cbdd2d20a",
            "value": " 100/100 [00:00&lt;00:00, 2066.50it/s]"
          }
        },
        "88f0ea6fb32349e093344ba7ba77b15b": {
          "model_module": "@jupyter-widgets/base",
          "model_name": "LayoutModel",
          "model_module_version": "1.2.0",
          "state": {
            "_model_module": "@jupyter-widgets/base",
            "_model_module_version": "1.2.0",
            "_model_name": "LayoutModel",
            "_view_count": null,
            "_view_module": "@jupyter-widgets/base",
            "_view_module_version": "1.2.0",
            "_view_name": "LayoutView",
            "align_content": null,
            "align_items": null,
            "align_self": null,
            "border": null,
            "bottom": null,
            "display": null,
            "flex": null,
            "flex_flow": null,
            "grid_area": null,
            "grid_auto_columns": null,
            "grid_auto_flow": null,
            "grid_auto_rows": null,
            "grid_column": null,
            "grid_gap": null,
            "grid_row": null,
            "grid_template_areas": null,
            "grid_template_columns": null,
            "grid_template_rows": null,
            "height": null,
            "justify_content": null,
            "justify_items": null,
            "left": null,
            "margin": null,
            "max_height": null,
            "max_width": null,
            "min_height": null,
            "min_width": null,
            "object_fit": null,
            "object_position": null,
            "order": null,
            "overflow": null,
            "overflow_x": null,
            "overflow_y": null,
            "padding": null,
            "right": null,
            "top": null,
            "visibility": null,
            "width": null
          }
        },
        "aa5f8aeaa7c8442a9ffb11c0e2770951": {
          "model_module": "@jupyter-widgets/base",
          "model_name": "LayoutModel",
          "model_module_version": "1.2.0",
          "state": {
            "_model_module": "@jupyter-widgets/base",
            "_model_module_version": "1.2.0",
            "_model_name": "LayoutModel",
            "_view_count": null,
            "_view_module": "@jupyter-widgets/base",
            "_view_module_version": "1.2.0",
            "_view_name": "LayoutView",
            "align_content": null,
            "align_items": null,
            "align_self": null,
            "border": null,
            "bottom": null,
            "display": null,
            "flex": null,
            "flex_flow": null,
            "grid_area": null,
            "grid_auto_columns": null,
            "grid_auto_flow": null,
            "grid_auto_rows": null,
            "grid_column": null,
            "grid_gap": null,
            "grid_row": null,
            "grid_template_areas": null,
            "grid_template_columns": null,
            "grid_template_rows": null,
            "height": null,
            "justify_content": null,
            "justify_items": null,
            "left": null,
            "margin": null,
            "max_height": null,
            "max_width": null,
            "min_height": null,
            "min_width": null,
            "object_fit": null,
            "object_position": null,
            "order": null,
            "overflow": null,
            "overflow_x": null,
            "overflow_y": null,
            "padding": null,
            "right": null,
            "top": null,
            "visibility": null,
            "width": null
          }
        },
        "3fd723850ef944b4b08cecc3bfa7438e": {
          "model_module": "@jupyter-widgets/controls",
          "model_name": "DescriptionStyleModel",
          "model_module_version": "1.5.0",
          "state": {
            "_model_module": "@jupyter-widgets/controls",
            "_model_module_version": "1.5.0",
            "_model_name": "DescriptionStyleModel",
            "_view_count": null,
            "_view_module": "@jupyter-widgets/base",
            "_view_module_version": "1.2.0",
            "_view_name": "StyleView",
            "description_width": ""
          }
        },
        "d8e02ef75e4b4e1aad6194ceda3cd022": {
          "model_module": "@jupyter-widgets/base",
          "model_name": "LayoutModel",
          "model_module_version": "1.2.0",
          "state": {
            "_model_module": "@jupyter-widgets/base",
            "_model_module_version": "1.2.0",
            "_model_name": "LayoutModel",
            "_view_count": null,
            "_view_module": "@jupyter-widgets/base",
            "_view_module_version": "1.2.0",
            "_view_name": "LayoutView",
            "align_content": null,
            "align_items": null,
            "align_self": null,
            "border": null,
            "bottom": null,
            "display": null,
            "flex": null,
            "flex_flow": null,
            "grid_area": null,
            "grid_auto_columns": null,
            "grid_auto_flow": null,
            "grid_auto_rows": null,
            "grid_column": null,
            "grid_gap": null,
            "grid_row": null,
            "grid_template_areas": null,
            "grid_template_columns": null,
            "grid_template_rows": null,
            "height": null,
            "justify_content": null,
            "justify_items": null,
            "left": null,
            "margin": null,
            "max_height": null,
            "max_width": null,
            "min_height": null,
            "min_width": null,
            "object_fit": null,
            "object_position": null,
            "order": null,
            "overflow": null,
            "overflow_x": null,
            "overflow_y": null,
            "padding": null,
            "right": null,
            "top": null,
            "visibility": null,
            "width": null
          }
        },
        "3d558d26d34641e9b0deb1aefc082ddc": {
          "model_module": "@jupyter-widgets/controls",
          "model_name": "ProgressStyleModel",
          "model_module_version": "1.5.0",
          "state": {
            "_model_module": "@jupyter-widgets/controls",
            "_model_module_version": "1.5.0",
            "_model_name": "ProgressStyleModel",
            "_view_count": null,
            "_view_module": "@jupyter-widgets/base",
            "_view_module_version": "1.2.0",
            "_view_name": "StyleView",
            "bar_color": null,
            "description_width": ""
          }
        },
        "88d039b47a444b5d842ba2e156066d98": {
          "model_module": "@jupyter-widgets/base",
          "model_name": "LayoutModel",
          "model_module_version": "1.2.0",
          "state": {
            "_model_module": "@jupyter-widgets/base",
            "_model_module_version": "1.2.0",
            "_model_name": "LayoutModel",
            "_view_count": null,
            "_view_module": "@jupyter-widgets/base",
            "_view_module_version": "1.2.0",
            "_view_name": "LayoutView",
            "align_content": null,
            "align_items": null,
            "align_self": null,
            "border": null,
            "bottom": null,
            "display": null,
            "flex": null,
            "flex_flow": null,
            "grid_area": null,
            "grid_auto_columns": null,
            "grid_auto_flow": null,
            "grid_auto_rows": null,
            "grid_column": null,
            "grid_gap": null,
            "grid_row": null,
            "grid_template_areas": null,
            "grid_template_columns": null,
            "grid_template_rows": null,
            "height": null,
            "justify_content": null,
            "justify_items": null,
            "left": null,
            "margin": null,
            "max_height": null,
            "max_width": null,
            "min_height": null,
            "min_width": null,
            "object_fit": null,
            "object_position": null,
            "order": null,
            "overflow": null,
            "overflow_x": null,
            "overflow_y": null,
            "padding": null,
            "right": null,
            "top": null,
            "visibility": null,
            "width": null
          }
        },
        "733ad88a4a584bccb4b3169cbdd2d20a": {
          "model_module": "@jupyter-widgets/controls",
          "model_name": "DescriptionStyleModel",
          "model_module_version": "1.5.0",
          "state": {
            "_model_module": "@jupyter-widgets/controls",
            "_model_module_version": "1.5.0",
            "_model_name": "DescriptionStyleModel",
            "_view_count": null,
            "_view_module": "@jupyter-widgets/base",
            "_view_module_version": "1.2.0",
            "_view_name": "StyleView",
            "description_width": ""
          }
        },
        "cc820ebb08584c1591573fa460e6ccde": {
          "model_module": "@jupyter-widgets/controls",
          "model_name": "HBoxModel",
          "model_module_version": "1.5.0",
          "state": {
            "_dom_classes": [],
            "_model_module": "@jupyter-widgets/controls",
            "_model_module_version": "1.5.0",
            "_model_name": "HBoxModel",
            "_view_count": null,
            "_view_module": "@jupyter-widgets/controls",
            "_view_module_version": "1.5.0",
            "_view_name": "HBoxView",
            "box_style": "",
            "children": [
              "IPY_MODEL_2fcb03b56efa4797b7af09c836f72727",
              "IPY_MODEL_5348d3ae553f45a1892302d32388d5b2",
              "IPY_MODEL_b38d5dc09512457ebac865c7eec4bc30"
            ],
            "layout": "IPY_MODEL_d698295985b3451283b5914def7d0a62"
          }
        },
        "2fcb03b56efa4797b7af09c836f72727": {
          "model_module": "@jupyter-widgets/controls",
          "model_name": "HTMLModel",
          "model_module_version": "1.5.0",
          "state": {
            "_dom_classes": [],
            "_model_module": "@jupyter-widgets/controls",
            "_model_module_version": "1.5.0",
            "_model_name": "HTMLModel",
            "_view_count": null,
            "_view_module": "@jupyter-widgets/controls",
            "_view_module_version": "1.5.0",
            "_view_name": "HTMLView",
            "description": "",
            "description_tooltip": null,
            "layout": "IPY_MODEL_c4e6bd212f164d1ca919ca851be40d5c",
            "placeholder": "​",
            "style": "IPY_MODEL_976d67f89749431997a781260b4e7825",
            "value": "100%"
          }
        },
        "5348d3ae553f45a1892302d32388d5b2": {
          "model_module": "@jupyter-widgets/controls",
          "model_name": "FloatProgressModel",
          "model_module_version": "1.5.0",
          "state": {
            "_dom_classes": [],
            "_model_module": "@jupyter-widgets/controls",
            "_model_module_version": "1.5.0",
            "_model_name": "FloatProgressModel",
            "_view_count": null,
            "_view_module": "@jupyter-widgets/controls",
            "_view_module_version": "1.5.0",
            "_view_name": "ProgressView",
            "bar_style": "success",
            "description": "",
            "description_tooltip": null,
            "layout": "IPY_MODEL_1a38f9a28cd7415fbaca2ee3ce670d0f",
            "max": 8371,
            "min": 0,
            "orientation": "horizontal",
            "style": "IPY_MODEL_b27c65b41b6945a58897dc7237bfcead",
            "value": 8371
          }
        },
        "b38d5dc09512457ebac865c7eec4bc30": {
          "model_module": "@jupyter-widgets/controls",
          "model_name": "HTMLModel",
          "model_module_version": "1.5.0",
          "state": {
            "_dom_classes": [],
            "_model_module": "@jupyter-widgets/controls",
            "_model_module_version": "1.5.0",
            "_model_name": "HTMLModel",
            "_view_count": null,
            "_view_module": "@jupyter-widgets/controls",
            "_view_module_version": "1.5.0",
            "_view_name": "HTMLView",
            "description": "",
            "description_tooltip": null,
            "layout": "IPY_MODEL_6620091a4ab9446e8ceb4e675b58b703",
            "placeholder": "​",
            "style": "IPY_MODEL_ebfb68ecf1f7440da1bcf3b6245a3e8e",
            "value": " 8371/8371 [00:00&lt;00:00, 11953.16it/s]"
          }
        },
        "d698295985b3451283b5914def7d0a62": {
          "model_module": "@jupyter-widgets/base",
          "model_name": "LayoutModel",
          "model_module_version": "1.2.0",
          "state": {
            "_model_module": "@jupyter-widgets/base",
            "_model_module_version": "1.2.0",
            "_model_name": "LayoutModel",
            "_view_count": null,
            "_view_module": "@jupyter-widgets/base",
            "_view_module_version": "1.2.0",
            "_view_name": "LayoutView",
            "align_content": null,
            "align_items": null,
            "align_self": null,
            "border": null,
            "bottom": null,
            "display": null,
            "flex": null,
            "flex_flow": null,
            "grid_area": null,
            "grid_auto_columns": null,
            "grid_auto_flow": null,
            "grid_auto_rows": null,
            "grid_column": null,
            "grid_gap": null,
            "grid_row": null,
            "grid_template_areas": null,
            "grid_template_columns": null,
            "grid_template_rows": null,
            "height": null,
            "justify_content": null,
            "justify_items": null,
            "left": null,
            "margin": null,
            "max_height": null,
            "max_width": null,
            "min_height": null,
            "min_width": null,
            "object_fit": null,
            "object_position": null,
            "order": null,
            "overflow": null,
            "overflow_x": null,
            "overflow_y": null,
            "padding": null,
            "right": null,
            "top": null,
            "visibility": null,
            "width": null
          }
        },
        "c4e6bd212f164d1ca919ca851be40d5c": {
          "model_module": "@jupyter-widgets/base",
          "model_name": "LayoutModel",
          "model_module_version": "1.2.0",
          "state": {
            "_model_module": "@jupyter-widgets/base",
            "_model_module_version": "1.2.0",
            "_model_name": "LayoutModel",
            "_view_count": null,
            "_view_module": "@jupyter-widgets/base",
            "_view_module_version": "1.2.0",
            "_view_name": "LayoutView",
            "align_content": null,
            "align_items": null,
            "align_self": null,
            "border": null,
            "bottom": null,
            "display": null,
            "flex": null,
            "flex_flow": null,
            "grid_area": null,
            "grid_auto_columns": null,
            "grid_auto_flow": null,
            "grid_auto_rows": null,
            "grid_column": null,
            "grid_gap": null,
            "grid_row": null,
            "grid_template_areas": null,
            "grid_template_columns": null,
            "grid_template_rows": null,
            "height": null,
            "justify_content": null,
            "justify_items": null,
            "left": null,
            "margin": null,
            "max_height": null,
            "max_width": null,
            "min_height": null,
            "min_width": null,
            "object_fit": null,
            "object_position": null,
            "order": null,
            "overflow": null,
            "overflow_x": null,
            "overflow_y": null,
            "padding": null,
            "right": null,
            "top": null,
            "visibility": null,
            "width": null
          }
        },
        "976d67f89749431997a781260b4e7825": {
          "model_module": "@jupyter-widgets/controls",
          "model_name": "DescriptionStyleModel",
          "model_module_version": "1.5.0",
          "state": {
            "_model_module": "@jupyter-widgets/controls",
            "_model_module_version": "1.5.0",
            "_model_name": "DescriptionStyleModel",
            "_view_count": null,
            "_view_module": "@jupyter-widgets/base",
            "_view_module_version": "1.2.0",
            "_view_name": "StyleView",
            "description_width": ""
          }
        },
        "1a38f9a28cd7415fbaca2ee3ce670d0f": {
          "model_module": "@jupyter-widgets/base",
          "model_name": "LayoutModel",
          "model_module_version": "1.2.0",
          "state": {
            "_model_module": "@jupyter-widgets/base",
            "_model_module_version": "1.2.0",
            "_model_name": "LayoutModel",
            "_view_count": null,
            "_view_module": "@jupyter-widgets/base",
            "_view_module_version": "1.2.0",
            "_view_name": "LayoutView",
            "align_content": null,
            "align_items": null,
            "align_self": null,
            "border": null,
            "bottom": null,
            "display": null,
            "flex": null,
            "flex_flow": null,
            "grid_area": null,
            "grid_auto_columns": null,
            "grid_auto_flow": null,
            "grid_auto_rows": null,
            "grid_column": null,
            "grid_gap": null,
            "grid_row": null,
            "grid_template_areas": null,
            "grid_template_columns": null,
            "grid_template_rows": null,
            "height": null,
            "justify_content": null,
            "justify_items": null,
            "left": null,
            "margin": null,
            "max_height": null,
            "max_width": null,
            "min_height": null,
            "min_width": null,
            "object_fit": null,
            "object_position": null,
            "order": null,
            "overflow": null,
            "overflow_x": null,
            "overflow_y": null,
            "padding": null,
            "right": null,
            "top": null,
            "visibility": null,
            "width": null
          }
        },
        "b27c65b41b6945a58897dc7237bfcead": {
          "model_module": "@jupyter-widgets/controls",
          "model_name": "ProgressStyleModel",
          "model_module_version": "1.5.0",
          "state": {
            "_model_module": "@jupyter-widgets/controls",
            "_model_module_version": "1.5.0",
            "_model_name": "ProgressStyleModel",
            "_view_count": null,
            "_view_module": "@jupyter-widgets/base",
            "_view_module_version": "1.2.0",
            "_view_name": "StyleView",
            "bar_color": null,
            "description_width": ""
          }
        },
        "6620091a4ab9446e8ceb4e675b58b703": {
          "model_module": "@jupyter-widgets/base",
          "model_name": "LayoutModel",
          "model_module_version": "1.2.0",
          "state": {
            "_model_module": "@jupyter-widgets/base",
            "_model_module_version": "1.2.0",
            "_model_name": "LayoutModel",
            "_view_count": null,
            "_view_module": "@jupyter-widgets/base",
            "_view_module_version": "1.2.0",
            "_view_name": "LayoutView",
            "align_content": null,
            "align_items": null,
            "align_self": null,
            "border": null,
            "bottom": null,
            "display": null,
            "flex": null,
            "flex_flow": null,
            "grid_area": null,
            "grid_auto_columns": null,
            "grid_auto_flow": null,
            "grid_auto_rows": null,
            "grid_column": null,
            "grid_gap": null,
            "grid_row": null,
            "grid_template_areas": null,
            "grid_template_columns": null,
            "grid_template_rows": null,
            "height": null,
            "justify_content": null,
            "justify_items": null,
            "left": null,
            "margin": null,
            "max_height": null,
            "max_width": null,
            "min_height": null,
            "min_width": null,
            "object_fit": null,
            "object_position": null,
            "order": null,
            "overflow": null,
            "overflow_x": null,
            "overflow_y": null,
            "padding": null,
            "right": null,
            "top": null,
            "visibility": null,
            "width": null
          }
        },
        "ebfb68ecf1f7440da1bcf3b6245a3e8e": {
          "model_module": "@jupyter-widgets/controls",
          "model_name": "DescriptionStyleModel",
          "model_module_version": "1.5.0",
          "state": {
            "_model_module": "@jupyter-widgets/controls",
            "_model_module_version": "1.5.0",
            "_model_name": "DescriptionStyleModel",
            "_view_count": null,
            "_view_module": "@jupyter-widgets/base",
            "_view_module_version": "1.2.0",
            "_view_name": "StyleView",
            "description_width": ""
          }
        },
        "40e5e4ec14fd4e3d9d2917b0679b5900": {
          "model_module": "@jupyter-widgets/controls",
          "model_name": "HBoxModel",
          "model_module_version": "1.5.0",
          "state": {
            "_dom_classes": [],
            "_model_module": "@jupyter-widgets/controls",
            "_model_module_version": "1.5.0",
            "_model_name": "HBoxModel",
            "_view_count": null,
            "_view_module": "@jupyter-widgets/controls",
            "_view_module_version": "1.5.0",
            "_view_name": "HBoxView",
            "box_style": "",
            "children": [
              "IPY_MODEL_0767ee335e9d464bbff75487987813bf",
              "IPY_MODEL_ae394aa16c904635baa2423f0036cd49",
              "IPY_MODEL_7e9e4924b3e14126a66ed1182f16a092"
            ],
            "layout": "IPY_MODEL_2e1146b44473481490654471f68515d3"
          }
        },
        "0767ee335e9d464bbff75487987813bf": {
          "model_module": "@jupyter-widgets/controls",
          "model_name": "HTMLModel",
          "model_module_version": "1.5.0",
          "state": {
            "_dom_classes": [],
            "_model_module": "@jupyter-widgets/controls",
            "_model_module_version": "1.5.0",
            "_model_name": "HTMLModel",
            "_view_count": null,
            "_view_module": "@jupyter-widgets/controls",
            "_view_module_version": "1.5.0",
            "_view_name": "HTMLView",
            "description": "",
            "description_tooltip": null,
            "layout": "IPY_MODEL_9457a378f79c4cfb8a98da9dea362960",
            "placeholder": "​",
            "style": "IPY_MODEL_14f9157af83c45bfb35907fa5a085710",
            "value": "100%"
          }
        },
        "ae394aa16c904635baa2423f0036cd49": {
          "model_module": "@jupyter-widgets/controls",
          "model_name": "FloatProgressModel",
          "model_module_version": "1.5.0",
          "state": {
            "_dom_classes": [],
            "_model_module": "@jupyter-widgets/controls",
            "_model_module_version": "1.5.0",
            "_model_name": "FloatProgressModel",
            "_view_count": null,
            "_view_module": "@jupyter-widgets/controls",
            "_view_module_version": "1.5.0",
            "_view_name": "ProgressView",
            "bar_style": "success",
            "description": "",
            "description_tooltip": null,
            "layout": "IPY_MODEL_9578b7e23c2d4212a54010b1f24ce91c",
            "max": 15896,
            "min": 0,
            "orientation": "horizontal",
            "style": "IPY_MODEL_b0c0883ba47a4ed4b4fbc19ef9cfab6e",
            "value": 15896
          }
        },
        "7e9e4924b3e14126a66ed1182f16a092": {
          "model_module": "@jupyter-widgets/controls",
          "model_name": "HTMLModel",
          "model_module_version": "1.5.0",
          "state": {
            "_dom_classes": [],
            "_model_module": "@jupyter-widgets/controls",
            "_model_module_version": "1.5.0",
            "_model_name": "HTMLModel",
            "_view_count": null,
            "_view_module": "@jupyter-widgets/controls",
            "_view_module_version": "1.5.0",
            "_view_name": "HTMLView",
            "description": "",
            "description_tooltip": null,
            "layout": "IPY_MODEL_afacf076193648ffbf4cd1f5a1d60283",
            "placeholder": "​",
            "style": "IPY_MODEL_7197b10dcdd14a7da2fbdac36838108e",
            "value": " 15896/15896 [00:00&lt;00:00, 309902.14it/s]"
          }
        },
        "2e1146b44473481490654471f68515d3": {
          "model_module": "@jupyter-widgets/base",
          "model_name": "LayoutModel",
          "model_module_version": "1.2.0",
          "state": {
            "_model_module": "@jupyter-widgets/base",
            "_model_module_version": "1.2.0",
            "_model_name": "LayoutModel",
            "_view_count": null,
            "_view_module": "@jupyter-widgets/base",
            "_view_module_version": "1.2.0",
            "_view_name": "LayoutView",
            "align_content": null,
            "align_items": null,
            "align_self": null,
            "border": null,
            "bottom": null,
            "display": null,
            "flex": null,
            "flex_flow": null,
            "grid_area": null,
            "grid_auto_columns": null,
            "grid_auto_flow": null,
            "grid_auto_rows": null,
            "grid_column": null,
            "grid_gap": null,
            "grid_row": null,
            "grid_template_areas": null,
            "grid_template_columns": null,
            "grid_template_rows": null,
            "height": null,
            "justify_content": null,
            "justify_items": null,
            "left": null,
            "margin": null,
            "max_height": null,
            "max_width": null,
            "min_height": null,
            "min_width": null,
            "object_fit": null,
            "object_position": null,
            "order": null,
            "overflow": null,
            "overflow_x": null,
            "overflow_y": null,
            "padding": null,
            "right": null,
            "top": null,
            "visibility": null,
            "width": null
          }
        },
        "9457a378f79c4cfb8a98da9dea362960": {
          "model_module": "@jupyter-widgets/base",
          "model_name": "LayoutModel",
          "model_module_version": "1.2.0",
          "state": {
            "_model_module": "@jupyter-widgets/base",
            "_model_module_version": "1.2.0",
            "_model_name": "LayoutModel",
            "_view_count": null,
            "_view_module": "@jupyter-widgets/base",
            "_view_module_version": "1.2.0",
            "_view_name": "LayoutView",
            "align_content": null,
            "align_items": null,
            "align_self": null,
            "border": null,
            "bottom": null,
            "display": null,
            "flex": null,
            "flex_flow": null,
            "grid_area": null,
            "grid_auto_columns": null,
            "grid_auto_flow": null,
            "grid_auto_rows": null,
            "grid_column": null,
            "grid_gap": null,
            "grid_row": null,
            "grid_template_areas": null,
            "grid_template_columns": null,
            "grid_template_rows": null,
            "height": null,
            "justify_content": null,
            "justify_items": null,
            "left": null,
            "margin": null,
            "max_height": null,
            "max_width": null,
            "min_height": null,
            "min_width": null,
            "object_fit": null,
            "object_position": null,
            "order": null,
            "overflow": null,
            "overflow_x": null,
            "overflow_y": null,
            "padding": null,
            "right": null,
            "top": null,
            "visibility": null,
            "width": null
          }
        },
        "14f9157af83c45bfb35907fa5a085710": {
          "model_module": "@jupyter-widgets/controls",
          "model_name": "DescriptionStyleModel",
          "model_module_version": "1.5.0",
          "state": {
            "_model_module": "@jupyter-widgets/controls",
            "_model_module_version": "1.5.0",
            "_model_name": "DescriptionStyleModel",
            "_view_count": null,
            "_view_module": "@jupyter-widgets/base",
            "_view_module_version": "1.2.0",
            "_view_name": "StyleView",
            "description_width": ""
          }
        },
        "9578b7e23c2d4212a54010b1f24ce91c": {
          "model_module": "@jupyter-widgets/base",
          "model_name": "LayoutModel",
          "model_module_version": "1.2.0",
          "state": {
            "_model_module": "@jupyter-widgets/base",
            "_model_module_version": "1.2.0",
            "_model_name": "LayoutModel",
            "_view_count": null,
            "_view_module": "@jupyter-widgets/base",
            "_view_module_version": "1.2.0",
            "_view_name": "LayoutView",
            "align_content": null,
            "align_items": null,
            "align_self": null,
            "border": null,
            "bottom": null,
            "display": null,
            "flex": null,
            "flex_flow": null,
            "grid_area": null,
            "grid_auto_columns": null,
            "grid_auto_flow": null,
            "grid_auto_rows": null,
            "grid_column": null,
            "grid_gap": null,
            "grid_row": null,
            "grid_template_areas": null,
            "grid_template_columns": null,
            "grid_template_rows": null,
            "height": null,
            "justify_content": null,
            "justify_items": null,
            "left": null,
            "margin": null,
            "max_height": null,
            "max_width": null,
            "min_height": null,
            "min_width": null,
            "object_fit": null,
            "object_position": null,
            "order": null,
            "overflow": null,
            "overflow_x": null,
            "overflow_y": null,
            "padding": null,
            "right": null,
            "top": null,
            "visibility": null,
            "width": null
          }
        },
        "b0c0883ba47a4ed4b4fbc19ef9cfab6e": {
          "model_module": "@jupyter-widgets/controls",
          "model_name": "ProgressStyleModel",
          "model_module_version": "1.5.0",
          "state": {
            "_model_module": "@jupyter-widgets/controls",
            "_model_module_version": "1.5.0",
            "_model_name": "ProgressStyleModel",
            "_view_count": null,
            "_view_module": "@jupyter-widgets/base",
            "_view_module_version": "1.2.0",
            "_view_name": "StyleView",
            "bar_color": null,
            "description_width": ""
          }
        },
        "afacf076193648ffbf4cd1f5a1d60283": {
          "model_module": "@jupyter-widgets/base",
          "model_name": "LayoutModel",
          "model_module_version": "1.2.0",
          "state": {
            "_model_module": "@jupyter-widgets/base",
            "_model_module_version": "1.2.0",
            "_model_name": "LayoutModel",
            "_view_count": null,
            "_view_module": "@jupyter-widgets/base",
            "_view_module_version": "1.2.0",
            "_view_name": "LayoutView",
            "align_content": null,
            "align_items": null,
            "align_self": null,
            "border": null,
            "bottom": null,
            "display": null,
            "flex": null,
            "flex_flow": null,
            "grid_area": null,
            "grid_auto_columns": null,
            "grid_auto_flow": null,
            "grid_auto_rows": null,
            "grid_column": null,
            "grid_gap": null,
            "grid_row": null,
            "grid_template_areas": null,
            "grid_template_columns": null,
            "grid_template_rows": null,
            "height": null,
            "justify_content": null,
            "justify_items": null,
            "left": null,
            "margin": null,
            "max_height": null,
            "max_width": null,
            "min_height": null,
            "min_width": null,
            "object_fit": null,
            "object_position": null,
            "order": null,
            "overflow": null,
            "overflow_x": null,
            "overflow_y": null,
            "padding": null,
            "right": null,
            "top": null,
            "visibility": null,
            "width": null
          }
        },
        "7197b10dcdd14a7da2fbdac36838108e": {
          "model_module": "@jupyter-widgets/controls",
          "model_name": "DescriptionStyleModel",
          "model_module_version": "1.5.0",
          "state": {
            "_model_module": "@jupyter-widgets/controls",
            "_model_module_version": "1.5.0",
            "_model_name": "DescriptionStyleModel",
            "_view_count": null,
            "_view_module": "@jupyter-widgets/base",
            "_view_module_version": "1.2.0",
            "_view_name": "StyleView",
            "description_width": ""
          }
        }
      }
    }
  },
  "cells": [
    {
      "cell_type": "markdown",
      "source": [
        "Training YOLOv5 for safety detection of drivers in car and bikes.\n",
        "\n",
        "> For cars after detection of passenger in the car we are trying to detect seatbelts and driver awareness.\n",
        "\n",
        "\n",
        "1. Seatbelt On or Not\n",
        "2. Yawn Detection | Drowsiness Detection\n",
        "3. Helmet Detection in Bikers\n",
        "4. Drink, Phone, Smoke Detection\n",
        "\n"
      ],
      "metadata": {
        "id": "CEEv5a41V__u"
      }
    },
    {
      "cell_type": "markdown",
      "source": [
        "# Datasets\n",
        "\n",
        "1. Bike Helmet Dataset for Object Detection (bike_helmet_1)\n",
        "> https://www.kaggle.com/datasets/andrewmvd/helmet-detection\n",
        "\n",
        "2. Bike Helmet Detection (bike_helmet_2)\n",
        "> roboflow\n",
        "\n",
        "3. Seatbelt Dataset (sb_1)\n",
        "> https://universe.roboflow.com/college-704lm/seatbelt_detection_dataset\n",
        "\n",
        "4. Seatbelt Dataset (sb_2)\n",
        "> https://universe.roboflow.com/seatbelttraining-7yh0f/seatbelt-detection-lb1ec\n",
        "\n",
        "5. Drink, Phone, Smoking Detection (ac_1)\n",
        "> https://universe.roboflow.com/vcx/dms2\n",
        "\n",
        "6. Drowsiness, yawn, alertness detection (d1)\n",
        "> https://universe.roboflow.com/university-mwqaq/drowsy-o8noq"
      ],
      "metadata": {
        "id": "NG3zRWrwXJf6"
      }
    },
    {
      "cell_type": "markdown",
      "source": [
        "## Dataset preparation"
      ],
      "metadata": {
        "id": "8cEQyYvgFf5V"
      }
    },
    {
      "cell_type": "markdown",
      "source": [
        "* 0 = \"Drinking\"\n",
        "* 1 = \"Helmet\"\n",
        "* 2 = \"No_Helmet\""
      ],
      "metadata": {
        "id": "tiGsfBzkHKL6"
      }
    },
    {
      "cell_type": "code",
      "source": [
        "!pip install xmltodict"
      ],
      "metadata": {
        "colab": {
          "base_uri": "https://localhost:8080/"
        },
        "id": "SAm8m30PZRUs",
        "outputId": "06786da5-31a5-47e0-edbd-9c78b8284be5"
      },
      "execution_count": null,
      "outputs": [
        {
          "output_type": "stream",
          "name": "stdout",
          "text": [
            "Looking in indexes: https://pypi.org/simple, https://us-python.pkg.dev/colab-wheels/public/simple/\n",
            "Collecting xmltodict\n",
            "  Downloading xmltodict-0.13.0-py2.py3-none-any.whl (10.0 kB)\n",
            "Installing collected packages: xmltodict\n",
            "Successfully installed xmltodict-0.13.0\n"
          ]
        }
      ]
    },
    {
      "cell_type": "code",
      "execution_count": null,
      "metadata": {
        "id": "3raD-MWdM1Hd"
      },
      "outputs": [],
      "source": [
        "import cv2\n",
        "import os\n",
        "import xmltodict\n",
        "import json\n",
        "import matplotlib.pyplot as plt\n",
        "from tqdm.notebook import tqdm"
      ]
    },
    {
      "cell_type": "code",
      "source": [
        "!cp /content/drive/MyDrive/Data_Science/vehicle_speed_safety/ac_1.zip /content/ \n",
        "!cp /content/drive/MyDrive/Data_Science/vehicle_speed_safety/bike_helmet_1.zip /content/\n",
        "!cp /content/drive/MyDrive/Data_Science/vehicle_speed_safety/d1.zip /content/\n",
        "!cp /content/drive/MyDrive/Data_Science/vehicle_speed_safety/bike_helmet_2.zip /content/\n",
        "!cp /content/drive/MyDrive/Data_Science/vehicle_speed_safety/sb2.zip /content/\n",
        "!cp /content/drive/MyDrive/Data_Science/vehicle_speed_safety/sb_1.zip /content/"
      ],
      "metadata": {
        "id": "MfZm_xfpFjhI"
      },
      "execution_count": null,
      "outputs": []
    },
    {
      "cell_type": "code",
      "source": [
        "!mkdir /content/data\n",
        "!mkdir /content/data/images\n",
        "!mkdir /content/data/labels"
      ],
      "metadata": {
        "id": "SYyMmod9GvNA"
      },
      "execution_count": null,
      "outputs": []
    },
    {
      "cell_type": "code",
      "source": [
        "#Temp folder for images prep\n",
        "!mkdir /content/temp"
      ],
      "metadata": {
        "id": "vovSEfRjGRJP"
      },
      "execution_count": null,
      "outputs": []
    },
    {
      "cell_type": "code",
      "source": [
        "!unzip /content/ac_1.zip -d /content/temp"
      ],
      "metadata": {
        "id": "1m3_BAZdGgoM"
      },
      "execution_count": null,
      "outputs": []
    },
    {
      "cell_type": "code",
      "source": [
        "!cp -R /content/temp/ac_1/images/* /content/data/images/\n",
        "!cp -R /content/temp/ac_1/labels/* /content/data/labels/"
      ],
      "metadata": {
        "id": "AFQJb56MGmiT"
      },
      "execution_count": null,
      "outputs": []
    },
    {
      "cell_type": "code",
      "source": [
        "!rm -rf /content/temp\n",
        "!mkdir /content/temp"
      ],
      "metadata": {
        "id": "np424Rk1XtN7"
      },
      "execution_count": null,
      "outputs": []
    },
    {
      "cell_type": "code",
      "source": [
        "!unzip /content/bike_helmet_1.zip -d /content/temp"
      ],
      "metadata": {
        "id": "XgIF9Xu8X2N0"
      },
      "execution_count": null,
      "outputs": []
    },
    {
      "cell_type": "code",
      "source": [
        "with open('/content/temp/bike_helmet_1/annotations/BikesHelmets100.xml', 'r') as xml_file:\n",
        "    xml_data = xml_file.read()\n",
        "\n",
        "json_data = json.dumps(xmltodict.parse(xml_data), indent=4)\n",
        "python_dict = json.loads(json_data)\n",
        "img = cv2.imread(\"/content/temp/bike_helmet_1/images/BikesHelmets100.png\")\n",
        "for i in  python_dict[\"annotation\"][\"object\"]:\n",
        "  x1 = int(i[\"bndbox\"][\"xmin\"])\n",
        "  x2 = int(i[\"bndbox\"][\"xmax\"])\n",
        "  y1 = int(i[\"bndbox\"][\"ymin\"])\n",
        "  y2 = int(i[\"bndbox\"][\"ymax\"])\n",
        "  print(i[\"name\"])\n",
        "  cv2.rectangle(img, (x1,y1), (x2,y2), (0,255,0), 2)\n",
        "\n",
        "plt.imshow(img)\n",
        "plt.axis(\"off\")"
      ],
      "metadata": {
        "colab": {
          "base_uri": "https://localhost:8080/",
          "height": 458
        },
        "id": "zratww0IYAIJ",
        "outputId": "47710d45-3936-4657-deab-f678caf2ce8b"
      },
      "execution_count": null,
      "outputs": [
        {
          "output_type": "stream",
          "name": "stdout",
          "text": [
            "With Helmet\n",
            "With Helmet\n"
          ]
        },
        {
          "output_type": "execute_result",
          "data": {
            "text/plain": [
              "(-0.5, 399.5, 304.5, -0.5)"
            ]
          },
          "metadata": {},
          "execution_count": 13
        },
        {
          "output_type": "display_data",
          "data": {
            "text/plain": [
              "<Figure size 640x480 with 1 Axes>"
            ],
            "image/png": "[encoded data removed]"
          },
          "metadata": {}
        }
      ]
    },
    {
      "cell_type": "code",
      "source": [
        "#Function to convert rect. coords to YOLO Format\n",
        "\n",
        "def yolo_norm(x1, x2, y1, y2, img):\n",
        "  w_img=img.shape[1]\n",
        "  h_img=img.shape[0]\n",
        "  xmin,xmax,ymin,ymax=x1,x2,y1,y2\n",
        "  w=xmax-xmin\n",
        "  h=ymax-ymin\n",
        "  xcenter=(xmin+w/2)/(w_img)\n",
        "  ycenter=(ymin+h/2)/(h_img)\n",
        "  w=w/w_img\n",
        "  h=h/h_img\n",
        "  return xcenter,ycenter,w,h"
      ],
      "metadata": {
        "id": "EgB7PGlVYxrs"
      },
      "execution_count": null,
      "outputs": []
    },
    {
      "cell_type": "code",
      "source": [
        "!unzip /content/bike_helmet_2.zip -d /content/temp"
      ],
      "metadata": {
        "id": "RdFsZxBb63us"
      },
      "execution_count": null,
      "outputs": []
    },
    {
      "cell_type": "code",
      "source": [
        "#In this dataset 0 = With Helmet and 1 = Without Helmet\n",
        "#We'll change this to 1,2 for our dataset\n",
        "#Every .txt file has to be changed "
      ],
      "metadata": {
        "id": "w8tRVIaJ672Y"
      },
      "execution_count": null,
      "outputs": []
    },
    {
      "cell_type": "code",
      "source": [
        "!mkdir /content/temp/bike_helmet_2/labels2"
      ],
      "metadata": {
        "id": "p62EtLVh9Nsl"
      },
      "execution_count": null,
      "outputs": []
    },
    {
      "cell_type": "code",
      "source": [
        "folder = \"/content/temp/bike_helmet_2/labels\"\n",
        "for i in tqdm(os.listdir(folder)):\n",
        "  annot_path = os.path.join(folder, i)\n",
        "  lis = []\n",
        "  label_path = os.path.join(\"/content/temp/bike_helmet_2/labels2\", i)\n",
        "  x = open(annot_path)\n",
        "  x = x.readlines()\n",
        "  for j in x:\n",
        "    temp = j.replace(\"\\n\", \"\")\n",
        "    temp = temp.split(\" \")\n",
        "    xcenter,ycenter,w,h=temp[1],temp[2],temp[3],temp[4]\n",
        "    if(temp[0]==\"0\"):\n",
        "      clss = 1\n",
        "    else:\n",
        "      clss = 2\n",
        "    string = str(clss)+\" \"+str(xcenter)+\" \"+str(ycenter)+\" \"+str(w)+\" \"+str(h)\n",
        "    lis.append(string)\n",
        "  with open(label_path, \"a\") as var:\n",
        "    for z in lis:\n",
        "      var.write(z)"
      ],
      "metadata": {
        "colab": {
          "base_uri": "https://localhost:8080/",
          "height": 49,
          "referenced_widgets": [
            "138416fb9b0f45d4819fbb09ea33c1c6",
            "3682fb90e406456bb32f7b3c5aa9515d",
            "1f44aa83680e43758ef55851236d0abb",
            "bab3aeb78f154629aa1171fe39286431",
            "2b3b9a6c63c54a76b6283462dc554b5c",
            "d2778cb6e4c84e8abc6dd117ad9dbf98",
            "3e77e369f7f544c68fd96dc41a865ba3",
            "5cce7320f7c24703aaf30008f1bdd35b",
            "5fe61a8a98a348a28c089dc88ca43696",
            "ec57246c3b9c4751b5d1a58bf8d13c9a",
            "d6a8ce26668d4bff87739d706ed2d5e2"
          ]
        },
        "id": "2HH2SYq07ivg",
        "outputId": "063a471b-2e28-4075-f389-8f5b0c218772"
      },
      "execution_count": null,
      "outputs": [
        {
          "output_type": "display_data",
          "data": {
            "text/plain": [
              "  0%|          | 0/3735 [00:00<?, ?it/s]"
            ],
            "application/vnd.jupyter.widget-view+json": {
              "version_major": 2,
              "version_minor": 0,
              "model_id": "138416fb9b0f45d4819fbb09ea33c1c6"
            }
          },
          "metadata": {}
        }
      ]
    },
    {
      "cell_type": "code",
      "source": [
        "!cp -R /content/temp/bike_helmet_2/labels2/* /content/data/labels/\n",
        "!cp -R /content/temp/bike_helmet_2/images/* /content/data/images"
      ],
      "metadata": {
        "id": "IojwKBRN72LK"
      },
      "execution_count": null,
      "outputs": []
    },
    {
      "cell_type": "code",
      "source": [
        "!rm -rf /content/temp\n",
        "!mkdir /content/temp"
      ],
      "metadata": {
        "id": "zcXP2VjB-g6e"
      },
      "execution_count": null,
      "outputs": []
    },
    {
      "cell_type": "code",
      "source": [
        "!unzip /content/d1.zip -d /content/temp/"
      ],
      "metadata": {
        "id": "Lg-FMYz5-k08"
      },
      "execution_count": null,
      "outputs": []
    },
    {
      "cell_type": "code",
      "source": [
        "#This has classes 0=awake and 1=drowsy\n",
        "#For our dataset we'll change it to 3=\"Awake\" & 4=\"Drowsy\""
      ],
      "metadata": {
        "id": "2z_9vkM6-ooE"
      },
      "execution_count": null,
      "outputs": []
    },
    {
      "cell_type": "code",
      "source": [
        "!mkdir /content/temp/d1/labels2"
      ],
      "metadata": {
        "id": "SP5lfblMJ26h"
      },
      "execution_count": null,
      "outputs": []
    },
    {
      "cell_type": "code",
      "source": [
        "folder = \"/content/temp/d1/labels\"\n",
        "for i in tqdm(os.listdir(folder)):\n",
        "  annot_path = os.path.join(folder, i)\n",
        "  lis = []\n",
        "  label_path = os.path.join(\"/content/temp/d1/labels2\", i)\n",
        "  x = open(annot_path)\n",
        "  x = x.readlines()\n",
        "  for j in x:\n",
        "    temp = j.replace(\"\\n\", \"\")\n",
        "    temp = temp.split(\" \")\n",
        "    xcenter,ycenter,w,h=temp[1],temp[2],temp[3],temp[4]\n",
        "    if(temp[0]==\"0\"):\n",
        "      clss = 3\n",
        "    else:\n",
        "      clss = 4\n",
        "    string = str(clss)+\" \"+str(xcenter)+\" \"+str(ycenter)+\" \"+str(w)+\" \"+str(h)\n",
        "    lis.append(string)\n",
        "  with open(label_path, \"a\") as var:\n",
        "    for z in lis:\n",
        "      var.write(z)"
      ],
      "metadata": {
        "colab": {
          "base_uri": "https://localhost:8080/",
          "height": 49,
          "referenced_widgets": [
            "6ef81bced3b54790982b2b86fb113b5e",
            "f0e94c486b1e4d699376afb5007d9378",
            "3a86eb805abd4a70a5f9ddf7260bf2c2",
            "cbd8f6ab6f0b4f5f994efe0582609f3c",
            "88f0ea6fb32349e093344ba7ba77b15b",
            "aa5f8aeaa7c8442a9ffb11c0e2770951",
            "3fd723850ef944b4b08cecc3bfa7438e",
            "d8e02ef75e4b4e1aad6194ceda3cd022",
            "3d558d26d34641e9b0deb1aefc082ddc",
            "88d039b47a444b5d842ba2e156066d98",
            "733ad88a4a584bccb4b3169cbdd2d20a"
          ]
        },
        "id": "1qJyydDHoyW5",
        "outputId": "5648c754-96c1-447a-8ead-6db7685eea09"
      },
      "execution_count": null,
      "outputs": [
        {
          "output_type": "display_data",
          "data": {
            "text/plain": [
              "  0%|          | 0/100 [00:00<?, ?it/s]"
            ],
            "application/vnd.jupyter.widget-view+json": {
              "version_major": 2,
              "version_minor": 0,
              "model_id": "6ef81bced3b54790982b2b86fb113b5e"
            }
          },
          "metadata": {}
        }
      ]
    },
    {
      "cell_type": "code",
      "source": [
        "!cp -R /content/temp/d1/images/* /content/data/images/\n",
        "!cp -R /content/temp/d1/labels2/* /content/data/labels/"
      ],
      "metadata": {
        "id": "N-Pk74GGpG6k"
      },
      "execution_count": null,
      "outputs": []
    },
    {
      "cell_type": "code",
      "source": [
        "!rm -rf /content/temp\n",
        "!mkdir /content/temp"
      ],
      "metadata": {
        "id": "zzNsKcxSphBA"
      },
      "execution_count": null,
      "outputs": []
    },
    {
      "cell_type": "code",
      "source": [
        "!unzip /content/sb2.zip -d /content/temp/"
      ],
      "metadata": {
        "id": "20bgdqsNrjmn"
      },
      "execution_count": null,
      "outputs": []
    },
    {
      "cell_type": "code",
      "source": [
        "#Here the classes are 0=\"No-seatbelt\" and 1=\"Seatbelt\"\n",
        "#We'll change it to 5=\"Seatbelt\" and 6=\"No-Seatbelt\""
      ],
      "metadata": {
        "id": "wW6j0sberowU"
      },
      "execution_count": null,
      "outputs": []
    },
    {
      "cell_type": "code",
      "source": [
        "!mkdir /content/temp/sb2/labels2"
      ],
      "metadata": {
        "id": "KN72mEKVsRft"
      },
      "execution_count": null,
      "outputs": []
    },
    {
      "cell_type": "code",
      "source": [
        "folder = \"/content/temp/sb2/labels\"\n",
        "for i in tqdm(os.listdir(folder)):\n",
        "  annot_path = os.path.join(folder, i)\n",
        "  lis = []\n",
        "  label_path = os.path.join(\"/content/temp/sb2/labels2\", i)\n",
        "  x = open(annot_path)\n",
        "  x = x.readlines()\n",
        "  for j in x:\n",
        "    temp = j.replace(\"\\n\", \"\")\n",
        "    temp = temp.split(\" \")\n",
        "    xcenter,ycenter,w,h=temp[1],temp[2],temp[3],temp[4]\n",
        "    if(temp[0]==\"0\"):\n",
        "      clss = 6\n",
        "    else:\n",
        "      clss = 5\n",
        "    string = str(clss)+\" \"+str(xcenter)+\" \"+str(ycenter)+\" \"+str(w)+\" \"+str(h)\n",
        "    lis.append(string)\n",
        "  with open(label_path, \"a\") as var:\n",
        "    for z in lis:\n",
        "      var.write(z)"
      ],
      "metadata": {
        "colab": {
          "base_uri": "https://localhost:8080/",
          "height": 49,
          "referenced_widgets": [
            "cc820ebb08584c1591573fa460e6ccde",
            "2fcb03b56efa4797b7af09c836f72727",
            "5348d3ae553f45a1892302d32388d5b2",
            "b38d5dc09512457ebac865c7eec4bc30",
            "d698295985b3451283b5914def7d0a62",
            "c4e6bd212f164d1ca919ca851be40d5c",
            "976d67f89749431997a781260b4e7825",
            "1a38f9a28cd7415fbaca2ee3ce670d0f",
            "b27c65b41b6945a58897dc7237bfcead",
            "6620091a4ab9446e8ceb4e675b58b703",
            "ebfb68ecf1f7440da1bcf3b6245a3e8e"
          ]
        },
        "id": "byXHorlssMfq",
        "outputId": "5d911758-428d-42d4-f797-4c1ffcb9bae5"
      },
      "execution_count": null,
      "outputs": [
        {
          "output_type": "display_data",
          "data": {
            "text/plain": [
              "  0%|          | 0/8371 [00:00<?, ?it/s]"
            ],
            "application/vnd.jupyter.widget-view+json": {
              "version_major": 2,
              "version_minor": 0,
              "model_id": "cc820ebb08584c1591573fa460e6ccde"
            }
          },
          "metadata": {}
        }
      ]
    },
    {
      "cell_type": "code",
      "source": [
        "!cp -R /content/temp/sb2/labels2/* /content/data/labels\n",
        "!cp -R /content/temp/sb2/images/* /content/data/images"
      ],
      "metadata": {
        "id": "TfzrcGYPsbAv"
      },
      "execution_count": null,
      "outputs": []
    },
    {
      "cell_type": "code",
      "source": [
        "!rm -rf /content/temp\n",
        "!mkdir /content/temp"
      ],
      "metadata": {
        "id": "YNR-HiDTsqIw"
      },
      "execution_count": null,
      "outputs": []
    },
    {
      "cell_type": "code",
      "source": [
        "len(os.listdir(\"/content/data/images\")), len(os.listdir(\"/content/data/labels\"))"
      ],
      "metadata": {
        "colab": {
          "base_uri": "https://localhost:8080/"
        },
        "id": "pIip7BIjzLRI",
        "outputId": "372603ed-0e3d-4d23-df81-6cd7d7999e43"
      },
      "execution_count": null,
      "outputs": [
        {
          "output_type": "execute_result",
          "data": {
            "text/plain": [
              "(14969, 14969)"
            ]
          },
          "metadata": {},
          "execution_count": 48
        }
      ]
    },
    {
      "cell_type": "code",
      "source": [
        "!unzip /content/sb_1.zip -d /content/temp/"
      ],
      "metadata": {
        "id": "MB_FzgrbsvIR"
      },
      "execution_count": null,
      "outputs": []
    },
    {
      "cell_type": "code",
      "source": [
        "#Here the classes are 0=\"No-seatbelt\" and 1=\"Seatbelt\"\n",
        "#We'll change it to 5=\"Seatbelt\" and 6=\"No-Seatbelt\""
      ],
      "metadata": {
        "id": "cORJf6Z-s9GI"
      },
      "execution_count": null,
      "outputs": []
    },
    {
      "cell_type": "code",
      "source": [
        "!mkdir /content/temp/sb_1/labels2"
      ],
      "metadata": {
        "id": "D5nemjMttDKE"
      },
      "execution_count": null,
      "outputs": []
    },
    {
      "cell_type": "code",
      "source": [
        "folder = \"/content/temp/sb_1/labels\"\n",
        "for i in tqdm(os.listdir(folder)):\n",
        "  annot_path = os.path.join(folder, i)\n",
        "  lis = []\n",
        "  label_path = os.path.join(\"/content/temp/sb_1/labels2\", i)\n",
        "  x = open(annot_path)\n",
        "  x = x.readlines()\n",
        "  for j in x:\n",
        "    temp = j.replace(\"\\n\", \"\")\n",
        "    temp = temp.split(\" \")\n",
        "    xcenter,ycenter,w,h=temp[1],temp[2],temp[3],temp[4]\n",
        "    if(temp[0]==\"0\"):\n",
        "      clss = 6\n",
        "    else:\n",
        "      clss = 5\n",
        "    string = str(clss)+\" \"+str(xcenter)+\" \"+str(ycenter)+\" \"+str(w)+\" \"+str(h)\n",
        "    lis.append(string)\n",
        "  with open(label_path, \"a\") as var:\n",
        "    for z in lis:\n",
        "      var.write(z)"
      ],
      "metadata": {
        "id": "qp6MgLsdtHK-"
      },
      "execution_count": null,
      "outputs": []
    },
    {
      "cell_type": "code",
      "source": [
        "!cp -R /content/temp/sb_1/images/* /content/data/images/\n",
        "!cp -R /content/temp/sb_1/labels2/* /content/data/labels/"
      ],
      "metadata": {
        "id": "9DCoBwg_tS8F"
      },
      "execution_count": null,
      "outputs": []
    },
    {
      "cell_type": "code",
      "source": [
        "!rm -rf /content/temp"
      ],
      "metadata": {
        "id": "PqRYrFWhtg6_"
      },
      "execution_count": null,
      "outputs": []
    },
    {
      "cell_type": "markdown",
      "source": [
        "# Yolo Training"
      ],
      "metadata": {
        "id": "QeUqx_TGtonF"
      }
    },
    {
      "cell_type": "code",
      "source": [
        "!pip install ultralytics\n",
        "!pip install wandb\n",
        "!pip install clearml"
      ],
      "metadata": {
        "id": "ED5v0P8j6YEO"
      },
      "execution_count": null,
      "outputs": []
    },
    {
      "cell_type": "code",
      "source": [
        "!clearml-init"
      ],
      "metadata": {
        "colab": {
          "base_uri": "https://localhost:8080/"
        },
        "id": "raOtwg-e8-_g",
        "outputId": "a50208fe-ac4d-48d0-8847-3a6dcfc5fbd1"
      },
      "execution_count": null,
      "outputs": [
        {
          "output_type": "stream",
          "name": "stdout",
          "text": [
            "ClearML SDK setup process\n",
            "\n",
            "Please create new clearml credentials through the settings page in your `clearml-server` web app (e.g. http://localhost:8080//settings/workspace-configuration) \n",
            "Or create a free account at https://app.clear.ml/settings/workspace-configuration\n",
            "\n",
            "In settings page, press \"Create new credentials\", then press \"Copy to clipboard\".\n",
            "\n",
            "Paste copied configuration here:\n",
            "api {      # Prishanga Prayus Bora's workspace     web_server: https://app.clear.ml     api_server: https://api.clear.ml     files_server: https://files.clear.ml     credentials {         \"access_key\" = \"5AZCHFQTXSKNUHNV21V5\"         \"secret_key\"  = \"k1pGC6BWjMgqyiKzLO92VZjL1F8XED7E1jWG0cE68Q09yCrjD4\"     } }\n",
            "Detected credentials key=\"5AZCHFQTXSKNUHNV21V5\" secret=\"k1pG***\"\n",
            "\n",
            "ClearML Hosts configuration:\n",
            "Web App: https://app.clear.ml\n",
            "API: https://api.clear.ml\n",
            "File Store: https://files.clear.ml\n",
            "\n",
            "Verifying credentials ...\n",
            "Credentials verified!\n",
            "\n",
            "New configuration stored in /root/clearml.conf\n",
            "ClearML setup completed successfully.\n"
          ]
        }
      ]
    },
    {
      "cell_type": "code",
      "source": [
        "import torch\n",
        "import random"
      ],
      "metadata": {
        "id": "OPEbrIXhtlO5"
      },
      "execution_count": null,
      "outputs": []
    },
    {
      "cell_type": "code",
      "source": [
        "print(\"Number of images are \", len(os.listdir(\"/content/data/images\")))\n",
        "print(\"Number of YOLO Annotations are \", len(os.listdir(\"/content/data/labels\")))"
      ],
      "metadata": {
        "colab": {
          "base_uri": "https://localhost:8080/"
        },
        "id": "ekNTVwcOtrwv",
        "outputId": "4a157d74-641e-49ad-88e8-7dec73ca2dac"
      },
      "execution_count": null,
      "outputs": [
        {
          "output_type": "stream",
          "name": "stdout",
          "text": [
            "Number of images are  15896\n",
            "Number of YOLO Annotations are  15896\n"
          ]
        }
      ]
    },
    {
      "cell_type": "code",
      "source": [
        "!git clone https://github.com/ultralytics/yolov5.git"
      ],
      "metadata": {
        "colab": {
          "base_uri": "https://localhost:8080/"
        },
        "id": "wrnR5qZkuq0q",
        "outputId": "587ded37-5555-4861-ce73-5d1cf7ca8b80"
      },
      "execution_count": null,
      "outputs": [
        {
          "output_type": "stream",
          "name": "stdout",
          "text": [
            "Cloning into 'yolov5'...\n",
            "remote: Enumerating objects: 15965, done.\u001b[K\n",
            "remote: Counting objects: 100% (134/134), done.\u001b[K\n",
            "remote: Compressing objects: 100% (59/59), done.\u001b[K\n",
            "remote: Total 15965 (delta 83), reused 118 (delta 75), pack-reused 15831\u001b[K\n",
            "Receiving objects: 100% (15965/15965), 14.60 MiB | 15.74 MiB/s, done.\n",
            "Resolving deltas: 100% (10952/10952), done.\n"
          ]
        }
      ]
    },
    {
      "cell_type": "code",
      "source": [
        "%cd /content/yolov5"
      ],
      "metadata": {
        "colab": {
          "base_uri": "https://localhost:8080/"
        },
        "id": "P-UYTGvU02Vz",
        "outputId": "f59a7795-01d4-494a-bb3a-d7d81d8e7590"
      },
      "execution_count": null,
      "outputs": [
        {
          "output_type": "stream",
          "name": "stdout",
          "text": [
            "/content/yolov5\n"
          ]
        }
      ]
    },
    {
      "cell_type": "code",
      "source": [
        "lis = os.listdir(\"/content/data/images\")\n",
        "folder = \"/content/data/images\"\n",
        "lis = random.sample(lis, len(lis))\n",
        "\n",
        "val_lis, train_lis = [], []\n",
        "count = 0\n",
        "for i in tqdm(lis):\n",
        "  path = os.path.join(folder, i)\n",
        "  count = count + 1\n",
        "  if(count%5 == 0):\n",
        "    val_lis.append(path)\n",
        "  else:\n",
        "    train_lis.append(path)"
      ],
      "metadata": {
        "colab": {
          "base_uri": "https://localhost:8080/",
          "height": 49,
          "referenced_widgets": [
            "40e5e4ec14fd4e3d9d2917b0679b5900",
            "0767ee335e9d464bbff75487987813bf",
            "ae394aa16c904635baa2423f0036cd49",
            "7e9e4924b3e14126a66ed1182f16a092",
            "2e1146b44473481490654471f68515d3",
            "9457a378f79c4cfb8a98da9dea362960",
            "14f9157af83c45bfb35907fa5a085710",
            "9578b7e23c2d4212a54010b1f24ce91c",
            "b0c0883ba47a4ed4b4fbc19ef9cfab6e",
            "afacf076193648ffbf4cd1f5a1d60283",
            "7197b10dcdd14a7da2fbdac36838108e"
          ]
        },
        "id": "hv3S8MA80608",
        "outputId": "c783bc80-dd81-4d8c-cef8-da7df0cf4ef4"
      },
      "execution_count": null,
      "outputs": [
        {
          "output_type": "display_data",
          "data": {
            "text/plain": [
              "  0%|          | 0/15896 [00:00<?, ?it/s]"
            ],
            "application/vnd.jupyter.widget-view+json": {
              "version_major": 2,
              "version_minor": 0,
              "model_id": "40e5e4ec14fd4e3d9d2917b0679b5900"
            }
          },
          "metadata": {}
        }
      ]
    },
    {
      "cell_type": "code",
      "source": [
        "print(\"Training images are \", len(train_lis))\n",
        "print(\"Validation images are \", len(val_lis))"
      ],
      "metadata": {
        "colab": {
          "base_uri": "https://localhost:8080/"
        },
        "id": "RU8Ytyzq1gCv",
        "outputId": "56c11f45-10ee-480d-f893-818e54458e7a"
      },
      "execution_count": null,
      "outputs": [
        {
          "output_type": "stream",
          "name": "stdout",
          "text": [
            "Training images are  12717\n",
            "Validation images are  3179\n"
          ]
        }
      ]
    },
    {
      "cell_type": "code",
      "source": [
        "#Create train.txt and validation.txt\n",
        "\n",
        "with open(\"/content/train.txt\", \"w\") as var:\n",
        "  for i in train_lis:\n",
        "    var.write(i+\"\\n\")\n",
        "with open(\"/content/validation.txt\", \"w\") as var:\n",
        "  for i in val_lis:\n",
        "    var.write(i+\"\\n\")"
      ],
      "metadata": {
        "id": "Dy8QPxuP1wIE"
      },
      "execution_count": null,
      "outputs": []
    },
    {
      "cell_type": "code",
      "source": [
        "!python train.py --data ../data.yaml --device 0 --weights yolov5s.pt --epochs 30 \\\n",
        "                 --project nearbuzz --name yolov5n_2 --batch-size -1 \\\n",
        "                 --cache ram"
      ],
      "metadata": {
        "id": "eTVa-I4b5r-5"
      },
      "execution_count": null,
      "outputs": []
    },
    {
      "cell_type": "markdown",
      "source": [
        "## YoloV8"
      ],
      "metadata": {
        "id": "kQKGqfJjE-GF"
      }
    },
    {
      "cell_type": "code",
      "source": [
        "!cp /content/drive/MyDrive/Data_Science/vehicle_speed_safety/data.zip /content/"
      ],
      "metadata": {
        "id": "hJjup-YlJ10-"
      },
      "execution_count": null,
      "outputs": []
    },
    {
      "cell_type": "code",
      "source": [
        "!unzip /content/data.zip -d /content/"
      ],
      "metadata": {
        "id": "M_Lm_g4kJ3u2"
      },
      "execution_count": null,
      "outputs": []
    },
    {
      "cell_type": "code",
      "source": [
        "!cp -R /content/content/data /content/"
      ],
      "metadata": {
        "id": "Ztwpl8s5KOMW"
      },
      "execution_count": null,
      "outputs": []
    },
    {
      "cell_type": "code",
      "source": [
        "!pip install ultralytics"
      ],
      "metadata": {
        "colab": {
          "base_uri": "https://localhost:8080/"
        },
        "id": "3bFdYatEKbZP",
        "outputId": "25c355c6-91b0-41f4-f565-933865ee3063"
      },
      "execution_count": null,
      "outputs": [
        {
          "output_type": "stream",
          "name": "stdout",
          "text": [
            "Installing collected packages: ultralytics\n",
            "Successfully installed ultralytics-8.0.112\n"
          ]
        }
      ]
    },
    {
      "cell_type": "code",
      "source": [
        "from ultralytics import YOLO"
      ],
      "metadata": {
        "id": "QnmfWqn86Vsv"
      },
      "execution_count": null,
      "outputs": []
    },
    {
      "cell_type": "code",
      "source": [
        "model = YOLO(\"yolov8n.pt\") "
      ],
      "metadata": {
        "id": "rRtkolW6E_83",
        "colab": {
          "base_uri": "https://localhost:8080/"
        },
        "outputId": "c31cb49f-8c80-4a58-f459-f5d716029547"
      },
      "execution_count": null,
      "outputs": [
        {
          "output_type": "stream",
          "name": "stderr",
          "text": [
            "Downloading https://github.com/ultralytics/assets/releases/download/v0.0.0/yolov8n.pt to yolov8n.pt...\n",
            "100%|██████████| 6.23M/6.23M [00:00<00:00, 24.5MB/s]\n"
          ]
        }
      ]
    },
    {
      "cell_type": "code",
      "source": [
        "model.train(data=\"/content/data.yaml\", epochs=40,\n",
        "            pretrained=True,device=0,\n",
        "            project=\"nearbuzz\", name=\"yolov8n_1\",\n",
        "            batch=-1\n",
        "            )"
      ],
      "metadata": {
        "colab": {
          "base_uri": "https://localhost:8080/"
        },
        "id": "48jc1uszFDl2",
        "outputId": "1a88184d-8141-4dd8-c1fc-a5222e129682"
      },
      "execution_count": null,
      "outputs": [
        {
          "output_type": "stream",
          "name": "stderr",
          "text": [
            "Ultralytics YOLOv8.0.112 🚀 Python-3.10.11 torch-2.0.1+cu118 CUDA:0 (Tesla T4, 15102MiB)\n",
            "\u001b[34m\u001b[1myolo/engine/trainer: \u001b[0mtask=detect, mode=train, model=yolov8n.pt, data=/content/data.yaml, epochs=40, patience=50, batch=-1, imgsz=640, save=True, save_period=-1, cache=False, device=0, workers=8, project=nearbuzz, name=yolov8n_1, exist_ok=False, pretrained=True, optimizer=SGD, verbose=True, seed=0, deterministic=True, single_cls=False, rect=False, cos_lr=False, close_mosaic=0, resume=False, amp=True, fraction=1.0, profile=False, overlap_mask=True, mask_ratio=4, dropout=0.0, val=True, split=val, save_json=False, save_hybrid=False, conf=None, iou=0.7, max_det=300, half=False, dnn=False, plots=True, source=None, show=False, save_txt=False, save_conf=False, save_crop=False, show_labels=True, show_conf=True, vid_stride=1, line_width=None, visualize=False, augment=False, agnostic_nms=False, classes=None, retina_masks=False, boxes=True, format=torchscript, keras=False, optimize=False, int8=False, dynamic=False, simplify=False, opset=None, workspace=4, nms=False, lr0=0.01, lrf=0.01, momentum=0.937, weight_decay=0.0005, warmup_epochs=3.0, warmup_momentum=0.8, warmup_bias_lr=0.1, box=7.5, cls=0.5, dfl=1.5, pose=12.0, kobj=1.0, label_smoothing=0.0, nbs=64, hsv_h=0.015, hsv_s=0.7, hsv_v=0.4, degrees=0.0, translate=0.1, scale=0.5, shear=0.0, perspective=0.0, flipud=0.0, fliplr=0.5, mosaic=1.0, mixup=0.0, copy_paste=0.0, cfg=None, v5loader=False, tracker=botsort.yaml, save_dir=nearbuzz/yolov8n_12\n",
            "Downloading https://ultralytics.com/assets/Arial.ttf to /root/.config/Ultralytics/Arial.ttf...\n",
            "100%|██████████| 755k/755k [00:00<00:00, 21.5MB/s]\n",
            "Overriding model.yaml nc=80 with nc=7\n",
            "\n",
            "                   from  n    params  module                                       arguments                     \n",
            "  0                  -1  1       464  ultralytics.nn.modules.conv.Conv             [3, 16, 3, 2]                 \n",
            "  1                  -1  1      4672  ultralytics.nn.modules.conv.Conv             [16, 32, 3, 2]                \n",
            "  2                  -1  1      7360  ultralytics.nn.modules.block.C2f             [32, 32, 1, True]             \n",
            "  3                  -1  1     18560  ultralytics.nn.modules.conv.Conv             [32, 64, 3, 2]                \n",
            "  4                  -1  2     49664  ultralytics.nn.modules.block.C2f             [64, 64, 2, True]             \n",
            "  5                  -1  1     73984  ultralytics.nn.modules.conv.Conv             [64, 128, 3, 2]               \n",
            "  6                  -1  2    197632  ultralytics.nn.modules.block.C2f             [128, 128, 2, True]           \n",
            "  7                  -1  1    295424  ultralytics.nn.modules.conv.Conv             [128, 256, 3, 2]              \n",
            "  8                  -1  1    460288  ultralytics.nn.modules.block.C2f             [256, 256, 1, True]           \n",
            "  9                  -1  1    164608  ultralytics.nn.modules.block.SPPF            [256, 256, 5]                 \n",
            " 10                  -1  1         0  torch.nn.modules.upsampling.Upsample         [None, 2, 'nearest']          \n",
            " 11             [-1, 6]  1         0  ultralytics.nn.modules.conv.Concat           [1]                           \n",
            " 12                  -1  1    148224  ultralytics.nn.modules.block.C2f             [384, 128, 1]                 \n",
            " 13                  -1  1         0  torch.nn.modules.upsampling.Upsample         [None, 2, 'nearest']          \n",
            " 14             [-1, 4]  1         0  ultralytics.nn.modules.conv.Concat           [1]                           \n",
            " 15                  -1  1     37248  ultralytics.nn.modules.block.C2f             [192, 64, 1]                  \n",
            " 16                  -1  1     36992  ultralytics.nn.modules.conv.Conv             [64, 64, 3, 2]                \n",
            " 17            [-1, 12]  1         0  ultralytics.nn.modules.conv.Concat           [1]                           \n",
            " 18                  -1  1    123648  ultralytics.nn.modules.block.C2f             [192, 128, 1]                 \n",
            " 19                  -1  1    147712  ultralytics.nn.modules.conv.Conv             [128, 128, 3, 2]              \n",
            " 20             [-1, 9]  1         0  ultralytics.nn.modules.conv.Concat           [1]                           \n",
            " 21                  -1  1    493056  ultralytics.nn.modules.block.C2f             [384, 256, 1]                 \n",
            " 22        [15, 18, 21]  1    752677  ultralytics.nn.modules.head.Detect           [7, [64, 128, 256]]           \n",
            "Model summary: 225 layers, 3012213 parameters, 3012197 gradients\n",
            "\n",
            "Transferred 319/355 items from pretrained weights\n",
            "\u001b[34m\u001b[1mTensorBoard: \u001b[0mStart with 'tensorboard --logdir nearbuzz/yolov8n_12', view at http://localhost:6006/\n",
            "\u001b[34m\u001b[1mAMP: \u001b[0mrunning Automatic Mixed Precision (AMP) checks with YOLOv8n...\n",
            "\u001b[34m\u001b[1mAMP: \u001b[0mchecks passed ✅\n",
            "\u001b[34m\u001b[1mAutoBatch: \u001b[0mComputing optimal batch size for imgsz=640\n",
            "\u001b[34m\u001b[1mAutoBatch: \u001b[0mCUDA:0 (Tesla T4) 14.75G total, 0.22G reserved, 0.06G allocated, 14.46G free\n",
            "      Params      GFLOPs  GPU_mem (GB)  forward (ms) backward (ms)                   input                  output\n",
            "     3012213           0         0.457         178.8         404.5        (1, 3, 640, 640)                    list\n",
            "     3012213           0         0.470         95.77         94.53        (2, 3, 640, 640)                    list\n",
            "     3012213           0         0.858         91.99         93.03        (4, 3, 640, 640)                    list\n",
            "     3012213           0         1.365         95.32         102.8        (8, 3, 640, 640)                    list\n",
            "     3012213           0         2.391         109.2         126.2       (16, 3, 640, 640)                    list\n",
            "\u001b[34m\u001b[1mAutoBatch: \u001b[0mUsing batch-size 71 for CUDA:0 9.95G/14.75G (67%) ✅\n",
            "\u001b[34m\u001b[1moptimizer:\u001b[0m SGD(lr=0.01) with parameter groups 57 weight(decay=0.0), 64 weight(decay=0.0005546875000000001), 63 bias\n",
            "\u001b[34m\u001b[1mtrain: \u001b[0mScanning /content/data/labels... 12717 images, 102 backgrounds, 0 corrupt: 100%|██████████| 12717/12717 [00:05<00:00, 2157.20it/s]\n",
            "\u001b[34m\u001b[1mtrain: \u001b[0mNew cache created: /content/data/labels.cache\n",
            "WARNING ⚠️ Box and segment counts should be equal, but got len(segments) = 2585, len(boxes) = 13069. To resolve this only boxes will be used and all segments will be removed. To avoid this please supply either a detect or segment dataset, not a detect-segment mixed dataset.\n",
            "\u001b[34m\u001b[1malbumentations: \u001b[0mBlur(p=0.01, blur_limit=(3, 7)), MedianBlur(p=0.01, blur_limit=(3, 7)), ToGray(p=0.01), CLAHE(p=0.01, clip_limit=(1, 4.0), tile_grid_size=(8, 8))\n",
            "\u001b[34m\u001b[1mval: \u001b[0mScanning /content/data/labels... 3179 images, 29 backgrounds, 0 corrupt: 100%|██████████| 3179/3179 [00:04<00:00, 765.22it/s]\n",
            "\u001b[34m\u001b[1mval: \u001b[0mNew cache created: /content/data/labels.cache\n",
            "WARNING ⚠️ Box and segment counts should be equal, but got len(segments) = 669, len(boxes) = 3257. To resolve this only boxes will be used and all segments will be removed. To avoid this please supply either a detect or segment dataset, not a detect-segment mixed dataset.\n",
            "Plotting labels to nearbuzz/yolov8n_12/labels.jpg... \n",
            "Image sizes 640 train, 640 val\n",
            "Using 2 dataloader workers\n",
            "Logging results to \u001b[1mnearbuzz/yolov8n_12\u001b[0m\n",
            "Starting training for 40 epochs...\n",
            "\n",
            "      Epoch    GPU_mem   box_loss   cls_loss   dfl_loss  Instances       Size\n",
            "       1/40      9.15G      1.783      3.264      1.932         22        640: 100%|██████████| 180/180 [04:32<00:00,  1.52s/it]\n",
            "                 Class     Images  Instances      Box(P          R      mAP50  mAP50-95): 100%|██████████| 23/23 [00:52<00:00,  2.28s/it]\n",
            "                   all       3179       3257      0.535       0.27      0.254      0.116\n",
            "\n",
            "      Epoch    GPU_mem   box_loss   cls_loss   dfl_loss  Instances       Size\n",
            "       2/40      9.16G      1.518      2.014      1.664         19        640: 100%|██████████| 180/180 [04:24<00:00,  1.47s/it]\n",
            "                 Class     Images  Instances      Box(P          R      mAP50  mAP50-95): 100%|██████████| 23/23 [00:42<00:00,  1.87s/it]\n",
            "                   all       3179       3257      0.521      0.187      0.184     0.0846\n",
            "\n",
            "      Epoch    GPU_mem   box_loss   cls_loss   dfl_loss  Instances       Size\n",
            "       3/40      9.15G      1.569      1.892      1.705         10        640: 100%|██████████| 180/180 [04:27<00:00,  1.49s/it]\n",
            "                 Class     Images  Instances      Box(P          R      mAP50  mAP50-95): 100%|██████████| 23/23 [00:42<00:00,  1.83s/it]\n",
            "                   all       3179       3257       0.38      0.177      0.133     0.0538\n",
            "\n",
            "      Epoch    GPU_mem   box_loss   cls_loss   dfl_loss  Instances       Size\n",
            "       4/40      9.15G      1.604      1.852      1.738         12        640: 100%|██████████| 180/180 [04:26<00:00,  1.48s/it]\n",
            "                 Class     Images  Instances      Box(P          R      mAP50  mAP50-95): 100%|██████████| 23/23 [00:40<00:00,  1.77s/it]\n",
            "                   all       3179       3257      0.179      0.131     0.0776     0.0338\n",
            "\n",
            "      Epoch    GPU_mem   box_loss   cls_loss   dfl_loss  Instances       Size\n",
            "       5/40      9.16G      1.549      1.696      1.687         22        640: 100%|██████████| 180/180 [04:27<00:00,  1.49s/it]\n",
            "                 Class     Images  Instances      Box(P          R      mAP50  mAP50-95): 100%|██████████| 23/23 [00:43<00:00,  1.87s/it]\n",
            "                   all       3179       3257      0.563      0.265      0.288       0.14\n",
            "\n",
            "      Epoch    GPU_mem   box_loss   cls_loss   dfl_loss  Instances       Size\n",
            "       6/40      9.12G      1.495      1.554      1.646         12        640: 100%|██████████| 180/180 [04:21<00:00,  1.45s/it]\n",
            "                 Class     Images  Instances      Box(P          R      mAP50  mAP50-95): 100%|██████████| 23/23 [00:42<00:00,  1.86s/it]\n",
            "                   all       3179       3257      0.905      0.217      0.251       0.12\n",
            "\n",
            "      Epoch    GPU_mem   box_loss   cls_loss   dfl_loss  Instances       Size\n",
            "       7/40      9.13G      1.463      1.463      1.618         16        640: 100%|██████████| 180/180 [04:25<00:00,  1.48s/it]\n",
            "                 Class     Images  Instances      Box(P          R      mAP50  mAP50-95): 100%|██████████| 23/23 [00:41<00:00,  1.82s/it]\n",
            "                   all       3179       3257      0.548      0.396      0.361      0.164\n",
            "\n",
            "      Epoch    GPU_mem   box_loss   cls_loss   dfl_loss  Instances       Size\n",
            "       8/40      9.14G      1.435        1.4      1.591         17        640: 100%|██████████| 180/180 [04:23<00:00,  1.47s/it]\n",
            "                 Class     Images  Instances      Box(P          R      mAP50  mAP50-95): 100%|██████████| 23/23 [00:41<00:00,  1.80s/it]\n",
            "                   all       3179       3257      0.796       0.43      0.495      0.286\n",
            "\n",
            "      Epoch    GPU_mem   box_loss   cls_loss   dfl_loss  Instances       Size\n",
            "       9/40      9.14G      1.396      1.352      1.568         19        640: 100%|██████████| 180/180 [04:19<00:00,  1.44s/it]\n",
            "                 Class     Images  Instances      Box(P          R      mAP50  mAP50-95): 100%|██████████| 23/23 [00:40<00:00,  1.77s/it]\n",
            "                   all       3179       3257      0.474       0.52      0.468      0.248\n",
            "\n",
            "      Epoch    GPU_mem   box_loss   cls_loss   dfl_loss  Instances       Size\n",
            "      10/40      9.11G      1.379      1.315      1.557         14        640: 100%|██████████| 180/180 [04:15<00:00,  1.42s/it]\n",
            "                 Class     Images  Instances      Box(P          R      mAP50  mAP50-95): 100%|██████████| 23/23 [00:40<00:00,  1.76s/it]\n",
            "                   all       3179       3257      0.688       0.42      0.579      0.357\n",
            "\n",
            "      Epoch    GPU_mem   box_loss   cls_loss   dfl_loss  Instances       Size\n",
            "      11/40      9.14G      1.363      1.262      1.535         20        640: 100%|██████████| 180/180 [04:24<00:00,  1.47s/it]\n",
            "                 Class     Images  Instances      Box(P          R      mAP50  mAP50-95): 100%|██████████| 23/23 [00:43<00:00,  1.91s/it]\n",
            "                   all       3179       3257      0.628      0.492       0.54      0.305\n",
            "\n",
            "      Epoch    GPU_mem   box_loss   cls_loss   dfl_loss  Instances       Size\n",
            "      12/40      9.11G      1.344      1.232      1.523         16        640: 100%|██████████| 180/180 [04:36<00:00,  1.54s/it]\n",
            "                 Class     Images  Instances      Box(P          R      mAP50  mAP50-95): 100%|██████████| 23/23 [00:42<00:00,  1.84s/it]\n",
            "                   all       3179       3257      0.501      0.666      0.602       0.34\n",
            "\n",
            "      Epoch    GPU_mem   box_loss   cls_loss   dfl_loss  Instances       Size\n",
            "      13/40      9.12G      1.321      1.196      1.509         19        640: 100%|██████████| 180/180 [04:37<00:00,  1.54s/it]\n",
            "                 Class     Images  Instances      Box(P          R      mAP50  mAP50-95): 100%|██████████| 23/23 [00:44<00:00,  1.92s/it]\n",
            "                   all       3179       3257      0.401      0.608       0.52      0.301\n",
            "\n",
            "      Epoch    GPU_mem   box_loss   cls_loss   dfl_loss  Instances       Size\n",
            "      14/40      9.15G      1.302      1.183      1.491         19        640: 100%|██████████| 180/180 [04:40<00:00,  1.56s/it]\n",
            "                 Class     Images  Instances      Box(P          R      mAP50  mAP50-95): 100%|██████████| 23/23 [00:43<00:00,  1.90s/it]\n",
            "                   all       3179       3257      0.567      0.518       0.56      0.314\n",
            "\n",
            "      Epoch    GPU_mem   box_loss   cls_loss   dfl_loss  Instances       Size\n",
            "      15/40      9.15G      1.298      1.163      1.487         21        640: 100%|██████████| 180/180 [04:29<00:00,  1.50s/it]\n",
            "                 Class     Images  Instances      Box(P          R      mAP50  mAP50-95): 100%|██████████| 23/23 [00:42<00:00,  1.85s/it]\n",
            "                   all       3179       3257      0.538      0.567      0.595       0.36\n",
            "\n",
            "      Epoch    GPU_mem   box_loss   cls_loss   dfl_loss  Instances       Size\n",
            "      16/40      9.14G      1.284      1.138       1.48         19        640: 100%|██████████| 180/180 [04:28<00:00,  1.49s/it]\n",
            "                 Class     Images  Instances      Box(P          R      mAP50  mAP50-95): 100%|██████████| 23/23 [00:42<00:00,  1.86s/it]\n",
            "                   all       3179       3257      0.525      0.644      0.595      0.366\n",
            "\n",
            "      Epoch    GPU_mem   box_loss   cls_loss   dfl_loss  Instances       Size\n",
            "      17/40      9.12G      1.271      1.122      1.467         13        640: 100%|██████████| 180/180 [04:31<00:00,  1.51s/it]\n",
            "                 Class     Images  Instances      Box(P          R      mAP50  mAP50-95): 100%|██████████| 23/23 [00:42<00:00,  1.87s/it]\n",
            "                   all       3179       3257      0.726       0.57      0.583      0.359\n",
            "\n",
            "      Epoch    GPU_mem   box_loss   cls_loss   dfl_loss  Instances       Size\n",
            "      18/40      9.14G      1.259      1.105      1.458         21        640: 100%|██████████| 180/180 [04:32<00:00,  1.51s/it]\n",
            "                 Class     Images  Instances      Box(P          R      mAP50  mAP50-95): 100%|██████████| 23/23 [00:42<00:00,  1.85s/it]\n",
            "                   all       3179       3257      0.558      0.689      0.646       0.39\n",
            "\n",
            "      Epoch    GPU_mem   box_loss   cls_loss   dfl_loss  Instances       Size\n",
            "      19/40      9.14G      1.253      1.087      1.457         19        640: 100%|██████████| 180/180 [04:33<00:00,  1.52s/it]\n",
            "                 Class     Images  Instances      Box(P          R      mAP50  mAP50-95): 100%|██████████| 23/23 [00:42<00:00,  1.87s/it]\n",
            "                   all       3179       3257      0.837      0.565      0.707      0.428\n",
            "\n",
            "      Epoch    GPU_mem   box_loss   cls_loss   dfl_loss  Instances       Size\n",
            "      20/40      9.14G      1.238      1.068      1.444         21        640: 100%|██████████| 180/180 [04:34<00:00,  1.52s/it]\n",
            "                 Class     Images  Instances      Box(P          R      mAP50  mAP50-95): 100%|██████████| 23/23 [00:42<00:00,  1.84s/it]\n",
            "                   all       3179       3257      0.537      0.753      0.643      0.394\n",
            "\n",
            "      Epoch    GPU_mem   box_loss   cls_loss   dfl_loss  Instances       Size\n",
            "      21/40      9.15G      1.233      1.059      1.438         13        640: 100%|██████████| 180/180 [04:35<00:00,  1.53s/it]\n",
            "                 Class     Images  Instances      Box(P          R      mAP50  mAP50-95): 100%|██████████| 23/23 [00:42<00:00,  1.86s/it]\n",
            "                   all       3179       3257      0.529      0.703      0.652      0.429\n",
            "\n",
            "      Epoch    GPU_mem   box_loss   cls_loss   dfl_loss  Instances       Size\n",
            "      22/40      9.14G      1.215      1.041      1.429         17        640: 100%|██████████| 180/180 [04:33<00:00,  1.52s/it]\n",
            "                 Class     Images  Instances      Box(P          R      mAP50  mAP50-95): 100%|██████████| 23/23 [00:42<00:00,  1.83s/it]\n",
            "                   all       3179       3257      0.531      0.768      0.669      0.438\n",
            "\n",
            "      Epoch    GPU_mem   box_loss   cls_loss   dfl_loss  Instances       Size\n",
            "      23/40      9.15G      1.211       1.03      1.427         17        640: 100%|██████████| 180/180 [04:34<00:00,  1.52s/it]\n",
            "                 Class     Images  Instances      Box(P          R      mAP50  mAP50-95): 100%|██████████| 23/23 [00:43<00:00,  1.88s/it]\n",
            "                   all       3179       3257      0.567      0.715      0.667      0.431\n",
            "\n",
            "      Epoch    GPU_mem   box_loss   cls_loss   dfl_loss  Instances       Size\n",
            "      24/40      9.14G      1.193      1.012      1.413         15        640: 100%|██████████| 180/180 [04:36<00:00,  1.54s/it]\n",
            "                 Class     Images  Instances      Box(P          R      mAP50  mAP50-95): 100%|██████████| 23/23 [00:43<00:00,  1.89s/it]\n",
            "                   all       3179       3257      0.605      0.758      0.674      0.425\n",
            "\n",
            "      Epoch    GPU_mem   box_loss   cls_loss   dfl_loss  Instances       Size\n",
            "      25/40      9.12G      1.187      1.012      1.407         18        640: 100%|██████████| 180/180 [04:35<00:00,  1.53s/it]\n",
            "                 Class     Images  Instances      Box(P          R      mAP50  mAP50-95): 100%|██████████| 23/23 [00:43<00:00,  1.90s/it]\n",
            "                   all       3179       3257      0.586      0.806      0.675      0.449\n",
            "\n",
            "      Epoch    GPU_mem   box_loss   cls_loss   dfl_loss  Instances       Size\n",
            "      26/40      9.11G      1.176     0.9908      1.398         15        640: 100%|██████████| 180/180 [04:33<00:00,  1.52s/it]\n",
            "                 Class     Images  Instances      Box(P          R      mAP50  mAP50-95): 100%|██████████| 23/23 [00:42<00:00,  1.86s/it]\n",
            "                   all       3179       3257      0.643      0.691      0.739      0.498\n",
            "\n",
            "      Epoch    GPU_mem   box_loss   cls_loss   dfl_loss  Instances       Size\n",
            "      27/40      9.11G      1.165     0.9709      1.392         14        640: 100%|██████████| 180/180 [04:33<00:00,  1.52s/it]\n",
            "                 Class     Images  Instances      Box(P          R      mAP50  mAP50-95): 100%|██████████| 23/23 [00:41<00:00,  1.81s/it]\n",
            "                   all       3179       3257      0.615      0.746       0.73      0.499\n",
            "\n",
            "      Epoch    GPU_mem   box_loss   cls_loss   dfl_loss  Instances       Size\n",
            "      28/40      9.14G      1.155     0.9667      1.381         21        640: 100%|██████████| 180/180 [04:29<00:00,  1.50s/it]\n",
            "                 Class     Images  Instances      Box(P          R      mAP50  mAP50-95): 100%|██████████| 23/23 [00:43<00:00,  1.89s/it]\n",
            "                   all       3179       3257      0.636      0.804      0.716      0.464\n",
            "\n",
            "      Epoch    GPU_mem   box_loss   cls_loss   dfl_loss  Instances       Size\n",
            "      29/40      9.14G      1.147     0.9452      1.379         19        640: 100%|██████████| 180/180 [04:37<00:00,  1.54s/it]\n",
            "                 Class     Images  Instances      Box(P          R      mAP50  mAP50-95): 100%|██████████| 23/23 [00:41<00:00,  1.82s/it]\n",
            "                   all       3179       3257      0.618      0.769      0.711      0.474\n",
            "\n",
            "      Epoch    GPU_mem   box_loss   cls_loss   dfl_loss  Instances       Size\n",
            "      30/40      9.14G      1.141     0.9373      1.372         20        640: 100%|██████████| 180/180 [04:33<00:00,  1.52s/it]\n",
            "                 Class     Images  Instances      Box(P          R      mAP50  mAP50-95): 100%|██████████| 23/23 [00:42<00:00,  1.86s/it]\n",
            "                   all       3179       3257      0.604      0.812      0.728      0.494\n",
            "\n",
            "      Epoch    GPU_mem   box_loss   cls_loss   dfl_loss  Instances       Size\n",
            "      31/40      9.15G      1.138     0.9347      1.375         14        640: 100%|██████████| 180/180 [04:32<00:00,  1.51s/it]\n",
            "                 Class     Images  Instances      Box(P          R      mAP50  mAP50-95): 100%|██████████| 23/23 [00:42<00:00,  1.84s/it]\n",
            "                   all       3179       3257      0.644      0.767       0.74      0.526\n",
            "\n",
            "      Epoch    GPU_mem   box_loss   cls_loss   dfl_loss  Instances       Size\n",
            "      32/40      9.12G      1.124     0.9358      1.367         13        640: 100%|██████████| 180/180 [04:35<00:00,  1.53s/it]\n",
            "                 Class     Images  Instances      Box(P          R      mAP50  mAP50-95): 100%|██████████| 23/23 [00:42<00:00,  1.84s/it]\n",
            "                   all       3179       3257      0.592      0.804      0.788      0.549\n",
            "\n",
            "      Epoch    GPU_mem   box_loss   cls_loss   dfl_loss  Instances       Size\n",
            "      33/40      9.14G      1.107     0.9088      1.351         19        640: 100%|██████████| 180/180 [04:35<00:00,  1.53s/it]\n",
            "                 Class     Images  Instances      Box(P          R      mAP50  mAP50-95): 100%|██████████| 23/23 [00:44<00:00,  1.92s/it]\n",
            "                   all       3179       3257      0.643      0.797      0.793      0.557\n",
            "\n",
            "      Epoch    GPU_mem   box_loss   cls_loss   dfl_loss  Instances       Size\n",
            "      34/40      9.11G      1.092     0.8829      1.344         18        640: 100%|██████████| 180/180 [04:34<00:00,  1.52s/it]\n",
            "                 Class     Images  Instances      Box(P          R      mAP50  mAP50-95): 100%|██████████| 23/23 [00:42<00:00,  1.84s/it]\n",
            "                   all       3179       3257      0.647      0.813      0.773      0.543\n",
            "\n",
            "      Epoch    GPU_mem   box_loss   cls_loss   dfl_loss  Instances       Size\n",
            "      35/40      9.11G      1.084     0.8836      1.343         19        640: 100%|██████████| 180/180 [04:32<00:00,  1.51s/it]\n",
            "                 Class     Images  Instances      Box(P          R      mAP50  mAP50-95): 100%|██████████| 23/23 [00:41<00:00,  1.82s/it]\n",
            "                   all       3179       3257       0.65      0.809      0.796       0.56\n",
            "\n",
            "      Epoch    GPU_mem   box_loss   cls_loss   dfl_loss  Instances       Size\n",
            "      36/40      9.11G      1.077      0.878      1.342         11        640: 100%|██████████| 180/180 [04:35<00:00,  1.53s/it]\n",
            "                 Class     Images  Instances      Box(P          R      mAP50  mAP50-95): 100%|██████████| 23/23 [00:43<00:00,  1.87s/it]\n",
            "                   all       3179       3257       0.64      0.811      0.784      0.553\n",
            "\n",
            "      Epoch    GPU_mem   box_loss   cls_loss   dfl_loss  Instances       Size\n",
            "      37/40      9.11G      1.072     0.8718      1.335         13        640: 100%|██████████| 180/180 [04:32<00:00,  1.51s/it]\n",
            "                 Class     Images  Instances      Box(P          R      mAP50  mAP50-95): 100%|██████████| 23/23 [00:43<00:00,  1.87s/it]\n",
            "                   all       3179       3257      0.631      0.816      0.783       0.55\n",
            "\n",
            "      Epoch    GPU_mem   box_loss   cls_loss   dfl_loss  Instances       Size\n",
            "      38/40      9.14G      1.053     0.8539       1.32         19        640: 100%|██████████| 180/180 [04:35<00:00,  1.53s/it]\n",
            "                 Class     Images  Instances      Box(P          R      mAP50  mAP50-95): 100%|██████████| 23/23 [00:42<00:00,  1.83s/it]\n",
            "                   all       3179       3257      0.641      0.808      0.789      0.551\n",
            "\n",
            "      Epoch    GPU_mem   box_loss   cls_loss   dfl_loss  Instances       Size\n",
            "      39/40      9.11G      1.046     0.8452      1.317         14        640: 100%|██████████| 180/180 [04:33<00:00,  1.52s/it]\n",
            "                 Class     Images  Instances      Box(P          R      mAP50  mAP50-95): 100%|██████████| 23/23 [00:44<00:00,  1.94s/it]\n",
            "                   all       3179       3257      0.629      0.823      0.789      0.564\n",
            "\n",
            "      Epoch    GPU_mem   box_loss   cls_loss   dfl_loss  Instances       Size\n",
            "      40/40      9.11G      1.033      0.839      1.309         15        640: 100%|██████████| 180/180 [04:39<00:00,  1.55s/it]\n",
            "                 Class     Images  Instances      Box(P          R      mAP50  mAP50-95): 100%|██████████| 23/23 [00:59<00:00,  2.60s/it]\n",
            "                   all       3179       3257      0.704        0.8      0.795      0.573\n",
            "\n",
            "40 epochs completed in 3.512 hours.\n",
            "Optimizer stripped from nearbuzz/yolov8n_12/weights/last.pt, 6.2MB\n",
            "Optimizer stripped from nearbuzz/yolov8n_12/weights/best.pt, 6.2MB\n",
            "\n",
            "Validating nearbuzz/yolov8n_12/weights/best.pt...\n",
            "Ultralytics YOLOv8.0.112 🚀 Python-3.10.11 torch-2.0.1+cu118 CUDA:0 (Tesla T4, 15102MiB)\n",
            "Model summary (fused): 168 layers, 3007013 parameters, 0 gradients\n",
            "                 Class     Images  Instances      Box(P          R      mAP50  mAP50-95): 100%|██████████| 23/23 [00:53<00:00,  2.33s/it]\n",
            "                   all       3179       3257      0.706        0.8      0.795      0.573\n",
            "              drinking       3179        651      0.992      0.995      0.995      0.738\n",
            "                helmet       3179        535      0.519      0.551      0.454      0.244\n",
            "             no_helmet       3179        204      0.254      0.127      0.174     0.0899\n",
            "                 awake       3179          9      0.906          1      0.995      0.772\n",
            "                drowsy       3179          2      0.442          1      0.995      0.846\n",
            "              seatbelt       3179       1469      0.909      0.967      0.978      0.701\n",
            "           no_seatbelt       3179        387      0.921       0.96      0.974       0.62\n",
            "Speed: 0.8ms preprocess, 2.5ms inference, 0.0ms loss, 2.5ms postprocess per image\n",
            "Results saved to \u001b[1mnearbuzz/yolov8n_12\u001b[0m\n"
          ]
        }
      ]
    },
    {
      "cell_type": "code",
      "source": [
        "!cp /content/data.zip /content/drive/MyDrive/Data_Science/vehicle_speed_safety/"
      ],
      "metadata": {
        "id": "OIXLSaaYHAHY"
      },
      "execution_count": null,
      "outputs": []
    },
    {
      "cell_type": "code",
      "source": [
        "!nvidia-smi"
      ],
      "metadata": {
        "colab": {
          "base_uri": "https://localhost:8080/"
        },
        "id": "iTK_CNNtH1L6",
        "outputId": "94d758b3-fd05-4f36-adf6-2a4ab4bdf132"
      },
      "execution_count": null,
      "outputs": [
        {
          "output_type": "stream",
          "name": "stdout",
          "text": [
            "Sun Jun  4 11:28:21 2023       \n",
            "+-----------------------------------------------------------------------------+\n",
            "| NVIDIA-SMI 525.85.12    Driver Version: 525.85.12    CUDA Version: 12.0     |\n",
            "|-------------------------------+----------------------+----------------------+\n",
            "| GPU  Name        Persistence-M| Bus-Id        Disp.A | Volatile Uncorr. ECC |\n",
            "| Fan  Temp  Perf  Pwr:Usage/Cap|         Memory-Usage | GPU-Util  Compute M. |\n",
            "|                               |                      |               MIG M. |\n",
            "|===============================+======================+======================|\n",
            "|   0  Tesla T4            Off  | 00000000:00:04.0 Off |                    0 |\n",
            "| N/A   77C    P0    32W /  70W |  14463MiB / 15360MiB |      0%      Default |\n",
            "|                               |                      |                  N/A |\n",
            "+-------------------------------+----------------------+----------------------+\n",
            "                                                                               \n",
            "+-----------------------------------------------------------------------------+\n",
            "| Processes:                                                                  |\n",
            "|  GPU   GI   CI        PID   Type   Process name                  GPU Memory |\n",
            "|        ID   ID                                                   Usage      |\n",
            "|=============================================================================|\n",
            "+-----------------------------------------------------------------------------+\n"
          ]
        }
      ]
    },
    {
      "cell_type": "code",
      "source": [],
      "metadata": {
        "id": "NBKpiCzEH96T"
      },
      "execution_count": null,
      "outputs": []
    }
  ]
}