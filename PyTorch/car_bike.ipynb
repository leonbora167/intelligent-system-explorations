{
 "cells": [
  {
   "cell_type": "markdown",
   "id": "13853e0d-ec04-45de-b212-275d3d144d45",
   "metadata": {
    "tags": []
   },
   "source": [
    "# Prequisites"
   ]
  },
  {
   "cell_type": "code",
   "execution_count": 1,
   "id": "06720f7a-e688-491a-8200-247f1fa5d3b9",
   "metadata": {},
   "outputs": [],
   "source": [
    "import pandas as pd\n",
    "import numpy as np\n",
    "import cv2\n",
    "import os\n",
    "from tqdm import tqdm\n",
    "import matplotlib.pyplot as plt\n",
    "import torch"
   ]
  },
  {
   "cell_type": "markdown",
   "id": "2a85ebb9-9013-420a-b4b7-159d0d255b19",
   "metadata": {
    "tags": []
   },
   "source": [
    "# Data Preparation"
   ]
  },
  {
   "cell_type": "code",
   "execution_count": 2,
   "id": "a91a05c2-1e8e-48f7-aec7-b6a1d3db2cf9",
   "metadata": {},
   "outputs": [
    {
     "name": "stdout",
     "output_type": "stream",
     "text": [
      "Number of Bikes are  2000\n",
      "Number of Cars are  2000\n"
     ]
    }
   ],
   "source": [
    "print(\"Number of Bikes are \",\n",
    "      len(os.listdir(\"Car-Bike-Dataset/Bike\")))\n",
    "print(\"Number of Cars are \",\n",
    "      len(os.listdir(\"Car-Bike-Dataset/Car\")))"
   ]
  },
  {
   "cell_type": "code",
   "execution_count": 2,
   "id": "cd2583cb-6d02-4152-a7dc-9ae7f4750b3e",
   "metadata": {},
   "outputs": [
    {
     "name": "stderr",
     "output_type": "stream",
     "text": [
      "100%|█████████████████████████████████████████████| 2000/2000 [00:00<00:00, 5012.59it/s]\n",
      "100%|█████████████████████████████████████████████| 2000/2000 [00:00<00:00, 4306.83it/s]\n"
     ]
    }
   ],
   "source": [
    "#0 for Bike and 1 for Car\n",
    "col1 = []\n",
    "col2 = []\n",
    "for i in tqdm(os.listdir(\"Car-Bike-Dataset\\\\Bike\")):\n",
    "    path = os.path.join(\"Car-Bike-Dataset\\\\Bike\", i)\n",
    "    with open(\"data.txt\", \"a\") as x:\n",
    "        x.write(path+\"\\t\"+\"Bike\"+\"\\n\")\n",
    "        col1.append(path)\n",
    "        col2.append(0)\n",
    "for i in tqdm(os.listdir(\"Car-Bike-Dataset\\\\Car\")):\n",
    "    path = os.path.join(\"Car-Bike-Dataset\\\\Car\", i)\n",
    "    with open(\"data.txt\", \"a\") as x:\n",
    "        x.write(path+\"\\t\"+\"Car\"+\"\\n\")\n",
    "        col1.append(path)\n",
    "        col2.append(1)"
   ]
  },
  {
   "cell_type": "code",
   "execution_count": 3,
   "id": "a47fc250-89fa-44b5-b67f-35ac9dd3ffe7",
   "metadata": {},
   "outputs": [],
   "source": [
    "df = pd.DataFrame(list(zip(col1, col2)),\n",
    "                  columns = [\"img\", \"label\"], index=None)"
   ]
  },
  {
   "cell_type": "code",
   "execution_count": 4,
   "id": "210573c8-9aa2-40db-8efc-7639c89cf3c0",
   "metadata": {},
   "outputs": [],
   "source": [
    "from torch.utils.data import Dataset\n",
    "import torchvision\n",
    "from torch.utils.data import DataLoader"
   ]
  },
  {
   "cell_type": "code",
   "execution_count": 5,
   "id": "a938ab78-b08f-4151-a86f-36e0b2af9201",
   "metadata": {},
   "outputs": [],
   "source": [
    "class CBDataset(Dataset):\n",
    "    def __init__(self, data, transform):\n",
    "        self.dataset = data\n",
    "        self.transform = transform\n",
    "    def __len__(self):\n",
    "        return len(self.dataset)\n",
    "    def __getitem__(self, index):\n",
    "        image = cv2.imread(self.dataset.iloc[index][0])\n",
    "        #image = image.reshape(52, 52)\n",
    "        image = cv2.resize(image, (52,52))\n",
    "        label = self.dataset.iloc[index][1]\n",
    "        if self.transform is not None:\n",
    "            #image = self.transform(image.astype(np.float32))\n",
    "            image = self.transform(image)\n",
    "        return image, label"
   ]
  },
  {
   "cell_type": "code",
   "execution_count": 6,
   "id": "0663581c-2435-46c5-b0f1-e92a1e5d84f5",
   "metadata": {},
   "outputs": [],
   "source": [
    "transform = torchvision.transforms.Compose([torchvision.transforms.ToPILImage(),\n",
    "                                           torchvision.transforms.ToTensor()])\n",
    "\n",
    "train_data = CBDataset(df.iloc[0:1500],\n",
    "                       transform=transform)\n",
    "\n",
    "val_data = CBDataset(df.iloc[1500:],\n",
    "                     transform= transform)"
   ]
  },
  {
   "cell_type": "code",
   "execution_count": 8,
   "id": "4988d658-02a9-4a15-80b4-c0642b095a0c",
   "metadata": {},
   "outputs": [],
   "source": [
    "train_loader = DataLoader(train_data, batch_size=32, shuffle=True)\n",
    "val_loader = DataLoader(val_data, batch_size=32, shuffle=True)"
   ]
  },
  {
   "cell_type": "code",
   "execution_count": 57,
   "id": "45a838d3-7adb-434d-9c7f-cea45daa0423",
   "metadata": {},
   "outputs": [
    {
     "data": {
      "text/plain": [
       "<__main__.CBDataset at 0x27294ce1930>"
      ]
     },
     "execution_count": 57,
     "metadata": {},
     "output_type": "execute_result"
    }
   ],
   "source": [
    "train_data"
   ]
  },
  {
   "cell_type": "markdown",
   "id": "a8806dee-cf69-4f03-8570-2ce03edf5b24",
   "metadata": {},
   "source": [
    "# Model Training"
   ]
  },
  {
   "cell_type": "markdown",
   "id": "d23a18dc-b13c-4be1-b458-ab10a95d49ea",
   "metadata": {
    "jp-MarkdownHeadingCollapsed": true,
    "tags": []
   },
   "source": [
    "## Simple shallow ann with feature maps halved at every layer"
   ]
  },
  {
   "cell_type": "code",
   "execution_count": 32,
   "id": "5441b948-7384-488e-b8d9-3e728c933615",
   "metadata": {},
   "outputs": [],
   "source": [
    "model = torch.nn.Sequential(\n",
    "        torch.nn.Flatten(),\n",
    "        torch.nn.Linear(8112,128),\n",
    "        torch.nn.Linear(128,64),\n",
    "        torch.nn.Linear(64,32),\n",
    "        torch.nn.Linear(32,16),\n",
    "        torch.nn.Linear(16,8),\n",
    "        torch.nn.Linear(8,2)\n",
    "        )"
   ]
  },
  {
   "cell_type": "code",
   "execution_count": 33,
   "id": "8b9be6da-3ae6-44bf-9110-a6eb9fc844c7",
   "metadata": {},
   "outputs": [
    {
     "data": {
      "text/plain": [
       "<bound method Module.modules of Sequential(\n",
       "  (0): Flatten(start_dim=1, end_dim=-1)\n",
       "  (1): Linear(in_features=8112, out_features=128, bias=True)\n",
       "  (2): Linear(in_features=128, out_features=64, bias=True)\n",
       "  (3): Linear(in_features=64, out_features=32, bias=True)\n",
       "  (4): Linear(in_features=32, out_features=16, bias=True)\n",
       "  (5): Linear(in_features=16, out_features=8, bias=True)\n",
       "  (6): Linear(in_features=8, out_features=2, bias=True)\n",
       ")>"
      ]
     },
     "execution_count": 33,
     "metadata": {},
     "output_type": "execute_result"
    }
   ],
   "source": [
    "model.modules"
   ]
  },
  {
   "cell_type": "code",
   "execution_count": 34,
   "id": "7d0230b1-22b3-4188-a4e2-3f6a60fd0c6e",
   "metadata": {},
   "outputs": [
    {
     "name": "stdout",
     "output_type": "stream",
     "text": [
      "torch.Size([128, 3, 52, 52])\n",
      "torch.Size([128, 2])\n"
     ]
    },
    {
     "data": {
      "text/plain": [
       "(None,\n",
       " tensor([0, 0, 0, 0, 0, 0, 0, 0, 0, 0, 0, 0, 0, 0, 0, 0, 0, 0, 0, 0, 0, 0, 0, 0,\n",
       "         0, 0, 0, 0, 0, 0, 0, 0, 0, 0, 0, 0, 0, 0, 0, 0, 0, 0, 0, 0, 0, 0, 0, 0,\n",
       "         0, 0, 0, 0, 0, 0, 0, 0, 0, 0, 0, 0, 0, 0, 0, 0, 0, 0, 0, 0, 0, 0, 0, 0,\n",
       "         0, 0, 0, 0, 0, 0, 0, 0, 0, 0, 0, 0, 0, 0, 0, 0, 0, 0, 0, 0, 0, 0, 0, 0,\n",
       "         0, 0, 0, 0, 0, 0, 0, 0, 0, 0, 0, 0, 0, 0, 0, 0, 0, 0, 0, 0, 0, 0, 0, 0,\n",
       "         0, 0, 0, 0, 0, 0, 0, 0]),\n",
       " torch.Size([128]))"
      ]
     },
     "execution_count": 34,
     "metadata": {},
     "output_type": "execute_result"
    }
   ],
   "source": [
    "images ,labels = iter(train_loader).next()\n",
    "print(images.shape)\n",
    "print(model(images).shape), labels, labels.shape"
   ]
  },
  {
   "cell_type": "code",
   "execution_count": 42,
   "id": "237cbe56-30f3-4b34-a940-524baa304e59",
   "metadata": {},
   "outputs": [],
   "source": [
    "criterion = torch.nn.CrossEntropyLoss()\n",
    "optimizer = torch.optim.Adam(model.parameters(), lr=0.001)\n",
    "scheduler = torch.optim.lr_scheduler.StepLR(optimizer, step_size=2, gamma=0.7)"
   ]
  },
  {
   "cell_type": "code",
   "execution_count": 45,
   "id": "1d77b6ee-4218-4b32-8d64-898af4ee2293",
   "metadata": {},
   "outputs": [
    {
     "name": "stdout",
     "output_type": "stream",
     "text": [
      "Epoch :  0\n",
      "Train accuracy on Batch of 12 images is 0.08333333333333333 \n",
      "Validation accuracy on Batch of 12 images is 0.1953125\n",
      "Loss is  tensor(0., grad_fn=<AddBackward0>)\n",
      "Epoch :  1\n",
      "Train accuracy on Batch of 12 images is 0.08333333333333333 \n",
      "Validation accuracy on Batch of 12 images is 0.2109375\n",
      "Loss is  tensor(0., grad_fn=<AddBackward0>)\n",
      "Epoch :  2\n",
      "Train accuracy on Batch of 12 images is 0.08333333333333333 \n",
      "Validation accuracy on Batch of 12 images is 0.234375\n",
      "Loss is  tensor(0., grad_fn=<AddBackward0>)\n",
      "Epoch :  3\n",
      "Train accuracy on Batch of 12 images is 0.08333333333333333 \n",
      "Validation accuracy on Batch of 12 images is 0.1796875\n",
      "Loss is  tensor(0., grad_fn=<AddBackward0>)\n",
      "Epoch :  4\n",
      "Train accuracy on Batch of 12 images is 0.08333333333333333 \n",
      "Validation accuracy on Batch of 12 images is 0.125\n",
      "Loss is  tensor(0., grad_fn=<AddBackward0>)\n"
     ]
    }
   ],
   "source": [
    "lrs = []\n",
    "val_acc = []\n",
    "train_acc = []\n",
    "for epoch in range(0,5):\n",
    "    print(\"Epoch : \",epoch)\n",
    "    epoch_loss = 0\n",
    "    batches = 0\n",
    "    for inputs, targets in train_loader:\n",
    "        optimizer.zero_grad()\n",
    "        batches+=1\n",
    "        outputs=model(inputs)\n",
    "        loss = criterion(outputs, targets)\n",
    "        epoch_loss += loss\n",
    "        loss.backward()\n",
    "        optimizer.step()\n",
    "    lrs.append(optimizer.param_groups[0][\"lr\"])\n",
    "    scheduler.step()\n",
    "    inputs,targets = iter(val_loader).next()\n",
    "    outputs = model(inputs).detach().numpy().argmax(axis=-1)\n",
    "    val_accuracy = (outputs == targets.numpy()).mean()\n",
    "    val_acc.append(val_accuracy)\n",
    "    for inputs,targets in train_loader:\n",
    "        outputs = model(inputs).detach().numpy().argmax(axis=-1)\n",
    "        train_accuracy = (outputs == targets.numpy()).mean()\n",
    "    train_accuracy = train_accuracy/batches\n",
    "    train_acc.append(train_accuracy)\n",
    "    print(\"Train accuracy on Batch of {} images is {} \".format(batches, train_accuracy))\n",
    "    print(\"Validation accuracy on Batch of {} images is {}\".format(batches, val_accuracy))\n",
    "    print(\"Loss is \", epoch_loss)"
   ]
  },
  {
   "cell_type": "code",
   "execution_count": 50,
   "id": "dbd674c5-6f19-420a-83d9-e11e753e56aa",
   "metadata": {},
   "outputs": [
    {
     "data": {
      "image/png": "[encoded data removed]",
      "text/plain": [
       "<Figure size 640x480 with 1 Axes>"
      ]
     },
     "metadata": {},
     "output_type": "display_data"
    }
   ],
   "source": [
    "plt.style.use(\"ggplot\")\n",
    "plt.plot(train_acc, label=\"Training accuracy\")\n",
    "plt.plot(val_acc, label=\"Validation Accuracy\")\n",
    "plt.legend()\n",
    "plt.show()"
   ]
  },
  {
   "cell_type": "markdown",
   "id": "a1a73079-51aa-4408-81dd-c4c3fa6844f7",
   "metadata": {
    "tags": []
   },
   "source": [
    "## Adding Dropouts in between tha layers "
   ]
  },
  {
   "cell_type": "code",
   "execution_count": 54,
   "id": "fe129e16-398c-454e-a107-74b4f7725ddf",
   "metadata": {},
   "outputs": [],
   "source": [
    "model = torch.nn.Sequential(\n",
    "        torch.nn.Flatten(),\n",
    "        torch.nn.Linear(8112,128),\n",
    "        torch.nn.Dropout(),\n",
    "        torch.nn.Linear(128,64),\n",
    "        torch.nn.Dropout(),\n",
    "        torch.nn.Linear(64,32),\n",
    "        torch.nn.Dropout(),\n",
    "        torch.nn.Linear(32,16),\n",
    "        torch.nn.Dropout(),\n",
    "        torch.nn.Linear(16,8)\n",
    ")"
   ]
  },
  {
   "cell_type": "code",
   "execution_count": 55,
   "id": "f9931d1e-c796-4e5c-acbc-ad7717459f66",
   "metadata": {},
   "outputs": [
    {
     "data": {
      "text/plain": [
       "<bound method Module.modules of Sequential(\n",
       "  (0): Flatten(start_dim=1, end_dim=-1)\n",
       "  (1): Linear(in_features=8112, out_features=128, bias=True)\n",
       "  (2): Dropout(p=0.5, inplace=False)\n",
       "  (3): Linear(in_features=128, out_features=64, bias=True)\n",
       "  (4): Dropout(p=0.5, inplace=False)\n",
       "  (5): Linear(in_features=64, out_features=32, bias=True)\n",
       "  (6): Dropout(p=0.5, inplace=False)\n",
       "  (7): Linear(in_features=32, out_features=16, bias=True)\n",
       "  (8): Dropout(p=0.5, inplace=False)\n",
       "  (9): Linear(in_features=16, out_features=8, bias=True)\n",
       ")>"
      ]
     },
     "execution_count": 55,
     "metadata": {},
     "output_type": "execute_result"
    }
   ],
   "source": [
    "model.modules"
   ]
  },
  {
   "cell_type": "code",
   "execution_count": 56,
   "id": "afa9e4f8-d84c-4ee0-9256-c607cdf1e34a",
   "metadata": {},
   "outputs": [],
   "source": [
    "criterion = torch.nn.CrossEntropyLoss()\n",
    "optimizer = torch.optim.Adam(model.parameters(), lr=0.001)\n",
    "scheduler = torch.optim.lr_scheduler.StepLR(optimizer, step_size=2, gamma=0.7)"
   ]
  },
  {
   "cell_type": "code",
   "execution_count": 66,
   "id": "c1c4f050-37f4-4978-986e-af1efa183086",
   "metadata": {},
   "outputs": [
    {
     "name": "stdout",
     "output_type": "stream",
     "text": [
      "Epoch :  0\n",
      "Train accuracy on Batch of 12 images is 0.08333333333333333 \n",
      "Validation accuracy on Batch of 12 images is 0.1796875\n",
      "Loss is  tensor(0.2004, grad_fn=<AddBackward0>)\n",
      "Epoch :  1\n",
      "Train accuracy on Batch of 12 images is 0.08333333333333333 \n",
      "Validation accuracy on Batch of 12 images is 0.1640625\n",
      "Loss is  tensor(0.1091, grad_fn=<AddBackward0>)\n",
      "Epoch :  2\n",
      "Train accuracy on Batch of 12 images is 0.08333333333333333 \n",
      "Validation accuracy on Batch of 12 images is 0.203125\n",
      "Loss is  tensor(0.1189, grad_fn=<AddBackward0>)\n",
      "Epoch :  3\n",
      "Train accuracy on Batch of 12 images is 0.08242753623188405 \n",
      "Validation accuracy on Batch of 12 images is 0.2265625\n",
      "Loss is  tensor(0.1593, grad_fn=<AddBackward0>)\n",
      "Epoch :  4\n",
      "Train accuracy on Batch of 12 images is 0.08333333333333333 \n",
      "Validation accuracy on Batch of 12 images is 0.2109375\n",
      "Loss is  tensor(0.3159, grad_fn=<AddBackward0>)\n",
      "Epoch :  5\n",
      "Train accuracy on Batch of 12 images is 0.08333333333333333 \n",
      "Validation accuracy on Batch of 12 images is 0.234375\n",
      "Loss is  tensor(0.2883, grad_fn=<AddBackward0>)\n",
      "Epoch :  6\n",
      "Train accuracy on Batch of 12 images is 0.08333333333333333 \n",
      "Validation accuracy on Batch of 12 images is 0.1953125\n",
      "Loss is  tensor(0.0997, grad_fn=<AddBackward0>)\n",
      "Epoch :  7\n",
      "Train accuracy on Batch of 12 images is 0.08333333333333333 \n",
      "Validation accuracy on Batch of 12 images is 0.1875\n",
      "Loss is  tensor(0.3122, grad_fn=<AddBackward0>)\n",
      "Epoch :  8\n",
      "Train accuracy on Batch of 12 images is 0.08242753623188405 \n",
      "Validation accuracy on Batch of 12 images is 0.2109375\n",
      "Loss is  tensor(0.3355, grad_fn=<AddBackward0>)\n",
      "Epoch :  9\n",
      "Train accuracy on Batch of 12 images is 0.08333333333333333 \n",
      "Validation accuracy on Batch of 12 images is 0.15625\n",
      "Loss is  tensor(0.1960, grad_fn=<AddBackward0>)\n"
     ]
    }
   ],
   "source": [
    "lrs = []\n",
    "val_acc = []\n",
    "train_acc = []\n",
    "ep_loss = []\n",
    "for epoch in range(0,10):\n",
    "    print(\"Epoch : \",epoch)\n",
    "    epoch_loss = 0\n",
    "    batches = 0\n",
    "    for inputs, targets in train_loader:\n",
    "        optimizer.zero_grad()\n",
    "        batches+=1\n",
    "        outputs=model(inputs)\n",
    "        loss = criterion(outputs, targets)\n",
    "        epoch_loss += loss\n",
    "        loss.backward()\n",
    "        optimizer.step()\n",
    "    lrs.append(optimizer.param_groups[0][\"lr\"])\n",
    "    scheduler.step()\n",
    "    inputs,targets = iter(val_loader).next()\n",
    "    outputs = model(inputs).detach().numpy().argmax(axis=-1)\n",
    "    val_accuracy = (outputs == targets.numpy()).mean()\n",
    "    val_acc.append(val_accuracy)\n",
    "    for inputs,targets in train_loader:\n",
    "        outputs = model(inputs).detach().numpy().argmax(axis=-1)\n",
    "        train_accuracy = (outputs == targets.numpy()).mean()\n",
    "    train_accuracy = train_accuracy/batches\n",
    "    train_acc.append(train_accuracy)\n",
    "    ep_loss.append(epoch_loss.detach().numpy())\n",
    "    print(\"Train accuracy on Batch of {} images is {} \".format(batches, train_accuracy))\n",
    "    print(\"Validation accuracy on Batch of {} images is {}\".format(batches, val_accuracy))\n",
    "    print(\"Loss is \", epoch_loss)"
   ]
  },
  {
   "cell_type": "code",
   "execution_count": 67,
   "id": "6f720a20-f10c-4356-be37-1a8ea3710acc",
   "metadata": {},
   "outputs": [
    {
     "data": {
      "image/png": "[encoded data removed]",
      "text/plain": [
       "<Figure size 640x480 with 1 Axes>"
      ]
     },
     "metadata": {},
     "output_type": "display_data"
    }
   ],
   "source": [
    "plt.style.use(\"ggplot\")\n",
    "plt.plot(train_acc, label=\"Training accuracy\")\n",
    "plt.plot(val_acc, label=\"Validation Accuracy\")\n",
    "plt.legend()\n",
    "plt.show()"
   ]
  },
  {
   "cell_type": "code",
   "execution_count": 68,
   "id": "bb23e571-cdc6-4ed2-9f7a-03a9d0475b1a",
   "metadata": {},
   "outputs": [
    {
     "data": {
      "text/plain": [
       "<matplotlib.legend.Legend at 0x2400de89d80>"
      ]
     },
     "execution_count": 68,
     "metadata": {},
     "output_type": "execute_result"
    },
    {
     "data": {
      "image/png": "[encoded data removed]",
      "text/plain": [
       "<Figure size 640x480 with 1 Axes>"
      ]
     },
     "metadata": {},
     "output_type": "display_data"
    }
   ],
   "source": [
    "plt.plot(lrs, label=\"Learning Rate\")\n",
    "plt.legend()"
   ]
  },
  {
   "cell_type": "code",
   "execution_count": 71,
   "id": "4947f995-2bfd-436c-9df9-bc467e9c5974",
   "metadata": {},
   "outputs": [
    {
     "data": {
      "text/plain": [
       "<matplotlib.legend.Legend at 0x24009281bd0>"
      ]
     },
     "execution_count": 71,
     "metadata": {},
     "output_type": "execute_result"
    },
    {
     "data": {
      "image/png": "[encoded data removed]",
      "text/plain": [
       "<Figure size 640x480 with 1 Axes>"
      ]
     },
     "metadata": {},
     "output_type": "display_data"
    }
   ],
   "source": [
    "plt.plot(ep_loss, label = \"Loss\")\n",
    "plt.legend()"
   ]
  },
  {
   "cell_type": "markdown",
   "id": "19018df9-98ff-4d23-8b8a-6a5205178ed6",
   "metadata": {},
   "source": [
    "## Basic Convolutional Neural Networks for Training"
   ]
  },
  {
   "cell_type": "code",
   "execution_count": 13,
   "id": "d02b6ee0-e81d-4ff6-9332-adb25adff294",
   "metadata": {},
   "outputs": [],
   "source": [
    "model = torch.nn.Sequential(\n",
    "    torch.nn.Conv2d(3, 32, 3, stride=1, padding=1),\n",
    "    torch.nn.BatchNorm2d(32),\n",
    "    torch.nn.ReLU(inplace=True),\n",
    "    torch.nn.Conv2d(in_channels=32, out_channels=32, kernel_size=3, stride=1, padding=1),\n",
    "    torch.nn.BatchNorm2d(32),\n",
    "    torch.nn.ReLU(inplace=True),\n",
    "    torch.nn.MaxPool2d(kernel_size=2, stride=2),\n",
    "    torch.nn.Conv2d(32,64,kernel_size=3, padding=1),\n",
    "    torch.nn.BatchNorm2d(64),\n",
    "    torch.nn.ReLU(inplace=True),\n",
    "    torch.nn.MaxPool2d(kernel_size=2, stride=2),\n",
    "    torch.nn.Dropout(p=0.6),\n",
    "    torch.nn.Linear(13,128*64*13),\n",
    "    torch.nn.BatchNorm2d(64)\n",
    ")"
   ]
  },
  {
   "cell_type": "code",
   "execution_count": null,
   "id": "d7e19b02-f9c7-4a6f-b7ce-c30c65adf52a",
   "metadata": {},
   "outputs": [],
   "source": [
    "inputs, targets = iter(train_loader).next()\n",
    "model(inputs).shape"
   ]
  },
  {
   "cell_type": "code",
   "execution_count": 174,
   "id": "4830830f-cdd4-41b9-abd2-b6e04a127c38",
   "metadata": {},
   "outputs": [
    {
     "data": {
      "text/plain": [
       "<bound method Module.modules of Sequential(\n",
       "  (0): Conv2d(3, 1, kernel_size=(3, 3), stride=(1, 1))\n",
       "  (1): BatchNorm2d(1, eps=1e-05, momentum=0.1, affine=True, track_running_stats=True)\n",
       "  (2): ReLU()\n",
       "  (3): Conv2d(1, 1, kernel_size=(10, 10), stride=(2, 2))\n",
       "  (4): Conv2d(1, 2, kernel_size=(10, 10), stride=(5, 5))\n",
       "  (5): ReLU()\n",
       "  (6): Linear(in_features=3, out_features=2, bias=True)\n",
       ")>"
      ]
     },
     "execution_count": 174,
     "metadata": {},
     "output_type": "execute_result"
    }
   ],
   "source": [
    "model.modules"
   ]
  },
  {
   "cell_type": "code",
   "execution_count": 175,
   "id": "af816645-0955-4b16-a2ed-10866f4fd1b8",
   "metadata": {},
   "outputs": [],
   "source": [
    "criterion = torch.nn.CrossEntropyLoss()\n",
    "optimizer = torch.optim.Adam(model.parameters(), lr=0.001)\n",
    "scheduler = torch.optim.lr_scheduler.StepLR(optimizer, step_size=2, gamma=0.7)"
   ]
  },
  {
   "cell_type": "code",
   "execution_count": 176,
   "id": "5ced7625-552b-4556-bbd0-5601c1eb1139",
   "metadata": {},
   "outputs": [
    {
     "name": "stdout",
     "output_type": "stream",
     "text": [
      "Epoch :  0\n"
     ]
    },
    {
     "ename": "RuntimeError",
     "evalue": "only batches of spatial targets supported (3D tensors) but got targets of dimension: 1",
     "output_type": "error",
     "traceback": [
      "\u001b[1;31m---------------------------------------------------------------------------\u001b[0m",
      "\u001b[1;31mRuntimeError\u001b[0m                              Traceback (most recent call last)",
      "Cell \u001b[1;32mIn [176], line 13\u001b[0m\n\u001b[0;32m     11\u001b[0m batches\u001b[38;5;241m+\u001b[39m\u001b[38;5;241m=\u001b[39m\u001b[38;5;241m1\u001b[39m\n\u001b[0;32m     12\u001b[0m outputs\u001b[38;5;241m=\u001b[39mmodel(inputs)\n\u001b[1;32m---> 13\u001b[0m loss \u001b[38;5;241m=\u001b[39m \u001b[43mcriterion\u001b[49m\u001b[43m(\u001b[49m\u001b[43moutputs\u001b[49m\u001b[43m,\u001b[49m\u001b[43m \u001b[49m\u001b[43mtargets\u001b[49m\u001b[43m)\u001b[49m\n\u001b[0;32m     14\u001b[0m epoch_loss \u001b[38;5;241m+\u001b[39m\u001b[38;5;241m=\u001b[39m loss\n\u001b[0;32m     15\u001b[0m loss\u001b[38;5;241m.\u001b[39mbackward()\n",
      "File \u001b[1;32m~\\Desktop\\dl_1\\env\\lib\\site-packages\\torch\\nn\\modules\\module.py:1130\u001b[0m, in \u001b[0;36mModule._call_impl\u001b[1;34m(self, *input, **kwargs)\u001b[0m\n\u001b[0;32m   1126\u001b[0m \u001b[38;5;66;03m# If we don't have any hooks, we want to skip the rest of the logic in\u001b[39;00m\n\u001b[0;32m   1127\u001b[0m \u001b[38;5;66;03m# this function, and just call forward.\u001b[39;00m\n\u001b[0;32m   1128\u001b[0m \u001b[38;5;28;01mif\u001b[39;00m \u001b[38;5;129;01mnot\u001b[39;00m (\u001b[38;5;28mself\u001b[39m\u001b[38;5;241m.\u001b[39m_backward_hooks \u001b[38;5;129;01mor\u001b[39;00m \u001b[38;5;28mself\u001b[39m\u001b[38;5;241m.\u001b[39m_forward_hooks \u001b[38;5;129;01mor\u001b[39;00m \u001b[38;5;28mself\u001b[39m\u001b[38;5;241m.\u001b[39m_forward_pre_hooks \u001b[38;5;129;01mor\u001b[39;00m _global_backward_hooks\n\u001b[0;32m   1129\u001b[0m         \u001b[38;5;129;01mor\u001b[39;00m _global_forward_hooks \u001b[38;5;129;01mor\u001b[39;00m _global_forward_pre_hooks):\n\u001b[1;32m-> 1130\u001b[0m     \u001b[38;5;28;01mreturn\u001b[39;00m forward_call(\u001b[38;5;241m*\u001b[39m\u001b[38;5;28minput\u001b[39m, \u001b[38;5;241m*\u001b[39m\u001b[38;5;241m*\u001b[39mkwargs)\n\u001b[0;32m   1131\u001b[0m \u001b[38;5;66;03m# Do not call functions when jit is used\u001b[39;00m\n\u001b[0;32m   1132\u001b[0m full_backward_hooks, non_full_backward_hooks \u001b[38;5;241m=\u001b[39m [], []\n",
      "File \u001b[1;32m~\\Desktop\\dl_1\\env\\lib\\site-packages\\torch\\nn\\modules\\loss.py:1164\u001b[0m, in \u001b[0;36mCrossEntropyLoss.forward\u001b[1;34m(self, input, target)\u001b[0m\n\u001b[0;32m   1163\u001b[0m \u001b[38;5;28;01mdef\u001b[39;00m \u001b[38;5;21mforward\u001b[39m(\u001b[38;5;28mself\u001b[39m, \u001b[38;5;28minput\u001b[39m: Tensor, target: Tensor) \u001b[38;5;241m-\u001b[39m\u001b[38;5;241m>\u001b[39m Tensor:\n\u001b[1;32m-> 1164\u001b[0m     \u001b[38;5;28;01mreturn\u001b[39;00m \u001b[43mF\u001b[49m\u001b[38;5;241;43m.\u001b[39;49m\u001b[43mcross_entropy\u001b[49m\u001b[43m(\u001b[49m\u001b[38;5;28;43minput\u001b[39;49m\u001b[43m,\u001b[49m\u001b[43m \u001b[49m\u001b[43mtarget\u001b[49m\u001b[43m,\u001b[49m\u001b[43m \u001b[49m\u001b[43mweight\u001b[49m\u001b[38;5;241;43m=\u001b[39;49m\u001b[38;5;28;43mself\u001b[39;49m\u001b[38;5;241;43m.\u001b[39;49m\u001b[43mweight\u001b[49m\u001b[43m,\u001b[49m\n\u001b[0;32m   1165\u001b[0m \u001b[43m                           \u001b[49m\u001b[43mignore_index\u001b[49m\u001b[38;5;241;43m=\u001b[39;49m\u001b[38;5;28;43mself\u001b[39;49m\u001b[38;5;241;43m.\u001b[39;49m\u001b[43mignore_index\u001b[49m\u001b[43m,\u001b[49m\u001b[43m \u001b[49m\u001b[43mreduction\u001b[49m\u001b[38;5;241;43m=\u001b[39;49m\u001b[38;5;28;43mself\u001b[39;49m\u001b[38;5;241;43m.\u001b[39;49m\u001b[43mreduction\u001b[49m\u001b[43m,\u001b[49m\n\u001b[0;32m   1166\u001b[0m \u001b[43m                           \u001b[49m\u001b[43mlabel_smoothing\u001b[49m\u001b[38;5;241;43m=\u001b[39;49m\u001b[38;5;28;43mself\u001b[39;49m\u001b[38;5;241;43m.\u001b[39;49m\u001b[43mlabel_smoothing\u001b[49m\u001b[43m)\u001b[49m\n",
      "File \u001b[1;32m~\\Desktop\\dl_1\\env\\lib\\site-packages\\torch\\nn\\functional.py:3014\u001b[0m, in \u001b[0;36mcross_entropy\u001b[1;34m(input, target, weight, size_average, ignore_index, reduce, reduction, label_smoothing)\u001b[0m\n\u001b[0;32m   3012\u001b[0m \u001b[38;5;28;01mif\u001b[39;00m size_average \u001b[38;5;129;01mis\u001b[39;00m \u001b[38;5;129;01mnot\u001b[39;00m \u001b[38;5;28;01mNone\u001b[39;00m \u001b[38;5;129;01mor\u001b[39;00m reduce \u001b[38;5;129;01mis\u001b[39;00m \u001b[38;5;129;01mnot\u001b[39;00m \u001b[38;5;28;01mNone\u001b[39;00m:\n\u001b[0;32m   3013\u001b[0m     reduction \u001b[38;5;241m=\u001b[39m _Reduction\u001b[38;5;241m.\u001b[39mlegacy_get_string(size_average, reduce)\n\u001b[1;32m-> 3014\u001b[0m \u001b[38;5;28;01mreturn\u001b[39;00m \u001b[43mtorch\u001b[49m\u001b[38;5;241;43m.\u001b[39;49m\u001b[43m_C\u001b[49m\u001b[38;5;241;43m.\u001b[39;49m\u001b[43m_nn\u001b[49m\u001b[38;5;241;43m.\u001b[39;49m\u001b[43mcross_entropy_loss\u001b[49m\u001b[43m(\u001b[49m\u001b[38;5;28;43minput\u001b[39;49m\u001b[43m,\u001b[49m\u001b[43m \u001b[49m\u001b[43mtarget\u001b[49m\u001b[43m,\u001b[49m\u001b[43m \u001b[49m\u001b[43mweight\u001b[49m\u001b[43m,\u001b[49m\u001b[43m \u001b[49m\u001b[43m_Reduction\u001b[49m\u001b[38;5;241;43m.\u001b[39;49m\u001b[43mget_enum\u001b[49m\u001b[43m(\u001b[49m\u001b[43mreduction\u001b[49m\u001b[43m)\u001b[49m\u001b[43m,\u001b[49m\u001b[43m \u001b[49m\u001b[43mignore_index\u001b[49m\u001b[43m,\u001b[49m\u001b[43m \u001b[49m\u001b[43mlabel_smoothing\u001b[49m\u001b[43m)\u001b[49m\n",
      "\u001b[1;31mRuntimeError\u001b[0m: only batches of spatial targets supported (3D tensors) but got targets of dimension: 1"
     ]
    }
   ],
   "source": [
    "lrs = []\n",
    "val_acc = []\n",
    "train_acc = []\n",
    "ep_loss = []\n",
    "for epoch in range(0,10):\n",
    "    print(\"Epoch : \",epoch)\n",
    "    epoch_loss = 0\n",
    "    batches = 0\n",
    "    for inputs, targets in train_loader:\n",
    "        optimizer.zero_grad()\n",
    "        batches+=1\n",
    "        outputs=model(inputs)\n",
    "        loss = criterion(outputs, targets)\n",
    "        epoch_loss += loss\n",
    "        loss.backward()\n",
    "        optimizer.step()\n",
    "    lrs.append(optimizer.param_groups[0][\"lr\"])\n",
    "    scheduler.step()\n",
    "    inputs,targets = iter(val_loader).next()\n",
    "    outputs = model(inputs).detach().numpy().argmax(axis=-1)\n",
    "    val_accuracy = (outputs == targets.numpy()).mean()\n",
    "    val_acc.append(val_accuracy)\n",
    "    for inputs,targets in train_loader:\n",
    "        outputs = model(inputs).detach().numpy().argmax(axis=-1)\n",
    "        train_accuracy = (outputs == targets.numpy()).mean()\n",
    "    train_accuracy = train_accuracy/batches\n",
    "    train_acc.append(train_accuracy)\n",
    "    ep_loss.append(epoch_loss.detach().numpy())\n",
    "    print(\"Train accuracy on Batch of {} images is {} \".format(batches, train_accuracy))\n",
    "    print(\"Validation accuracy on Batch of {} images is {}\".format(batches, val_accuracy))\n",
    "    print(\"Loss is \", epoch_loss)"
   ]
  },
  {
   "cell_type": "code",
   "execution_count": null,
   "id": "ef59effd-8e5b-4c57-bc01-c7ba197e63ad",
   "metadata": {},
   "outputs": [],
   "source": []
  }
 ],
 "metadata": {
  "kernelspec": {
   "display_name": "Python 3 (ipykernel)",
   "language": "python",
   "name": "python3"
  },
  "language_info": {
   "codemirror_mode": {
    "name": "ipython",
    "version": 3
   },
   "file_extension": ".py",
   "mimetype": "text/x-python",
   "name": "python",
   "nbconvert_exporter": "python",
   "pygments_lexer": "ipython3",
   "version": "3.10.4"
  }
 },
 "nbformat": 4,
 "nbformat_minor": 5
}
