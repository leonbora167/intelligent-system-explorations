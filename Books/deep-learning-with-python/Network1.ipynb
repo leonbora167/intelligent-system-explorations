{
 "cells": [
  {
   "cell_type": "markdown",
   "id": "7de0a96b",
   "metadata": {},
   "source": [
    "# Anatomy"
   ]
  },
  {
   "cell_type": "markdown",
   "id": "7e3c1309",
   "metadata": {},
   "source": [
    "* Layers\n",
    "* Input Data and Corresponding targets\n",
    "* Loss Function (Feedback signal)\n",
    "* Optimizer"
   ]
  },
  {
   "cell_type": "code",
   "execution_count": 3,
   "id": "4d53c39d",
   "metadata": {},
   "outputs": [
    {
     "name": "stderr",
     "output_type": "stream",
     "text": [
      "/mnt/ext_storage/local-work/keras-env/lib/python3.11/site-packages/keras/src/layers/core/dense.py:93: UserWarning: Do not pass an `input_shape`/`input_dim` argument to a layer. When using Sequential models, prefer using an `Input(shape)` object as the first layer in the model instead.\n",
      "  super().__init__(activity_regularizer=activity_regularizer, **kwargs)\n"
     ]
    }
   ],
   "source": [
    "from keras import layers\n",
    "from keras import models \n",
    "\n",
    "layer = layers.Dense(32, input_shape=(784,)) #Dense layer with 32 output units\n",
    "#This layer expects an input of 2D tensors where the first dimension is 784. It will only return a tensor of shape 32"
   ]
  },
  {
   "cell_type": "code",
   "execution_count": 5,
   "id": "e8a1ceb2",
   "metadata": {},
   "outputs": [
    {
     "name": "stderr",
     "output_type": "stream",
     "text": [
      "/mnt/ext_storage/local-work/keras-env/lib/python3.11/site-packages/keras/src/layers/core/dense.py:93: UserWarning: Do not pass an `input_shape`/`input_dim` argument to a layer. When using Sequential models, prefer using an `Input(shape)` object as the first layer in the model instead.\n",
      "  super().__init__(activity_regularizer=activity_regularizer, **kwargs)\n"
     ]
    }
   ],
   "source": [
    "model = models.Sequential()\n",
    "model.add(layers.Dense(32, input_shape=(784,)))\n",
    "model.add(layers.Dense(32)) #Keras has automatic layer compatibility where you don't need to specify the input shape while defining the layers\n",
    "#By looking at the output shape of the layer before it"
   ]
  },
  {
   "cell_type": "markdown",
   "id": "cd99ce01",
   "metadata": {},
   "source": [
    "* **Loss Function** - Objective function, quantity that has to be minimized during training. Measures the success of the task at hand.\n",
    "* **Optimizer** - Determines how network will be updated based on the loss function. Implements a specific variant of SGD?"
   ]
  },
  {
   "cell_type": "code",
   "execution_count": 7,
   "id": "f18618a4",
   "metadata": {},
   "outputs": [],
   "source": [
    "#Same network in different format -> Functional API\n",
    "input_tensor = layers.Input(shape=(784,))\n",
    "x = layers.Dense(32, activation=\"relu\")(input_tensor)\n",
    "output_tensor = layers.Dense(10, activation=\"softmax\")(x)\n",
    "\n",
    "model = models.Model(inputs=input_tensor,\n",
    "                     outputs=output_tensor)\n"
   ]
  },
  {
   "cell_type": "code",
   "execution_count": null,
   "id": "28a1cc8c",
   "metadata": {},
   "outputs": [],
   "source": []
  }
 ],
 "metadata": {
  "kernelspec": {
   "display_name": "Python 3",
   "language": "python",
   "name": "python3"
  },
  "language_info": {
   "codemirror_mode": {
    "name": "ipython",
    "version": 3
   },
   "file_extension": ".py",
   "mimetype": "text/x-python",
   "name": "python",
   "nbconvert_exporter": "python",
   "pygments_lexer": "ipython3",
   "version": "3.11.13"
  }
 },
 "nbformat": 4,
 "nbformat_minor": 5
}
