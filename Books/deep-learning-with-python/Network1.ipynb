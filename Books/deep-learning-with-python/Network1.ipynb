{
 "cells": [
  {
   "cell_type": "markdown",
   "id": "7de0a96b",
   "metadata": {},
   "source": [
    "# Anatomy"
   ]
  },
  {
   "cell_type": "markdown",
   "id": "7e3c1309",
   "metadata": {},
   "source": [
    "* Layers\n",
    "* Input Data and Corresponding targets\n",
    "* Loss Function (Feedback signal)\n",
    "* Optimizer"
   ]
  },
  {
   "cell_type": "code",
   "execution_count": 1,
   "id": "4d53c39d",
   "metadata": {},
   "outputs": [
    {
     "name": "stderr",
     "output_type": "stream",
     "text": [
      "c:\\Users\\Snowwolf\\miniconda3\\envs\\tensf-env\\Lib\\site-packages\\keras\\src\\layers\\core\\dense.py:92: UserWarning: Do not pass an `input_shape`/`input_dim` argument to a layer. When using Sequential models, prefer using an `Input(shape)` object as the first layer in the model instead.\n",
      "  super().__init__(activity_regularizer=activity_regularizer, **kwargs)\n"
     ]
    }
   ],
   "source": [
    "from keras import layers\n",
    "from keras import models \n",
    "\n",
    "layer = layers.Dense(32, input_shape=(784,)) #Dense layer with 32 output units\n",
    "#This layer expects an input of 2D tensors where the first dimension is 784. It will only return a tensor of shape 32"
   ]
  },
  {
   "cell_type": "code",
   "execution_count": 2,
   "id": "e8a1ceb2",
   "metadata": {},
   "outputs": [],
   "source": [
    "model = models.Sequential()\n",
    "model.add(layers.Dense(32, input_shape=(784,)))\n",
    "model.add(layers.Dense(32)) #Keras has automatic layer compatibility where you don't need to specify the input shape while defining the layers\n",
    "#By looking at the output shape of the layer before it"
   ]
  },
  {
   "cell_type": "markdown",
   "id": "cd99ce01",
   "metadata": {},
   "source": [
    "* **Loss Function** - Objective function, quantity that has to be minimized during training. Measures the success of the task at hand.\n",
    "* **Optimizer** - Determines how network will be updated based on the loss function. Implements a specific variant of SGD?"
   ]
  },
  {
   "cell_type": "code",
   "execution_count": 3,
   "id": "f18618a4",
   "metadata": {},
   "outputs": [],
   "source": [
    "#Same network in different format -> Functional API\n",
    "input_tensor = layers.Input(shape=(784,))\n",
    "x = layers.Dense(32, activation=\"relu\")(input_tensor)\n",
    "output_tensor = layers.Dense(10, activation=\"softmax\")(x)\n",
    "\n",
    "model = models.Model(inputs=input_tensor,\n",
    "                     outputs=output_tensor)\n"
   ]
  },
  {
   "cell_type": "code",
   "execution_count": 10,
   "id": "28a1cc8c",
   "metadata": {},
   "outputs": [],
   "source": [
    "from keras import optimizers\n",
    "\n",
    "model.compile(optimizer=optimizers.RMSprop(learning_rate=0.001),\n",
    "              loss = \"mse\",\n",
    "              metrics = [\"accuracy\"])"
   ]
  },
  {
   "cell_type": "markdown",
   "id": "3cba7adf",
   "metadata": {},
   "source": [
    "# Binary Classification"
   ]
  },
  {
   "cell_type": "code",
   "execution_count": 18,
   "id": "bfad8c31",
   "metadata": {},
   "outputs": [],
   "source": [
    "#Always use different data from datasets for training and testing \n",
    "#Prevent model from just learning the mapping between the training data only\n",
    "\n",
    "from keras.datasets import imdb\n",
    "\n",
    "(train_data, train_labels),(test_data, test_labels) = imdb.load_data(num_words=9000)\n",
    "\n",
    "#Only keeping the top most 1200 frequently occuring words in the data"
   ]
  },
  {
   "cell_type": "code",
   "execution_count": 23,
   "id": "75902b43",
   "metadata": {},
   "outputs": [
    {
     "data": {
      "text/plain": [
       "8999"
      ]
     },
     "execution_count": 23,
     "metadata": {},
     "output_type": "execute_result"
    }
   ],
   "source": [
    "#data contains indices of the words -> int -> already encoded\n",
    "#labels contain the label -> int\n",
    "\n",
    "max([max(sequence) for sequence in train_data])"
   ]
  },
  {
   "cell_type": "code",
   "execution_count": 43,
   "id": "1cdbc61f",
   "metadata": {},
   "outputs": [
    {
     "name": "stdout",
     "output_type": "stream",
     "text": [
      "['fawn', 'tsukino', 'nunnery']\n",
      "Decoded word is \t the of and and they halfway of identity went plot actors watch of share was well these can this only and ten so failing feels only novak killer and of bill br and would find of films saw grade about hated it for br so ten remain by in of songs are of and gigantic is morality it's her or know would care i i br screen that obvious plot actors new would with paris not have attempt lead or of too would local that of every their it coming this eleven of information to and br singers movie was anxious that film is under by left this and is entertainment ok this in own be house of sticks worker in bound my i i obviously sake things just as lost lot br comes never like thing start of obviously comes indeed coming want no bad than history from lost comes accidentally young to movie bad facts dream from reason these honor movie elizabeth it's movie so fi and enough to computer duo film and almost jeffrey rarely obviously and alive to appears i i only human it and just only hop to be hop new made comes evidence blues high in want to other blues of their for and those i'm 1995 that wider obviously message obviously obviously for submarine of and brother br singers make and lit and this and of blood br andy worst and it and this across as it when lines that make excellent scenery that there is julia fantasy to repressed and film good br of loose and basic have into your whatever i i and and demented be hop this standards cole new be home all seek film wives lot br made and in at this of search how concept in thirty some this and not all it rachel are of boys and re is and animals deserve i i worst more it is renting concerned message made all and in does of nor of nor side be and center obviously know end computer here to all tries in does of nor side of home br be indeed i i all it officer in could is performance and fully in of and br by br and its and lit well of nor at coming it's it that an this obviously i i this as their has obviously bad and exist countless and mixed of and br work to of run up and and br dear nor this early her bad having tortured film and movie all care of their br be right acting i i and of and and it away of its shooting and to suffering version you br singers your way just and was can't compared condition film of and br united obviously are up obviously not other just and was and as true was least of and certainly lady poorly of setting produced and br refuse to make just have 2 which and of and dialog and br of and say in can is you for it wasn't in singers as by it away plenty what have reason and are that willing that's have 2 which sister and of important br halfway to of took work 20 br similar more he good flower for hit at coming not see reputation \n"
     ]
    }
   ],
   "source": [
    "#Decoding some words to english again\n",
    "\n",
    "word_index = imdb.get_word_index()\n",
    "print(list(word_index)[0:3])\n",
    "\n",
    "reverse_index = {}\n",
    "for (key, value) in word_index.items():\n",
    "    reverse_index[value] = key\n",
    "\n",
    "es = \"\"\n",
    "for i in train_data[3]:\n",
    "    word = reverse_index[i]\n",
    "    es += word +\" \"\n",
    "\n",
    "print(\"Decoded word is \\t\", es)"
   ]
  },
  {
   "cell_type": "code",
   "execution_count": 77,
   "id": "f42d4681",
   "metadata": {},
   "outputs": [],
   "source": [
    "#Int cannot be fed directly to model\n",
    "# -> Tensors for feeding\n",
    "# Padding for same length -> max sequence length\n",
    "\n",
    "import numpy as np\n",
    "\n",
    "def vectorize_sequence(data_sequence, dimensions=9000):\n",
    "    a = len(data_sequence)\n",
    "    b = dimensions\n",
    "    padding_array = np.zeros((a, b))\n",
    "    for index, data_sequence_row in enumerate(data_sequence):\n",
    "        padding_array[index][data_sequence_row] = 1\n",
    "    return padding_array\n",
    "\n",
    "\n",
    "x_train = vectorize_sequence(train_data)\n",
    "x_test = vectorize_sequence(test_data)\n",
    "\n",
    "y_train = np.asarray(train_labels).astype(\"float32\")\n",
    "y_test = np.asarray(test_labels).astype(\"float32\")"
   ]
  },
  {
   "cell_type": "code",
   "execution_count": 86,
   "id": "070ec24b",
   "metadata": {},
   "outputs": [
    {
     "data": {
      "text/plain": [
       "((25000, 9000), (25000,), (25000, 9000), (25000,))"
      ]
     },
     "execution_count": 86,
     "metadata": {},
     "output_type": "execute_result"
    }
   ],
   "source": [
    "x_train.shape, y_train.shape, x_test.shape, y_train.shape"
   ]
  },
  {
   "cell_type": "markdown",
   "id": "50016959",
   "metadata": {},
   "source": [
    "* The argument being passed to each _Dense_ layer is the number of hidden units in the layer\n",
    "* A hidden unit is a dimension in the representation space of the layer"
   ]
  },
  {
   "cell_type": "code",
   "execution_count": null,
   "id": "28dda978",
   "metadata": {},
   "outputs": [
    {
     "data": {
      "text/plain": [
       "(25000, 9000)"
      ]
     },
     "execution_count": 68,
     "metadata": {},
     "output_type": "execute_result"
    }
   ],
   "source": [
    "#Layers contain hidden units\n",
    "# > Hidden units -> Increase network to learn complex representation -> More computationally expensive -> Might lead to leanring unwanted patterns in data"
   ]
  },
  {
   "cell_type": "markdown",
   "id": "d123c101",
   "metadata": {},
   "source": [
    "* Activation functions are required to add non-linearlity in the network\n",
    "* Linear layers would only add linear transformations\n",
    "* Adding input data into a layer and lets say getting a 16 dimensional space would make it too diffuclt to learn representations from linear transformations only\n",
    "* Relu zeros out negative values\n",
    "* Sigmoid squashes values into 0 and 1"
   ]
  },
  {
   "cell_type": "markdown",
   "id": "21d6d850",
   "metadata": {},
   "source": [
    "* To monitor the accuracy during training on unseen data we can use validation set"
   ]
  },
  {
   "cell_type": "code",
   "execution_count": 85,
   "id": "4861a41b",
   "metadata": {},
   "outputs": [],
   "source": [
    "x_val = x_train[ :10000] \n",
    "partial_x_train = x_train[10000:]\n",
    "y_val = y_train[:10000]\n",
    "partial_y_train = y_train[10000:]"
   ]
  },
  {
   "cell_type": "code",
   "execution_count": 87,
   "id": "cffe9fec",
   "metadata": {},
   "outputs": [
    {
     "name": "stderr",
     "output_type": "stream",
     "text": [
      "c:\\Users\\Snowwolf\\miniconda3\\envs\\tensf-env\\Lib\\site-packages\\keras\\src\\layers\\core\\dense.py:92: UserWarning: Do not pass an `input_shape`/`input_dim` argument to a layer. When using Sequential models, prefer using an `Input(shape)` object as the first layer in the model instead.\n",
      "  super().__init__(activity_regularizer=activity_regularizer, **kwargs)\n"
     ]
    }
   ],
   "source": [
    "from keras import models \n",
    "from keras import layers \n",
    "\n",
    "model = models.Sequential() \n",
    "model.add(layers.Dense(16, activation=\"relu\", input_shape = (9000,)))\n",
    "model.add(layers.Dense(16, activation=\"relu\"))\n",
    "model.add(layers.Dense(1, activation=\"sigmoid\"))\n",
    "\n",
    "# model.compile(optimizer=\"rmsprop\",\n",
    "#               loss = \"binary_crossentropy\",\n",
    "#               metrics=[\"accuracy\"])\n",
    "\n",
    "# or \n",
    "\n",
    "model.compile(optimizer=optimizers.RMSprop(learning_rate=0.001),\n",
    "              loss = \"binary_crossentropy\",\n",
    "              metrics=[\"accuracy\"])"
   ]
  },
  {
   "cell_type": "code",
   "execution_count": 88,
   "id": "d9803cfa",
   "metadata": {},
   "outputs": [
    {
     "name": "stdout",
     "output_type": "stream",
     "text": [
      "Epoch 1/10\n",
      "\u001b[1m469/469\u001b[0m \u001b[32m━━━━━━━━━━━━━━━━━━━━\u001b[0m\u001b[37m\u001b[0m \u001b[1m2s\u001b[0m 3ms/step - accuracy: 0.8534 - loss: 0.3570 - val_accuracy: 0.8867 - val_loss: 0.2815\n",
      "Epoch 2/10\n",
      "\u001b[1m469/469\u001b[0m \u001b[32m━━━━━━━━━━━━━━━━━━━━\u001b[0m\u001b[37m\u001b[0m \u001b[1m1s\u001b[0m 2ms/step - accuracy: 0.9201 - loss: 0.2082 - val_accuracy: 0.8860 - val_loss: 0.2873\n",
      "Epoch 3/10\n",
      "\u001b[1m469/469\u001b[0m \u001b[32m━━━━━━━━━━━━━━━━━━━━\u001b[0m\u001b[37m\u001b[0m \u001b[1m1s\u001b[0m 2ms/step - accuracy: 0.9411 - loss: 0.1637 - val_accuracy: 0.8844 - val_loss: 0.3145\n",
      "Epoch 4/10\n",
      "\u001b[1m469/469\u001b[0m \u001b[32m━━━━━━━━━━━━━━━━━━━━\u001b[0m\u001b[37m\u001b[0m \u001b[1m1s\u001b[0m 2ms/step - accuracy: 0.9519 - loss: 0.1347 - val_accuracy: 0.8801 - val_loss: 0.3367\n",
      "Epoch 5/10\n",
      "\u001b[1m469/469\u001b[0m \u001b[32m━━━━━━━━━━━━━━━━━━━━\u001b[0m\u001b[37m\u001b[0m \u001b[1m1s\u001b[0m 2ms/step - accuracy: 0.9600 - loss: 0.1112 - val_accuracy: 0.8746 - val_loss: 0.3722\n",
      "Epoch 6/10\n",
      "\u001b[1m469/469\u001b[0m \u001b[32m━━━━━━━━━━━━━━━━━━━━\u001b[0m\u001b[37m\u001b[0m \u001b[1m1s\u001b[0m 2ms/step - accuracy: 0.9683 - loss: 0.0935 - val_accuracy: 0.8780 - val_loss: 0.4183\n",
      "Epoch 7/10\n",
      "\u001b[1m469/469\u001b[0m \u001b[32m━━━━━━━━━━━━━━━━━━━━\u001b[0m\u001b[37m\u001b[0m \u001b[1m1s\u001b[0m 2ms/step - accuracy: 0.9739 - loss: 0.0765 - val_accuracy: 0.8728 - val_loss: 0.4762\n",
      "Epoch 8/10\n",
      "\u001b[1m469/469\u001b[0m \u001b[32m━━━━━━━━━━━━━━━━━━━━\u001b[0m\u001b[37m\u001b[0m \u001b[1m1s\u001b[0m 2ms/step - accuracy: 0.9791 - loss: 0.0602 - val_accuracy: 0.8716 - val_loss: 0.5204\n",
      "Epoch 9/10\n",
      "\u001b[1m469/469\u001b[0m \u001b[32m━━━━━━━━━━━━━━━━━━━━\u001b[0m\u001b[37m\u001b[0m \u001b[1m1s\u001b[0m 2ms/step - accuracy: 0.9847 - loss: 0.0469 - val_accuracy: 0.8698 - val_loss: 0.6004\n",
      "Epoch 10/10\n",
      "\u001b[1m469/469\u001b[0m \u001b[32m━━━━━━━━━━━━━━━━━━━━\u001b[0m\u001b[37m\u001b[0m \u001b[1m1s\u001b[0m 2ms/step - accuracy: 0.9898 - loss: 0.0325 - val_accuracy: 0.8655 - val_loss: 0.6874\n"
     ]
    }
   ],
   "source": [
    "history = model.fit(partial_x_train,\n",
    "                    partial_y_train,\n",
    "                    epochs=10,\n",
    "                    batch_size=32,\n",
    "                    validation_data=(x_val, y_val))"
   ]
  },
  {
   "cell_type": "code",
   "execution_count": 91,
   "id": "5a727ae3",
   "metadata": {},
   "outputs": [
    {
     "data": {
      "text/plain": [
       "dict_keys(['accuracy', 'loss', 'val_accuracy', 'val_loss'])"
      ]
     },
     "execution_count": 91,
     "metadata": {},
     "output_type": "execute_result"
    }
   ],
   "source": [
    "history_dict = history.history\n",
    "history_dict.keys()"
   ]
  },
  {
   "cell_type": "code",
   "execution_count": 99,
   "id": "0f39cb79",
   "metadata": {},
   "outputs": [
    {
     "data": {
      "image/png": "[encoded data removed]",
      "text/plain": [
       "<Figure size 640x480 with 1 Axes>"
      ]
     },
     "metadata": {},
     "output_type": "display_data"
    }
   ],
   "source": [
    "import matplotlib.pyplot as plt\n",
    "\n",
    "loss = history_dict[\"loss\"]\n",
    "val_loss = history_dict[\"val_loss\"]\n",
    "\n",
    "total_epochs = len(history_dict[\"accuracy\"])\n",
    "epochs = range(1, total_epochs+1)\n",
    "\n",
    "plt.plot(epochs, loss, 'bo', label=\"Training Loss\")\n",
    "plt.plot(epochs, val_loss, 'b', label=\"Validation Loss\")\n",
    "plt.xlabel(\"Epochs\")\n",
    "plt.ylabel(\"Loss\")\n",
    "plt.legend()\n",
    "plt.show()"
   ]
  },
  {
   "cell_type": "code",
   "execution_count": 100,
   "id": "20b4c518",
   "metadata": {},
   "outputs": [
    {
     "data": {
      "image/png": "[encoded data removed]",
      "text/plain": [
       "<Figure size 640x480 with 1 Axes>"
      ]
     },
     "metadata": {},
     "output_type": "display_data"
    }
   ],
   "source": [
    "train_accuracy = history_dict[\"accuracy\"]\n",
    "val_accuracy = history_dict[\"val_accuracy\"]\n",
    "\n",
    "plt.plot(epochs, train_accuracy, 'bo', label=\"Training Accuracy\")\n",
    "plt.plot(epochs, val_accuracy, 'b', label=\"Validation Accuracy\")\n",
    "plt.xlabel(\"Epochs\")\n",
    "plt.ylabel(\"Accuracy\")\n",
    "plt.legend()\n",
    "plt.show()"
   ]
  },
  {
   "cell_type": "markdown",
   "id": "adbd3d46",
   "metadata": {},
   "source": [
    "Model is performing better on training data than the validation data -> **Overfitting**"
   ]
  },
  {
   "cell_type": "code",
   "execution_count": 101,
   "id": "c543675d",
   "metadata": {},
   "outputs": [
    {
     "name": "stdout",
     "output_type": "stream",
     "text": [
      "Epoch 1/10\n",
      "\u001b[1m98/98\u001b[0m \u001b[32m━━━━━━━━━━━━━━━━━━━━\u001b[0m\u001b[37m\u001b[0m \u001b[1m0s\u001b[0m 3ms/step - accuracy: 0.9425 - loss: 0.2198\n",
      "Epoch 2/10\n",
      "\u001b[1m98/98\u001b[0m \u001b[32m━━━━━━━━━━━━━━━━━━━━\u001b[0m\u001b[37m\u001b[0m \u001b[1m0s\u001b[0m 3ms/step - accuracy: 0.9565 - loss: 0.1407\n",
      "Epoch 3/10\n",
      "\u001b[1m98/98\u001b[0m \u001b[32m━━━━━━━━━━━━━━━━━━━━\u001b[0m\u001b[37m\u001b[0m \u001b[1m0s\u001b[0m 3ms/step - accuracy: 0.9667 - loss: 0.1114\n",
      "Epoch 4/10\n",
      "\u001b[1m98/98\u001b[0m \u001b[32m━━━━━━━━━━━━━━━━━━━━\u001b[0m\u001b[37m\u001b[0m \u001b[1m0s\u001b[0m 3ms/step - accuracy: 0.9742 - loss: 0.0890\n",
      "Epoch 5/10\n",
      "\u001b[1m98/98\u001b[0m \u001b[32m━━━━━━━━━━━━━━━━━━━━\u001b[0m\u001b[37m\u001b[0m \u001b[1m0s\u001b[0m 3ms/step - accuracy: 0.9802 - loss: 0.0714\n",
      "Epoch 6/10\n",
      "\u001b[1m98/98\u001b[0m \u001b[32m━━━━━━━━━━━━━━━━━━━━\u001b[0m\u001b[37m\u001b[0m \u001b[1m0s\u001b[0m 4ms/step - accuracy: 0.9846 - loss: 0.0568\n",
      "Epoch 7/10\n",
      "\u001b[1m98/98\u001b[0m \u001b[32m━━━━━━━━━━━━━━━━━━━━\u001b[0m\u001b[37m\u001b[0m \u001b[1m0s\u001b[0m 3ms/step - accuracy: 0.9883 - loss: 0.0447\n",
      "Epoch 8/10\n",
      "\u001b[1m98/98\u001b[0m \u001b[32m━━━━━━━━━━━━━━━━━━━━\u001b[0m\u001b[37m\u001b[0m \u001b[1m0s\u001b[0m 3ms/step - accuracy: 0.9914 - loss: 0.0342\n",
      "Epoch 9/10\n",
      "\u001b[1m98/98\u001b[0m \u001b[32m━━━━━━━━━━━━━━━━━━━━\u001b[0m\u001b[37m\u001b[0m \u001b[1m0s\u001b[0m 3ms/step - accuracy: 0.9941 - loss: 0.0262\n",
      "Epoch 10/10\n",
      "\u001b[1m98/98\u001b[0m \u001b[32m━━━━━━━━━━━━━━━━━━━━\u001b[0m\u001b[37m\u001b[0m \u001b[1m0s\u001b[0m 3ms/step - accuracy: 0.9955 - loss: 0.0198\n"
     ]
    },
    {
     "data": {
      "text/plain": [
       "<keras.src.callbacks.history.History at 0x16c4e6107d0>"
      ]
     },
     "execution_count": 101,
     "metadata": {},
     "output_type": "execute_result"
    }
   ],
   "source": [
    "# On whole data\n",
    "\n",
    "model.fit(x_train,\n",
    "          y_train,\n",
    "          epochs = 10,\n",
    "          batch_size=256)"
   ]
  },
  {
   "cell_type": "code",
   "execution_count": null,
   "id": "ba23ba29",
   "metadata": {},
   "outputs": [
    {
     "name": "stdout",
     "output_type": "stream",
     "text": [
      "\u001b[1m782/782\u001b[0m \u001b[32m━━━━━━━━━━━━━━━━━━━━\u001b[0m\u001b[37m\u001b[0m \u001b[1m1s\u001b[0m 994us/step - accuracy: 0.8568 - loss: 0.7988\n"
     ]
    },
    {
     "data": {
      "text/plain": [
       "[0.7988472580909729, 0.8568000197410583]"
      ]
     },
     "execution_count": 102,
     "metadata": {},
     "output_type": "execute_result"
    }
   ],
   "source": [
    "model.evaluate(x_test, y_test) #Loss, Accuracy"
   ]
  },
  {
   "cell_type": "code",
   "execution_count": 103,
   "id": "e6732758",
   "metadata": {},
   "outputs": [
    {
     "name": "stdout",
     "output_type": "stream",
     "text": [
      "\u001b[1m1/1\u001b[0m \u001b[32m━━━━━━━━━━━━━━━━━━━━\u001b[0m\u001b[37m\u001b[0m \u001b[1m0s\u001b[0m 51ms/step\n"
     ]
    },
    {
     "data": {
      "text/plain": [
       "array([[0.00383599],\n",
       "       [1.        ],\n",
       "       [0.8744819 ],\n",
       "       [0.9901084 ],\n",
       "       [0.99965996]], dtype=float32)"
      ]
     },
     "execution_count": 103,
     "metadata": {},
     "output_type": "execute_result"
    }
   ],
   "source": [
    "model.predict(x_test[0:5])"
   ]
  },
  {
   "cell_type": "markdown",
   "id": "fb7df2b4",
   "metadata": {},
   "source": [
    "# Regression"
   ]
  },
  {
   "cell_type": "code",
   "execution_count": 104,
   "id": "549bd907",
   "metadata": {},
   "outputs": [
    {
     "name": "stdout",
     "output_type": "stream",
     "text": [
      "Downloading data from https://storage.googleapis.com/tensorflow/tf-keras-datasets/boston_housing.npz\n",
      "\u001b[1m57026/57026\u001b[0m \u001b[32m━━━━━━━━━━━━━━━━━━━━\u001b[0m\u001b[37m\u001b[0m \u001b[1m0s\u001b[0m 1us/step\n"
     ]
    }
   ],
   "source": [
    "from keras.datasets import boston_housing\n",
    "\n",
    "(train_features, train_labels), (test_features, test_labels) = boston_housing.load_data()"
   ]
  },
  {
   "cell_type": "code",
   "execution_count": 106,
   "id": "ba96852c",
   "metadata": {},
   "outputs": [
    {
     "data": {
      "text/plain": [
       "((404, 13), (404,), (102, 13), (102,))"
      ]
     },
     "execution_count": 106,
     "metadata": {},
     "output_type": "execute_result"
    }
   ],
   "source": [
    "train_features.shape, train_labels.shape, test_features.shape, test_labels.shape\n",
    "\n",
    "# 404 Training samples and 102 testing samples with 13 features each"
   ]
  },
  {
   "cell_type": "markdown",
   "id": "b014fc78",
   "metadata": {},
   "source": [
    "One issue with numerical features is that with a large range of data values, makes the model difficult to learn even though it might adapt to the data. Normalization helps in this case. "
   ]
  },
  {
   "cell_type": "code",
   "execution_count": 111,
   "id": "53ddd174",
   "metadata": {},
   "outputs": [
    {
     "data": {
      "text/plain": [
       "array([3.74511057e+00, 1.14801980e+01, 1.11044307e+01, 6.18811881e-02,\n",
       "       5.57355941e-01, 6.26708168e+00, 6.90106436e+01, 3.74027079e+00,\n",
       "       9.44059406e+00, 4.05898515e+02, 1.84759901e+01, 3.54783168e+02,\n",
       "       1.27408168e+01])"
      ]
     },
     "execution_count": 111,
     "metadata": {},
     "output_type": "execute_result"
    }
   ],
   "source": [
    "train_features.mean(axis=0)"
   ]
  },
  {
   "cell_type": "code",
   "execution_count": 112,
   "id": "f7f32f5a",
   "metadata": {},
   "outputs": [],
   "source": [
    "mean = train_features.mean(axis=0)\n",
    "train_features = train_features - mean \n",
    "std = train_features.std(axis = 0)\n",
    "train_features = train_features/std \n",
    "\n",
    "test_features = test_features - mean \n",
    "test_features = test_features/std "
   ]
  },
  {
   "cell_type": "markdown",
   "id": "eabcda35",
   "metadata": {},
   "source": [
    "# Overfitting Reduction Tips"
   ]
  },
  {
   "cell_type": "markdown",
   "id": "ac45d361",
   "metadata": {},
   "source": [
    "* Smaller models have less overfitting generally. More parameters leads to more memorization or capacity, so keep on adding layers and validating the model till we come to a point of diminishing returns. \n",
    "* Simpler models are less likely to overfit than complex ones\n",
    "* Forcing the weights of network to only take small values which makes the distribution of weight values more regular -> Constraints on complexity of the network. ->L1 and L2 Regularization\n",
    "* Dropout -> Randomly dropping out a number of output features during training -> Setting to zero"
   ]
  },
  {
   "cell_type": "markdown",
   "id": "640e5344",
   "metadata": {},
   "source": []
  }
 ],
 "metadata": {
  "kernelspec": {
   "display_name": "tensf-env",
   "language": "python",
   "name": "python3"
  },
  "language_info": {
   "codemirror_mode": {
    "name": "ipython",
    "version": 3
   },
   "file_extension": ".py",
   "mimetype": "text/x-python",
   "name": "python",
   "nbconvert_exporter": "python",
   "pygments_lexer": "ipython3",
   "version": "3.11.13"
  }
 },
 "nbformat": 4,
 "nbformat_minor": 5
}
