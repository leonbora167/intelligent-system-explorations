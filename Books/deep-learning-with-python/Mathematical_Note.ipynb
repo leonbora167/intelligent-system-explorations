{
 "cells": [
  {
   "cell_type": "markdown",
   "id": "ddd216c0",
   "metadata": {},
   "source": [
    "# Neural Network"
   ]
  },
  {
   "cell_type": "code",
   "execution_count": 1,
   "id": "8aeb2b7d-e452-45cf-9e8a-b8e4aca170d9",
   "metadata": {},
   "outputs": [],
   "source": [
    "from keras.datasets import mnist"
   ]
  },
  {
   "cell_type": "code",
   "execution_count": 17,
   "id": "f006ff50",
   "metadata": {},
   "outputs": [
    {
     "name": "stdout",
     "output_type": "stream",
     "text": [
      "Shape of training images is (60000, 28, 28) \n",
      "Shape of testing Images is (10000, 28, 28)\n"
     ]
    }
   ],
   "source": [
    "(train_images, train_labels), (test_images, test_labels) = mnist.load_data()\n",
    "print(f\"Shape of training images is {train_images.shape} \\nShape of testing Images is {test_images.shape}\")"
   ]
  },
  {
   "cell_type": "markdown",
   "id": "9e9cd254",
   "metadata": {},
   "source": [
    "There are 60k Images (Rows). Since each Row is represented by 28x28 2D matrix we can say its a Grayscale image of shape 28x28"
   ]
  },
  {
   "cell_type": "code",
   "execution_count": null,
   "id": "9d51b746",
   "metadata": {},
   "outputs": [
    {
     "name": "stdout",
     "output_type": "stream",
     "text": [
      "[5 0 4 1 9]\n"
     ]
    }
   ],
   "source": [
    "print(train_labels[0:5])"
   ]
  },
  {
   "cell_type": "markdown",
   "id": "bfa649fa",
   "metadata": {},
   "source": [
    "The labels in MNIST case are the actual value of the image itself represented by an integer only"
   ]
  },
  {
   "cell_type": "code",
   "execution_count": 12,
   "id": "24cd604c",
   "metadata": {},
   "outputs": [],
   "source": [
    "from keras import models \n",
    "from keras import layers \n",
    "\n",
    "network = models.Sequential()\n",
    "network.add(layers.Dense(512, activation=\"relu\", input_shape = (28*28,)))\n",
    "network.add(layers.Dense(10, activation=\"softmax\"))\n",
    "\n",
    "#small note here (28*28) will throw an error since Python recognizes it as an integer (784) while (28*28,) makes it recognize as a tuple of size (784,)"
   ]
  },
  {
   "cell_type": "markdown",
   "id": "332a5ba9",
   "metadata": {},
   "source": [
    "* Layers are fundamental building blocks for the data processing. Assuming them as a filter for the data.\n",
    "* Data goes in one form and comes out in another. Hopefully a more meaningful and useful repesentation for the problem at hand.\n",
    "* Simple layers are connected together to form a chain one after the other implementing a form of progressive **distillation**.\n",
    "* Models is like a sieve for data preprocessing made up of successive increasing refined data filters -- layers. "
   ]
  },
  {
   "cell_type": "markdown",
   "id": "a91f618b",
   "metadata": {},
   "source": [
    "* **Loss function** - Measures the performance on the training/eval data to steer itself in the right direction\n",
    "* **Optimizer** - Updates the weights acc to the loss\n",
    "* **Monitoring Metrics** - Calling it Accuracy"
   ]
  },
  {
   "cell_type": "code",
   "execution_count": 13,
   "id": "ee5edea4",
   "metadata": {},
   "outputs": [],
   "source": [
    "#Compilation\n",
    "\n",
    "network.compile(optimizer=\"rmsprop\",\n",
    "                loss=\"categorical_crossentropy\",\n",
    "                metrics=[\"accuracy\"])"
   ]
  },
  {
   "cell_type": "code",
   "execution_count": 18,
   "id": "3515a6eb",
   "metadata": {},
   "outputs": [
    {
     "name": "stdout",
     "output_type": "stream",
     "text": [
      "Shape of training images is (60000, 784) \n",
      "Shape of testing Images is (10000, 784)\n"
     ]
    }
   ],
   "source": [
    "#Reshape and change data type\n",
    "\n",
    "train_images = train_images.reshape(60000, 28*28)\n",
    "train_images = train_images.astype(\"float32\")/255.0 #Normalize it too\n",
    "\n",
    "test_images = test_images.reshape(10000, 28*28)\n",
    "test_images = test_images.astype(\"float32\")/255.0 \n",
    "\n",
    "print(f\"Shape of training images is {train_images.shape} \\nShape of testing Images is {test_images.shape}\")"
   ]
  },
  {
   "cell_type": "markdown",
   "id": "5a821eb7",
   "metadata": {},
   "source": [
    "Not playing around much in the reshape work, think of it just as unpacking the 28 by 28 pixels image into a flat row of 784 pixels. So u have 60000 rows and each row has 784 columns or call it pixel data points."
   ]
  },
  {
   "cell_type": "code",
   "execution_count": 19,
   "id": "7f4c6771",
   "metadata": {},
   "outputs": [],
   "source": [
    "from keras.utils import to_categorical\n",
    "\n",
    "train_labels = to_categorical(train_labels)\n",
    "test_labels = to_categorical(test_labels)\n",
    "\n",
    "#Encoding labels using keras' in built categorical encoder"
   ]
  },
  {
   "cell_type": "code",
   "execution_count": null,
   "id": "702bbddd",
   "metadata": {},
   "outputs": [
    {
     "name": "stdout",
     "output_type": "stream",
     "text": [
      "Epoch 1/3\n"
     ]
    },
    {
     "name": "stderr",
     "output_type": "stream",
     "text": [
      "2025-07-27 16:30:10.005967: W external/local_xla/xla/tsl/framework/cpu_allocator_impl.cc:83] Allocation of 188160000 exceeds 10% of free system memory.\n",
      "2025-07-27 16:30:10.133238: W external/local_xla/xla/tsl/framework/cpu_allocator_impl.cc:83] Allocation of 188160000 exceeds 10% of free system memory.\n",
      "WARNING: All log messages before absl::InitializeLog() is called are written to STDERR\n",
      "I0000 00:00:1753614010.674773   18175 service.cc:152] XLA service 0x7789a8007470 initialized for platform CUDA (this does not guarantee that XLA will be used). Devices:\n",
      "I0000 00:00:1753614010.674791   18175 service.cc:160]   StreamExecutor device (0): NVIDIA GeForce RTX 2060, Compute Capability 7.5\n",
      "2025-07-27 16:30:10.695705: I tensorflow/compiler/mlir/tensorflow/utils/dump_mlir_util.cc:269] disabling MLIR crash reproducer, set env var `MLIR_CRASH_REPRODUCER_DIRECTORY` to enable.\n",
      "I0000 00:00:1753614010.757553   18175 cuda_dnn.cc:529] Loaded cuDNN version 90300\n"
     ]
    },
    {
     "name": "stdout",
     "output_type": "stream",
     "text": [
      "\u001b[1m 105/7500\u001b[0m \u001b[37m━━━━━━━━━━━━━━━━━━━━\u001b[0m \u001b[1m10s\u001b[0m 1ms/step - accuracy: 0.5817 - loss: 1.3292 "
     ]
    },
    {
     "name": "stderr",
     "output_type": "stream",
     "text": [
      "I0000 00:00:1753614011.266876   18175 device_compiler.h:188] Compiled cluster using XLA!  This line is logged at most once for the lifetime of the process.\n"
     ]
    },
    {
     "name": "stdout",
     "output_type": "stream",
     "text": [
      "\u001b[1m7500/7500\u001b[0m \u001b[32m━━━━━━━━━━━━━━━━━━━━\u001b[0m\u001b[37m\u001b[0m \u001b[1m12s\u001b[0m 1ms/step - accuracy: 0.9093 - loss: 0.3083\n",
      "Epoch 2/3\n",
      "\u001b[1m7500/7500\u001b[0m \u001b[32m━━━━━━━━━━━━━━━━━━━━\u001b[0m\u001b[37m\u001b[0m \u001b[1m12s\u001b[0m 2ms/step - accuracy: 0.9726 - loss: 0.1037\n",
      "Epoch 3/3\n",
      "\u001b[1m7500/7500\u001b[0m \u001b[32m━━━━━━━━━━━━━━━━━━━━\u001b[0m\u001b[37m\u001b[0m \u001b[1m10s\u001b[0m 1ms/step - accuracy: 0.9800 - loss: 0.0810\n"
     ]
    },
    {
     "data": {
      "text/plain": [
       "<keras.src.callbacks.history.History at 0x778a8c8d0c10>"
      ]
     },
     "execution_count": 20,
     "metadata": {},
     "output_type": "execute_result"
    }
   ],
   "source": [
    "network.fit(train_images,\n",
    "            train_labels,\n",
    "            epochs=3,\n",
    "            batch_size=8)\n",
    "\n",
    "#Fit is the inbuilt method for training DL models on Keras"
   ]
  },
  {
   "cell_type": "code",
   "execution_count": 23,
   "id": "c34cc15e",
   "metadata": {},
   "outputs": [
    {
     "name": "stdout",
     "output_type": "stream",
     "text": [
      "\u001b[1m313/313\u001b[0m \u001b[32m━━━━━━━━━━━━━━━━━━━━\u001b[0m\u001b[37m\u001b[0m \u001b[1m0s\u001b[0m 1ms/step - accuracy: 0.9730 - loss: 0.1361\n",
      "Test accuracy = 0.9763000011444092 \n",
      "Test Loss 0.11742827296257019\n"
     ]
    }
   ],
   "source": [
    "test_loss, test_accuracy = network.evaluate(test_images, test_labels)\n",
    "print(f\"Test accuracy = {test_accuracy} \\nTest Loss {test_loss}\")"
   ]
  },
  {
   "cell_type": "markdown",
   "id": "d4a86ed4",
   "metadata": {},
   "source": [
    "Test accuracy is sloghtly lower than the training accuracy. Its normal sometimes or maybe sometimes can be an issue of other training or data things."
   ]
  },
  {
   "cell_type": "markdown",
   "id": "fde4ec40",
   "metadata": {},
   "source": [
    "# Data Representation"
   ]
  },
  {
   "cell_type": "code",
   "execution_count": null,
   "id": "12a76d8f",
   "metadata": {},
   "outputs": [],
   "source": []
  }
 ],
 "metadata": {
  "kernelspec": {
   "display_name": "Python 3",
   "language": "python",
   "name": "python3"
  },
  "language_info": {
   "codemirror_mode": {
    "name": "ipython",
    "version": 3
   },
   "file_extension": ".py",
   "mimetype": "text/x-python",
   "name": "python",
   "nbconvert_exporter": "python",
   "pygments_lexer": "ipython3",
   "version": "3.11.13"
  }
 },
 "nbformat": 4,
 "nbformat_minor": 5
}
