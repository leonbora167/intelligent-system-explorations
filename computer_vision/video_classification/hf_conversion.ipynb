{
 "cells": [
  {
   "cell_type": "markdown",
   "id": "b87b2292",
   "metadata": {},
   "source": [
    "# Prequisites"
   ]
  },
  {
   "cell_type": "code",
   "execution_count": 9,
   "id": "7fc3c1c2",
   "metadata": {},
   "outputs": [],
   "source": [
    "from transformers import VideoMAEImageProcessor, VideoMAEForVideoClassification\n",
    "import torch\n",
    "from transformers import AutoModelForVideoClassification\n",
    "import onnx \n",
    "import torch.onnx"
   ]
  },
  {
   "cell_type": "markdown",
   "id": "46c2010d",
   "metadata": {},
   "source": [
    "# Video MAE"
   ]
  },
  {
   "cell_type": "code",
   "execution_count": null,
   "id": "cd30b6d8",
   "metadata": {},
   "outputs": [],
   "source": [
    "device = torch.device(\"cuda\")\n",
    "\n",
    "processor = VideoMAEImageProcessor.from_pretrained(\"MCG-NJU/videomae-base-finetuned-kinetics\", \n",
    "                                                   cache_dir=\"models\")"
   ]
  },
  {
   "cell_type": "code",
   "execution_count": 17,
   "id": "f8112f57",
   "metadata": {},
   "outputs": [],
   "source": [
    "device = torch.device(\"cuda\")\n",
    "model = AutoModelForVideoClassification.from_pretrained(\"MCG-NJU/videomae-base-finetuned-kinetics\",\n",
    "                                                        cache_dir = \"models\").to(device)"
   ]
  },
  {
   "cell_type": "code",
   "execution_count": 18,
   "id": "775caefe",
   "metadata": {},
   "outputs": [],
   "source": [
    "dummy_input = torch.randn(1, 16, 3, 224, 224).to(device)"
   ]
  },
  {
   "cell_type": "code",
   "execution_count": null,
   "id": "672d2c6a",
   "metadata": {},
   "outputs": [
    {
     "name": "stderr",
     "output_type": "stream",
     "text": [
      "C:\\Users\\Snowwolf\\AppData\\Local\\Temp\\ipykernel_22520\\1190836537.py:4: DeprecationWarning: You are using the legacy TorchScript-based ONNX export. Starting in PyTorch 2.9, the new torch.export-based ONNX exporter will be the default. To switch now, set dynamo=True in torch.onnx.export. This new exporter supports features like exporting LLMs with DynamicCache. We encourage you to try it and share feedback to help improve the experience. Learn more about the new export logic: https://pytorch.org/docs/stable/onnx_dynamo.html. For exporting control flow: https://pytorch.org/tutorials/beginner/onnx/export_control_flow_model_to_onnx_tutorial.html.\n",
      "  torch.onnx.export(\n",
      "c:\\Users\\Snowwolf\\miniconda3\\envs\\pyt-dl\\Lib\\site-packages\\transformers\\models\\videomae\\modeling_videomae.py:170: TracerWarning: Converting a tensor to a Python boolean might cause the trace to be incorrect. We can't record the data flow of Python values, so this value will be treated as a constant in the future. This means that the trace might not generalize to other inputs!\n",
      "  if num_channels != self.num_channels:\n",
      "c:\\Users\\Snowwolf\\miniconda3\\envs\\pyt-dl\\Lib\\site-packages\\transformers\\models\\videomae\\modeling_videomae.py:174: TracerWarning: Converting a tensor to a Python boolean might cause the trace to be incorrect. We can't record the data flow of Python values, so this value will be treated as a constant in the future. This means that the trace might not generalize to other inputs!\n",
      "  if height != self.image_size[0] or width != self.image_size[1]:\n"
     ]
    }
   ],
   "source": [
    "# Set the model to evaluation mode\n",
    "model = model.eval()\n",
    "\n",
    "torch.onnx.export(\n",
    "        video_model,\n",
    "        dummy_input,\n",
    "        \"videomae_model.onnx\",\n",
    "        opset_version=14,\n",
    "        input_names=[\"pixel_values\"],\n",
    "        output_names=[\"logits\"],s\n",
    "        dynamic_axes={\n",
    "                        \"pixel_values\": {0: \"batch_size\", 1: \"frames\"},\n",
    "                        \"logits\": {0: \"batch_size\"},},\n",
    "        )\n"
   ]
  },
  {
   "cell_type": "code",
   "execution_count": 20,
   "id": "6b301dde",
   "metadata": {},
   "outputs": [],
   "source": [
    "# Load the ONNX model\n",
    "onnx_model = onnx.load(\"videomae_model.onnx\")\n",
    "\n",
    "# Check the model\n",
    "onnx.checker.check_model(onnx_model)"
   ]
  },
  {
   "cell_type": "code",
   "execution_count": null,
   "id": "5e7a33af",
   "metadata": {},
   "outputs": [],
   "source": []
  }
 ],
 "metadata": {
  "kernelspec": {
   "display_name": "pyt-dl",
   "language": "python",
   "name": "python3"
  },
  "language_info": {
   "codemirror_mode": {
    "name": "ipython",
    "version": 3
   },
   "file_extension": ".py",
   "mimetype": "text/x-python",
   "name": "python",
   "nbconvert_exporter": "python",
   "pygments_lexer": "ipython3",
   "version": "3.11.13"
  }
 },
 "nbformat": 4,
 "nbformat_minor": 5
}
