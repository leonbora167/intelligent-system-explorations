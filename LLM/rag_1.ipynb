{
 "cells": [
  {
   "cell_type": "markdown",
   "id": "5a16e182",
   "metadata": {},
   "source": [
    "# Prequisites"
   ]
  },
  {
   "cell_type": "code",
   "execution_count": 26,
   "id": "91b2895c-5ae0-480b-b9bf-a496158ad8f6",
   "metadata": {},
   "outputs": [],
   "source": [
    "from langchain_community.embeddings import HuggingFaceBgeEmbeddings\n",
    "import os\n",
    "os.environ[\"HUGGINGFACE_HUB_CACHE\"] = \"model_cache\"\n",
    "from langchain_community.document_loaders import PyPDFLoader\n",
    "from langchain_text_splitters import RecursiveCharacterTextSplitter\n",
    "from sentence_transformers import SentenceTransformer\n",
    "from langchain_chroma import Chroma\n",
    "from langchain_community.embeddings.sentence_transformer import SentenceTransformerEmbeddings\n",
    "\n",
    "#os.environ['HF_HOME'] = \"model_cache\""
   ]
  },
  {
   "cell_type": "markdown",
   "id": "70ffa36d",
   "metadata": {},
   "source": [
    "# Text Embeddings"
   ]
  },
  {
   "cell_type": "code",
   "execution_count": 2,
   "id": "1dcfc936",
   "metadata": {},
   "outputs": [],
   "source": [
    "model_name = \"BAAI/bge-small-en-v1.5\"\n",
    "model_kwargs = {\"device\" : \"cuda:0\"}\n",
    "encode_kwargs = {\"normalize_embeddings\" : True}"
   ]
  },
  {
   "cell_type": "code",
   "execution_count": null,
   "id": "dd6f1927",
   "metadata": {},
   "outputs": [],
   "source": [
    "model = HuggingFaceBgeEmbeddings(\n",
    "    model_name = model_name,\n",
    "    model_kwargs = model_kwargs,\n",
    "    encode_kwargs = encode_kwargs\n",
    ")"
   ]
  },
  {
   "cell_type": "code",
   "execution_count": 4,
   "id": "9b6347a1",
   "metadata": {},
   "outputs": [
    {
     "name": "stderr",
     "output_type": "stream",
     "text": [
      "c:\\Users\\Snowwolf\\miniconda3\\envs\\llm_env\\Lib\\site-packages\\transformers\\models\\bert\\modeling_bert.py:435: UserWarning: 1Torch was not compiled with flash attention. (Triggered internally at C:\\cb\\pytorch_1000000000000\\work\\aten\\src\\ATen\\native\\transformers\\cuda\\sdp_utils.cpp:455.)\n",
      "  attn_output = torch.nn.functional.scaled_dot_product_attention(\n"
     ]
    },
    {
     "data": {
      "text/plain": [
       "384"
      ]
     },
     "execution_count": 4,
     "metadata": {},
     "output_type": "execute_result"
    }
   ],
   "source": [
    "embedding = model.embed_query(\"Tell me what is an apple ?\")\n",
    "len(embedding)"
   ]
  },
  {
   "cell_type": "markdown",
   "id": "9aa739cb",
   "metadata": {},
   "source": [
    "# Loading Document"
   ]
  },
  {
   "cell_type": "code",
   "execution_count": 14,
   "id": "9717c14d",
   "metadata": {
    "scrolled": true
   },
   "outputs": [
    {
     "data": {
      "text/plain": [
       "'4he was imagining things, which he had never hoped before, because he\\ndidn\\'t approve of imagination.\\nAs he pulled into the driveway of number four, the first thing he saw --\\nand it didn\\'t improve his mood -- was the tabby cat he\\'d spotted thatmorning. It was now sitting on his garden wall. He was sure it was the\\nsame one; it had the same markings around its eyes.\\n\"Shoo!\" said Mr. Dursley loudly. The cat didn\\'t move. It just gave him a\\nstern look. Was this normal cat behavior? Mr. Dursley wondered. Tryingto pull himself together, he let himself into the house. He was stilldetermined not to mention anything to his wife.\\nMrs. Dursley had had a nice, normal day. She told him over dinner all\\nabout Mrs. Next Door\\'s problems with her daughter and how Dudley hadlearned a new word (\"Won\\'t!\"). Mr. Dursley tried to act normally. WhenDudley had been put to bed, he went into the living room in time tocatch the last report on the evening news:\\n\"And finally, bird-watchers everywhere have reported that the nation\\'s\\nowls have been behaving very unusually today. Although owls normallyhunt at night and are hardly ever seen in daylight, there have beenhundreds of sightings of these birds flying in every direction sincesunrise. Experts are unable to explain why the owls have suddenlychanged their sleeping pattern.\" The newscaster allowed himself a grin.\"Most mysterious. And now, over to Jim McGuffin with the weather. Going\\nto be any more showers of owls tonight, Jim?\"\\n\"Well, Ted,\" said the weatherman, \"I don\\'t know about that, but it\\'s not\\nonly the owls that have been acting oddly today. Viewers as far apart asKent, Yorkshire, and Dundee have been phoning in to tell me that insteadof the rain I promised yesterday, they\\'ve had a downpour of shooting\\nstars! Perhaps people have been celebrating Bonfire Night early -- it\\'s\\nnot until next week, folks! But I can promise a wet night tonight.\"\\nMr. Dursley sat frozen in his armchair. Shooting stars all over Britain?\\nOwls flying by daylight? Mysterious people in cloaks all over the place?And a whisper, a whisper about the Potters...\\nMrs. Dursley came into the living room carrying two cups of tea. It was\\nno good. He\\'d have to say something to her. He cleared his throatnervously. \"Er -- Petunia, dear -- you haven\\'t heard from your sisterlately, have you?\"'"
      ]
     },
     "execution_count": 14,
     "metadata": {},
     "output_type": "execute_result"
    }
   ],
   "source": [
    "file_path = (\"Harry Potter and the Sorcerers Stone.pdf\")\n",
    "loader = PyPDFLoader(file_path, extract_images=False)\n",
    "pages = loader.load()\n",
    "pages[4].page_content"
   ]
  },
  {
   "cell_type": "markdown",
   "id": "35dd0ae9",
   "metadata": {},
   "source": [
    "# Indexing :- Split"
   ]
  },
  {
   "cell_type": "code",
   "execution_count": 16,
   "id": "370fa740",
   "metadata": {},
   "outputs": [],
   "source": [
    "text_splitter = RecursiveCharacterTextSplitter(\n",
    "    chunk_size=1000, \n",
    "    chunk_overlap=200, \n",
    "    add_start_index=True\n",
    ")\n",
    "\n",
    "all_splits = text_splitter.split_documents(pages)"
   ]
  },
  {
   "cell_type": "code",
   "execution_count": 17,
   "id": "adc02e95",
   "metadata": {},
   "outputs": [
    {
     "data": {
      "text/plain": [
       "613"
      ]
     },
     "execution_count": 17,
     "metadata": {},
     "output_type": "execute_result"
    }
   ],
   "source": [
    "len(all_splits)"
   ]
  },
  {
   "cell_type": "markdown",
   "id": "e2182e80",
   "metadata": {},
   "source": [
    "# Indexing : Store :- Vector DB"
   ]
  },
  {
   "cell_type": "code",
   "execution_count": 28,
   "id": "9983c117",
   "metadata": {},
   "outputs": [
    {
     "name": "stderr",
     "output_type": "stream",
     "text": [
      "c:\\Users\\Snowwolf\\miniconda3\\envs\\llm_env\\Lib\\site-packages\\huggingface_hub\\file_download.py:1132: FutureWarning: `resume_download` is deprecated and will be removed in version 1.0.0. Downloads always resume when possible. If you want to force a new download, use `force_download=True`.\n",
      "  warnings.warn(\n"
     ]
    }
   ],
   "source": [
    "embedding_model_function = SentenceTransformerEmbeddings(model_name = \"BAAI/bge-small-en-v1.5\")"
   ]
  },
  {
   "cell_type": "code",
   "execution_count": 36,
   "id": "432f2996",
   "metadata": {},
   "outputs": [],
   "source": [
    "vectorstore = Chroma.from_documents(documents=all_splits, \n",
    "                           embedding = embedding_model_function)"
   ]
  },
  {
   "cell_type": "code",
   "execution_count": 44,
   "id": "e74b096a",
   "metadata": {},
   "outputs": [],
   "source": [
    "query = \"What was alias of Harry Potter ?\""
   ]
  },
  {
   "cell_type": "code",
   "execution_count": 48,
   "id": "af38315d",
   "metadata": {},
   "outputs": [
    {
     "data": {
      "text/plain": [
       "[Document(page_content='\" Brocklehurst, Mandy\" went to Ravenclaw too, but \"Brown, Lavender\"\\nbecame the first new Gryffindor, and the table on the far left explodedwith cheers; Harry could see Ron\\'s twin brothers catcalling.\\n\"Bulstrode, Millicent\" then became a Slytherin. Perhaps it was Harry\\'s\\nimagination, after all he\\'d heard about Slytherin, but he thought theylooked like an unpleasant lot. He was starting to feel definitely sicknow. He remembered being picked for teams during gym at his old school.He had always been last to be chosen, not because he was no good, butbecause no one wanted Dudley to think they liked him.\\n\"Finch-Fletchley, Justin!\"\\n\"HUFFLEPUFF!\"', metadata={'page': 95, 'source': 'Harry Potter and the Sorcerers Stone.pdf', 'start_index': 769}),\n",
       " Document(page_content='\" Brocklehurst, Mandy\" went to Ravenclaw too, but \"Brown, Lavender\"\\nbecame the first new Gryffindor, and the table on the far left explodedwith cheers; Harry could see Ron\\'s twin brothers catcalling.\\n\"Bulstrode, Millicent\" then became a Slytherin. Perhaps it was Harry\\'s\\nimagination, after all he\\'d heard about Slytherin, but he thought theylooked like an unpleasant lot. He was starting to feel definitely sicknow. He remembered being picked for teams during gym at his old school.He had always been last to be chosen, not because he was no good, butbecause no one wanted Dudley to think they liked him.\\n\"Finch-Fletchley, Justin!\"\\n\"HUFFLEPUFF!\"', metadata={'page': 95, 'source': 'Harry Potter and the Sorcerers Stone.pdf', 'start_index': 769}),\n",
       " Document(page_content='\" Brocklehurst, Mandy\" went to Ravenclaw too, but \"Brown, Lavender\"\\nbecame the first new Gryffindor, and the table on the far left explodedwith cheers; Harry could see Ron\\'s twin brothers catcalling.\\n\"Bulstrode, Millicent\" then became a Slytherin. Perhaps it was Harry\\'s\\nimagination, after all he\\'d heard about Slytherin, but he thought theylooked like an unpleasant lot. He was starting to feel definitely sicknow. He remembered being picked for teams during gym at his old school.He had always been last to be chosen, not because he was no good, butbecause no one wanted Dudley to think they liked him.\\n\"Finch-Fletchley, Justin!\"\\n\"HUFFLEPUFF!\"', metadata={'page': 95, 'source': 'Harry Potter and the Sorcerers Stone.pdf', 'start_index': 769}),\n",
       " Document(page_content='145\"He\\'s just made that rule up,\" Harry muttered angrily as Snape limped\\naway. \"Wonder what\\'s wrong with his leg?\"\\n\"Dunno, but I hope it\\'s really hurting him,\" said Ron bitterly.The Gryffindor common room was very noisy that evening. Harry, Ron, and\\nHermione sat together next to a window. Hermione was checking Harry and\\nRon\\'s Charms homework for them. She would never let them copy (\"How willyou learn?\"), but by asking her to read it through, they got the rightanswers anyway.\\nHarry felt restless. He wanted Quidditch Through the Ages back, to take\\nhis mind off his nerves about tomorrow. Why should he be afraid of\\nSnape? Getting up, he told Ron and Hermione he was going to ask Snape if\\nhe could have it.\\n\"Better you than me,\" they said together, but Harry had an idea that\\nSnape wouldn\\'t refuse if there were other teachers listening.\\nHe made his way down to the staffroom and knocked. There was no answer.\\nHe knocked again. Nothing.', metadata={'page': 145, 'source': 'Harry Potter and the Sorcerers Stone.pdf', 'start_index': 0}),\n",
       " Document(page_content='145\"He\\'s just made that rule up,\" Harry muttered angrily as Snape limped\\naway. \"Wonder what\\'s wrong with his leg?\"\\n\"Dunno, but I hope it\\'s really hurting him,\" said Ron bitterly.The Gryffindor common room was very noisy that evening. Harry, Ron, and\\nHermione sat together next to a window. Hermione was checking Harry and\\nRon\\'s Charms homework for them. She would never let them copy (\"How willyou learn?\"), but by asking her to read it through, they got the rightanswers anyway.\\nHarry felt restless. He wanted Quidditch Through the Ages back, to take\\nhis mind off his nerves about tomorrow. Why should he be afraid of\\nSnape? Getting up, he told Ron and Hermione he was going to ask Snape if\\nhe could have it.\\n\"Better you than me,\" they said together, but Harry had an idea that\\nSnape wouldn\\'t refuse if there were other teachers listening.\\nHe made his way down to the staffroom and knocked. There was no answer.\\nHe knocked again. Nothing.', metadata={'page': 145, 'source': 'Harry Potter and the Sorcerers Stone.pdf', 'start_index': 0}),\n",
       " Document(page_content='145\"He\\'s just made that rule up,\" Harry muttered angrily as Snape limped\\naway. \"Wonder what\\'s wrong with his leg?\"\\n\"Dunno, but I hope it\\'s really hurting him,\" said Ron bitterly.The Gryffindor common room was very noisy that evening. Harry, Ron, and\\nHermione sat together next to a window. Hermione was checking Harry and\\nRon\\'s Charms homework for them. She would never let them copy (\"How willyou learn?\"), but by asking her to read it through, they got the rightanswers anyway.\\nHarry felt restless. He wanted Quidditch Through the Ages back, to take\\nhis mind off his nerves about tomorrow. Why should he be afraid of\\nSnape? Getting up, he told Ron and Hermione he was going to ask Snape if\\nhe could have it.\\n\"Better you than me,\" they said together, but Harry had an idea that\\nSnape wouldn\\'t refuse if there were other teachers listening.\\nHe made his way down to the staffroom and knocked. There was no answer.\\nHe knocked again. Nothing.', metadata={'page': 145, 'source': 'Harry Potter and the Sorcerers Stone.pdf', 'start_index': 0})]"
      ]
     },
     "execution_count": 48,
     "metadata": {},
     "output_type": "execute_result"
    }
   ],
   "source": [
    "retriever = vectorstore.as_retriever(search_type=\"similarity\",\n",
    "                                     search_kwargs={\"k\":6})\n",
    "\n",
    "retrieved_docs = retriever.invoke(query)\n",
    "\n",
    "retrieved_docs"
   ]
  },
  {
   "cell_type": "code",
   "execution_count": null,
   "id": "716d92a5",
   "metadata": {},
   "outputs": [],
   "source": []
  }
 ],
 "metadata": {
  "kernelspec": {
   "display_name": "Python 3 (ipykernel)",
   "language": "python",
   "name": "python3"
  },
  "language_info": {
   "codemirror_mode": {
    "name": "ipython",
    "version": 3
   },
   "file_extension": ".py",
   "mimetype": "text/x-python",
   "name": "python",
   "nbconvert_exporter": "python",
   "pygments_lexer": "ipython3",
   "version": "3.11.9"
  }
 },
 "nbformat": 4,
 "nbformat_minor": 5
}
